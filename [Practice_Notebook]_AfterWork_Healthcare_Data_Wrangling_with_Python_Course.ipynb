{
  "nbformat": 4,
  "nbformat_minor": 0,
  "metadata": {
    "colab": {
      "provenance": [],
      "collapsed_sections": [
        "sXctdxdYsMjS",
        "4FxyHTPjQtcv",
        "4MZhPHT8QxUx",
        "VFyv7fPtQ3sC",
        "f8g2Bj4DRBJY",
        "01Zqos9RRBJZ",
        "wovqCd-NRIS6",
        "YShF1dyZRIS7",
        "o3h1uPHhRWGG",
        "XfjmLj7ZRWGH",
        "zgf6eGJoRgt8",
        "QBtQ4MJqRgt9",
        "e3mKlvXHRgt9",
        "w_jAndF9Rgt-",
        "eYEn18QXRgt-",
        "eXFXbFG4SPQ1",
        "dVFDUd-uSPQ2",
        "fDW1RVwsSPQ4",
        "SZfnO_SNUFPo",
        "XVB9P-uvUFP3",
        "qkQ1X7zXeQAh",
        "C3zpnVigeQCr",
        "lYdcvlm4UGUK",
        "QIps54XnUGUL",
        "bN2sixNHSPQ5",
        "Vi38SLcCSPQ6",
        "CI6-anV1TAMB",
        "mhnMHqA4TAMX",
        "3sbyFxYlTAMY",
        "5ObtisoaTAMZ",
        "Nl3dNK2LTAMa",
        "Z1Zyr7hBTPmu",
        "g7zgL0aMTPnA",
        "uHCjGC1mTPnB",
        "L2RmsrzUTPnB",
        "dwm-S3s7TPnB",
        "TvO5kxrBTamM",
        "RYsFkqgjTamN",
        "C2D1XjmiTamO",
        "xCqp8WFHTamP",
        "Wo5vdplITamQ",
        "jxj4mM1kTzNZ",
        "StCMoDKzTzNm",
        "nU_eEWhCTzNn"
      ],
      "toc_visible": true,
      "include_colab_link": true
    },
    "kernelspec": {
      "name": "python3",
      "display_name": "Python 3"
    },
    "language_info": {
      "name": "python"
    }
  },
  "cells": [
    {
      "cell_type": "markdown",
      "metadata": {
        "id": "view-in-github",
        "colab_type": "text"
      },
      "source": [
        "<a href=\"https://colab.research.google.com/github/Odero254/intro_to_github/blob/main/%5BPractice_Notebook%5D_AfterWork_Healthcare_Data_Wrangling_with_Python_Course.ipynb\" target=\"_parent\"><img src=\"https://colab.research.google.com/assets/colab-badge.svg\" alt=\"Open In Colab\"/></a>"
      ]
    },
    {
      "cell_type": "markdown",
      "source": [
        "# [Practice Notebook] AfterWork: Healthcare Data Wrangling with Python Course"
      ],
      "metadata": {
        "id": "k1i296XOQfbM"
      }
    },
    {
      "cell_type": "markdown",
      "source": [
        "## Pre-requisite"
      ],
      "metadata": {
        "id": "sXctdxdYsMjS"
      }
    },
    {
      "cell_type": "code",
      "source": [
        "# Import pandas library and alias it as pd\n",
        "import pandas as pd"
      ],
      "metadata": {
        "id": "py9_d-qFsOxN"
      },
      "execution_count": null,
      "outputs": []
    },
    {
      "cell_type": "markdown",
      "source": [
        "# 1. Data Importation"
      ],
      "metadata": {
        "id": "4FxyHTPjQtcv"
      }
    },
    {
      "cell_type": "markdown",
      "source": [
        "## 1.1 Importing a CSV Dataset"
      ],
      "metadata": {
        "id": "4MZhPHT8QxUx"
      }
    },
    {
      "cell_type": "code",
      "source": [
        "# Read CSV data from the provided URL and store it in DataFrame df\n",
        "df = pd.read_csv(\"https://afterwork.ai/ds/e/healthcare_825s.csv\")"
      ],
      "metadata": {
        "id": "3-YJk7EXQ2q8"
      },
      "execution_count": null,
      "outputs": []
    },
    {
      "cell_type": "markdown",
      "source": [
        "### <font color=\"green\">Challenge</font>"
      ],
      "metadata": {
        "id": "VFyv7fPtQ3sC"
      }
    },
    {
      "cell_type": "markdown",
      "source": [
        "Import the CSV dataset from the URL: https://afterwork.ai/ds/ch/healthcare_21s4.csv using Pandas in Python."
      ],
      "metadata": {
        "id": "PZTQmJWhbsHr"
      }
    },
    {
      "cell_type": "code",
      "source": [
        "# Import the dataset\n",
        "# Write your code here\n"
      ],
      "metadata": {
        "id": "rJxyKNuaQ5PD"
      },
      "execution_count": null,
      "outputs": []
    },
    {
      "cell_type": "markdown",
      "source": [
        "## 1.2 Exploring the First 5 Records"
      ],
      "metadata": {
        "id": "f8g2Bj4DRBJY"
      }
    },
    {
      "cell_type": "markdown",
      "source": [
        "Exploring the first 5 records in a dataset allows us to get a quick overview of the data and identify any potential issues or patterns. This concept is important because it helps us understand the structure and content of the dataset before diving into more in-depth analysis."
      ],
      "metadata": {
        "id": "lmf7Y9uMVW9-"
      }
    },
    {
      "cell_type": "code",
      "source": [
        "# Read CSV data from URL\n",
        "data = pd.read_csv(\"https://afterwork.ai/ds/e/healthcare_xoac.csv\")\n",
        "\n",
        "# Get first 5 records\n",
        "data.head()"
      ],
      "metadata": {
        "id": "nw8etJ5qRBJZ"
      },
      "execution_count": null,
      "outputs": []
    },
    {
      "cell_type": "markdown",
      "source": [
        "### <font color=\"green\">Challenge</font>"
      ],
      "metadata": {
        "id": "01Zqos9RRBJZ"
      }
    },
    {
      "cell_type": "markdown",
      "source": [
        "Explore the first 5 records in the dataset from https://afterwork.ai/ds/ch/healthcare_e35y.csv. This will allow you to get a quick overview of the data and identify any potential issues or patterns."
      ],
      "metadata": {
        "id": "HsrJ6jERWHJx"
      }
    },
    {
      "cell_type": "code",
      "source": [
        "# Import the dataset\n",
        "\n",
        "\n",
        "# Display the dataset\n"
      ],
      "metadata": {
        "id": "6-19uQ_URBJZ"
      },
      "execution_count": null,
      "outputs": []
    },
    {
      "cell_type": "markdown",
      "source": [
        "## 1.3 Exploring the Last 5 Records"
      ],
      "metadata": {
        "id": "wovqCd-NRIS6"
      }
    },
    {
      "cell_type": "markdown",
      "source": [
        "Getting the last 5 records in a dataset allows us to view the most recent data entries. This is useful for tracking recent changes, monitoring trends, and identifying outliers at the end of a dataset.\n"
      ],
      "metadata": {
        "id": "akukW2xDYmrQ"
      }
    },
    {
      "cell_type": "code",
      "source": [
        "# Load the dataset\n",
        "df = pd.read_csv(\"https://afterwork.ai/ds/e/healthcare_cvemz.csv\")\n",
        "\n",
        "# Get the last 5 records\n",
        "df.tail()"
      ],
      "metadata": {
        "id": "ca3_nx8ZRIS7"
      },
      "execution_count": null,
      "outputs": []
    },
    {
      "cell_type": "markdown",
      "source": [
        "### <font color=\"green\">Challenge</font>"
      ],
      "metadata": {
        "id": "YShF1dyZRIS7"
      }
    },
    {
      "cell_type": "markdown",
      "source": [
        "Write a Python program that retrieves the last 5 records from the healthcare dataset located at https://afterwork.ai/ds/ch/healthcare_hfgt.csv."
      ],
      "metadata": {
        "id": "kvv07rnyZCUB"
      }
    },
    {
      "cell_type": "code",
      "source": [
        "# Load the dataset\n",
        "\n",
        "\n",
        "# Get the last 5 records\n"
      ],
      "metadata": {
        "id": "pR3bIpz7RIS7"
      },
      "execution_count": null,
      "outputs": []
    },
    {
      "cell_type": "markdown",
      "source": [
        "## 1.4 Getting a Random Sample"
      ],
      "metadata": {
        "id": "o3h1uPHhRWGG"
      }
    },
    {
      "cell_type": "markdown",
      "source": [
        "Getting a random sample based on Data Importation allows us to select a subset of data from a larger dataset in a random manner. This is important in healthcare data wrangling as it helps us to avoid bias and ensure that our analysis is based on a representative sample of the population."
      ],
      "metadata": {
        "id": "HPCWc_gBZep3"
      }
    },
    {
      "cell_type": "code",
      "source": [
        "# Load the dataset\n",
        "df = pd.read_csv(\"https://afterwork.ai/ds/e/healthcare_5zua.csv\")\n",
        "\n",
        "# Get a random sample of 5 rows from the dataset\n",
        "df.sample(5)"
      ],
      "metadata": {
        "id": "UNhWizYKRWGH"
      },
      "execution_count": null,
      "outputs": []
    },
    {
      "cell_type": "markdown",
      "source": [
        "### <font color=\"green\">Challenge</font>"
      ],
      "metadata": {
        "id": "XfjmLj7ZRWGH"
      }
    },
    {
      "cell_type": "markdown",
      "source": [
        "Create a Python program that imports the healthcare dataset from the URL: https://afterwork.ai/ds/ch/healthcare_1u45.csv and gets a random sample of 3 patients."
      ],
      "metadata": {
        "id": "_jwxMUKLbNC6"
      }
    },
    {
      "cell_type": "code",
      "source": [
        "# Load the dataset\n",
        "df = pd.read_csv(\"https://afterwork.ai/ds/ch/healthcare_1u45.csv\")\n",
        "\n",
        "# Get a random sample of 3 patients from the dataset\n"
      ],
      "metadata": {
        "id": "slNJPa8XRWGI"
      },
      "execution_count": null,
      "outputs": []
    },
    {
      "cell_type": "markdown",
      "source": [
        "# 2. Filtering Records"
      ],
      "metadata": {
        "id": "zgf6eGJoRgt8"
      }
    },
    {
      "cell_type": "markdown",
      "source": [
        "## 2.1 Filtering based on one condition"
      ],
      "metadata": {
        "id": "QBtQ4MJqRgt9"
      }
    },
    {
      "cell_type": "markdown",
      "source": [
        "Filtering based on one condition in Python using Pandas allows us to extract specific rows from a dataset that meet a certain criteria. This is important for data analysis as it helps us focus on the data that is relevant to our analysis and make informed decisions based on that data.\n",
        "\n"
      ],
      "metadata": {
        "id": "0DivdTaEcqHh"
      }
    },
    {
      "cell_type": "code",
      "source": [
        "# Read CSV data from the provided URL and store it in DataFrame df\n",
        "df = pd.read_csv(\"https://afterwork.ai/ds/e/healthcare_7oaqr.csv\")\n",
        "df.head()"
      ],
      "metadata": {
        "id": "ng5F6W37uJwc"
      },
      "execution_count": null,
      "outputs": []
    },
    {
      "cell_type": "code",
      "source": [
        "# Filter DataFrame df to include only rows where the 'Age' column is greater than 40\n",
        "filtered_df = df[df['Age'] > 40]\n",
        "\n",
        "# Print the filtered DataFrame\n",
        "filtered_df"
      ],
      "metadata": {
        "id": "0CLt5pZERgt9"
      },
      "execution_count": null,
      "outputs": []
    },
    {
      "cell_type": "markdown",
      "source": [
        "### <font color=\"green\">Challenge</font>"
      ],
      "metadata": {
        "id": "e3mKlvXHRgt9"
      }
    },
    {
      "cell_type": "markdown",
      "source": [
        "Filter the dataset from the URL: https://afterwork.ai/ds/ch/healthcare_xru8.csv to only include patients who are taking medication for their condition. Remember to use the 'Medication' column to filter the data."
      ],
      "metadata": {
        "id": "8yxG5sArdG4G"
      }
    },
    {
      "cell_type": "code",
      "source": [
        "df = pd.read_csv(\"https://afterwork.ai/ds/ch/healthcare_xru8.csv\")\n",
        "\n",
        "# Write your code here\n",
        "\n"
      ],
      "metadata": {
        "id": "kY2EYcHhRgt-"
      },
      "execution_count": null,
      "outputs": []
    },
    {
      "cell_type": "markdown",
      "source": [
        "## 2.2 Filtering based on multiple conditions"
      ],
      "metadata": {
        "id": "w_jAndF9Rgt-"
      }
    },
    {
      "cell_type": "markdown",
      "source": [
        "Filtering based on multiple conditions in Python using Pandas allows us to extract specific rows from a dataset that meet multiple criteria. This is important because it helps us narrow down our data to only the information that is relevant to our analysis, making it easier to draw insights and make decisions based on the filtered data."
      ],
      "metadata": {
        "id": "_sbjmkdFcc-i"
      }
    },
    {
      "cell_type": "code",
      "source": [
        "# Read CSV data from the provided URL and store it in DataFrame df\n",
        "df = pd.read_csv(\"https://afterwork.ai/ds/e/healthcare_nbvaq.csv\")\n",
        "\n",
        "# Filter DataFrame df to include only rows where 'Gender' is 'Female' and 'Income' is greater than 60000\n",
        "filtered_df = df[(df['Gender'] == 'Female') & (df['Income'] > 60000)]\n",
        "\n",
        "# Print the filtered DataFrame\n",
        "filtered_df"
      ],
      "metadata": {
        "id": "GaOZMycvRgt-"
      },
      "execution_count": null,
      "outputs": []
    },
    {
      "cell_type": "markdown",
      "source": [
        "### <font color=\"green\">Challenge</font>"
      ],
      "metadata": {
        "id": "eYEn18QXRgt-"
      }
    },
    {
      "cell_type": "markdown",
      "source": [
        "Filter the dataset from the URL: https://afterwork.ai/ds/ch/healthcare_f8ku.csv to only include rows where the Age is greater than 30 and the Gender is Female."
      ],
      "metadata": {
        "id": "5LsRxulVc7PW"
      }
    },
    {
      "cell_type": "code",
      "source": [
        "# Load the dataset\n",
        "df = pd.read_csv(\"https://afterwork.ai/ds/ch/healthcare_f8ku.csv\")\n",
        "\n",
        "# Write your code here\n",
        "\n"
      ],
      "metadata": {
        "id": "8BiOhGiVRgt-"
      },
      "execution_count": null,
      "outputs": []
    },
    {
      "cell_type": "markdown",
      "source": [
        "# 3. Columns"
      ],
      "metadata": {
        "id": "eXFXbFG4SPQ1"
      }
    },
    {
      "cell_type": "markdown",
      "source": [
        "## 3.1 Renaming Columns"
      ],
      "metadata": {
        "id": "dVFDUd-uSPQ2"
      }
    },
    {
      "cell_type": "markdown",
      "source": [
        "Renaming columns in Pandas allows us to change the names of the columns in a DataFrame. This is important for making our data more understandable and easier to work with."
      ],
      "metadata": {
        "id": "YLCelxKidlRT"
      }
    },
    {
      "cell_type": "code",
      "source": [
        "# Load the dataset\n",
        "df = pd.read_csv(\"https://afterwork.ai/ds/e/healthcare_and_pharmaceuticals_vutrq.csv\")\n",
        "\n",
        "# Preview the dataset\n",
        "df.head()"
      ],
      "metadata": {
        "id": "7Gme6xMcuvet"
      },
      "execution_count": null,
      "outputs": []
    },
    {
      "cell_type": "code",
      "source": [
        "# Preview the column names\n",
        "df.columns"
      ],
      "metadata": {
        "id": "O9pTfGIgu5am"
      },
      "execution_count": null,
      "outputs": []
    },
    {
      "cell_type": "code",
      "source": [
        "# Method 1: Using a dictionary to rename columns\n",
        "df = df.rename(columns={\"Patient ID\": \"Patient_ID\",\n",
        "                        \"First Name\": \"First_Name\",\n",
        "                        \"Last Name\": \"Last_Name\",\n",
        "                        \"DOB\": \"Date_of_Birth\",\n",
        "                        \"Diagnosis\": \"Condition\",\n",
        "                        \"Medication\": \"Medication_Name\",\n",
        "                        \"Prescription Date\": \"Prescription_Date\"})\n",
        "\n",
        "# Method 2: Using a list to rename columns\n",
        "# new_columns = [\"Patient_ID\", \"First_Name\", \"Last_Name\", \"Date_of_Birth\", \"Condition\", \"Medication_Name\", \"Prescription_Date\"]\n",
        "# df.columns = new_columns\n",
        "\n",
        "# Preview the dataset\n",
        "df.head()"
      ],
      "metadata": {
        "id": "KA3hgnNFSPQ4"
      },
      "execution_count": null,
      "outputs": []
    },
    {
      "cell_type": "markdown",
      "source": [
        "### <font color=\"green\">Challenge</font>"
      ],
      "metadata": {
        "id": "fDW1RVwsSPQ4"
      }
    },
    {
      "cell_type": "markdown",
      "source": [
        "Rename the columns in the given dataset from https://afterwork.ai/ds/ch/healthcare_and_pharmaceuticals_8cnq.csv to 'Patient ID', 'Full Name', 'Email', 'Phone'."
      ],
      "metadata": {
        "id": "nveqUlW7dw8n"
      }
    },
    {
      "cell_type": "code",
      "source": [
        "# Load the dataset\n",
        "df = pd.read_csv('https://afterwork.ai/ds/ch/healthcare_and_pharmaceuticals_8cnq.csv')\n",
        "\n",
        "# Rename the columns\n",
        "\n",
        "\n",
        "# Preview the dataset\n",
        "df.head()"
      ],
      "metadata": {
        "id": "JRhbHpDSSPQ5"
      },
      "execution_count": null,
      "outputs": []
    },
    {
      "cell_type": "markdown",
      "source": [
        "## 3.2 Converting Column Datatypes"
      ],
      "metadata": {
        "id": "SZfnO_SNUFPo"
      }
    },
    {
      "cell_type": "markdown",
      "source": [
        "Data type conversion in Python allows us to change the data type of a column or record in a Pandas DataFrame. This is important because different data types are suitable for different types of analysis and operations. We can convert data types to ensure consistency, accuracy, and efficiency in our data wrangling process."
      ],
      "metadata": {
        "id": "23k9Pn4Aesxj"
      }
    },
    {
      "cell_type": "code",
      "source": [
        "# Load the dataset\n",
        "df = pd.read_csv(\"https://afterwork.ai/ds/e/healthcare_and_pharmaceuticals_p9eav.csv\")\n",
        "\n",
        "# Preview the datatypes\n",
        "df.info()"
      ],
      "metadata": {
        "id": "yHwk-RHLUFP2"
      },
      "execution_count": null,
      "outputs": []
    },
    {
      "cell_type": "code",
      "source": [
        "# Convert Age column to int\n",
        "df['Age'] = df['Age'].astype(int)\n",
        "\n",
        "# Convert Dosage column to string\n",
        "df['Dosage'] = df['Dosage'].astype(str)\n",
        "\n",
        "# Preview the updated DataFrame data types\n",
        "df.info()"
      ],
      "metadata": {
        "id": "hzgZRFK4vpt6"
      },
      "execution_count": null,
      "outputs": []
    },
    {
      "cell_type": "markdown",
      "source": [
        "### <font color=\"green\">Challenge</font>"
      ],
      "metadata": {
        "id": "XVB9P-uvUFP3"
      }
    },
    {
      "cell_type": "markdown",
      "source": [
        "Convert the 'Income' column in the dataset from https://afterwork.ai/ds/ch/healthcare_and_pharmaceuticals_wic8.csv to integer data type. Remember to use the astype() function in Pandas to convert the data type."
      ],
      "metadata": {
        "id": "wnrKmaP7e183"
      }
    },
    {
      "cell_type": "code",
      "source": [
        "# Load the dataset\n",
        "df = pd.read_csv(\"https://afterwork.ai/ds/ch/healthcare_and_pharmaceuticals_wic8.csv\")\n",
        "\n",
        "# Preview the dataset\n",
        "df.head()"
      ],
      "metadata": {
        "id": "XEv3FMcLv4jz"
      },
      "execution_count": null,
      "outputs": []
    },
    {
      "cell_type": "code",
      "source": [
        "# Convert Income column to int\n",
        "\n",
        "\n",
        "# Display the updated DataFrame datatypes\n",
        "df.info()"
      ],
      "metadata": {
        "id": "eIC5DfULUFP3"
      },
      "execution_count": null,
      "outputs": []
    },
    {
      "cell_type": "markdown",
      "source": [
        "## 3.3 Replacing column values"
      ],
      "metadata": {
        "id": "qkQ1X7zXeQAh"
      }
    },
    {
      "cell_type": "markdown",
      "source": [
        "Replacing values in columns using Pandas allows us to clean and manipulate data by substituting specific values with new values. This is important for data cleaning and preprocessing tasks in healthcare data wrangling projects.\n",
        "\n"
      ],
      "metadata": {
        "id": "fyHBpf0XfTj-"
      }
    },
    {
      "cell_type": "code",
      "source": [
        "# Load the dataset\n",
        "df = pd.read_csv(\"https://afterwork.ai/ds/e/healthcare_and_pharmaceuticals_ks6v4.csv\")\n",
        "\n",
        "df.head()"
      ],
      "metadata": {
        "id": "r-wnRHJyeQCq"
      },
      "execution_count": null,
      "outputs": []
    },
    {
      "cell_type": "code",
      "source": [
        "# Replace values in the 'Diagnosis' column\n",
        "df = df['Diagnosis'].replace({'High Cholesterol': 'Hyperlipidemia', 'Anxiety': 'Generalized Anxiety Disorder'})\n",
        "\n",
        "# Replace values in the 'Medication' column\n",
        "df['Medication'].replace({'Lisinopril': 'Enalapril', 'Atorvastatin': 'Simvastatin'}, inplace=True)\n",
        "\n",
        "# Replace values in the 'Doctor' column\n",
        "df['Doctor'].replace({'Dr. Smith': 'Dr. Brown', 'Dr. Johnson': 'Dr. White'}, inplace=True)\n",
        "\n",
        "# Display the updated dataset\n",
        "df"
      ],
      "metadata": {
        "id": "X_b52zxywA_X"
      },
      "execution_count": null,
      "outputs": []
    },
    {
      "cell_type": "markdown",
      "source": [
        "### <font color=\"green\">Challenge</font>"
      ],
      "metadata": {
        "id": "C3zpnVigeQCr"
      }
    },
    {
      "cell_type": "markdown",
      "source": [
        "Replace all instances of 'Doctorate' in the 'Education' column with 'PhD' in the healthcare dataset from https://afterwork.ai/ds/ch/healthcare_mn3b.csv."
      ],
      "metadata": {
        "id": "Y3KvEHYUf0V5"
      }
    },
    {
      "cell_type": "code",
      "source": [
        "# Load the dataset\n",
        "df = pd.read_csv(\"https://afterwork.ai/ds/ch/healthcare_mn3b.csv\")\n",
        "\n",
        "df.head()"
      ],
      "metadata": {
        "id": "q38s1lrswSFU"
      },
      "execution_count": null,
      "outputs": []
    },
    {
      "cell_type": "code",
      "source": [
        "# Replace values in the 'Education' column\n",
        "\n",
        "\n",
        "# Display the updated dataset\n",
        "df"
      ],
      "metadata": {
        "id": "fjqW8isYeQCr"
      },
      "execution_count": null,
      "outputs": []
    },
    {
      "cell_type": "markdown",
      "source": [
        "## 3.4 Selecting one column"
      ],
      "metadata": {
        "id": "lYdcvlm4UGUK"
      }
    },
    {
      "cell_type": "markdown",
      "source": [
        "Selecting one column in Pandas allows us to extract a specific column from a DataFrame. This is important when we only need to work with a particular column for analysis or manipulation. We can use this concept when we want to focus on a specific variable or attribute in our dataset without having to deal with unnecessary data.\n",
        "\n"
      ],
      "metadata": {
        "id": "zwmbuT9jgWG8"
      }
    },
    {
      "cell_type": "code",
      "source": [
        "# Load the dataset\n",
        "df = pd.read_csv(\"https://afterwork.ai/ds/e/healthcare_vmy81.csv\")\n",
        "\n",
        "df.head()"
      ],
      "metadata": {
        "id": "mM3MT8f1UGUL"
      },
      "execution_count": null,
      "outputs": []
    },
    {
      "cell_type": "code",
      "source": [
        "# Select the 'Diagnosis' column\n",
        "diagnosis_column = df['Diagnosis']\n",
        "\n",
        "# Display the selected column\n",
        "diagnosis_column"
      ],
      "metadata": {
        "id": "GHmNNmLhwYhe"
      },
      "execution_count": null,
      "outputs": []
    },
    {
      "cell_type": "markdown",
      "source": [
        "### <font color=\"green\">Challenge</font>"
      ],
      "metadata": {
        "id": "QIps54XnUGUL"
      }
    },
    {
      "cell_type": "markdown",
      "source": [
        "Extract the 'Age' column from the dataset located at https://afterwork.ai/ds/ch/healthcare_tn4y.csv using Pandas."
      ],
      "metadata": {
        "id": "YImqCaa1glFO"
      }
    },
    {
      "cell_type": "code",
      "source": [
        "# Load the dataset\n",
        "df = pd.read_csv(\"https://afterwork.ai/ds/ch/healthcare_tn4y.csv\")\n",
        "\n",
        "df.head()"
      ],
      "metadata": {
        "id": "JR4cG50QwhAi"
      },
      "execution_count": null,
      "outputs": []
    },
    {
      "cell_type": "code",
      "source": [
        "# Select the 'Age' column\n",
        "\n",
        "\n",
        "# Display the selected column\n"
      ],
      "metadata": {
        "id": "uejFX9rsUGUL"
      },
      "execution_count": null,
      "outputs": []
    },
    {
      "cell_type": "markdown",
      "source": [
        "## 3.5 Selecting multiple columns"
      ],
      "metadata": {
        "id": "bN2sixNHSPQ5"
      }
    },
    {
      "cell_type": "markdown",
      "source": [
        "Selecting multiple columns in Pandas allows us to extract specific columns from a DataFrame. This is important when we only need certain columns for our analysis or visualization."
      ],
      "metadata": {
        "id": "OkZNj2GYgww7"
      }
    },
    {
      "cell_type": "code",
      "source": [
        "# Read CSV data\n",
        "df = pd.read_csv(\"https://afterwork.ai/ds/e/healthcare_qsx36.csv\")\n",
        "df.head()"
      ],
      "metadata": {
        "id": "5t5Fso4XwkOD"
      },
      "execution_count": null,
      "outputs": []
    },
    {
      "cell_type": "code",
      "source": [
        "# Select specific columns ('Name', 'Age', 'Diagnosis') from DataFrame df\n",
        "selected_columns = df[['Name', 'Age', 'Diagnosis']]\n",
        "\n",
        "# Print the selected columns\n",
        "selected_columns"
      ],
      "metadata": {
        "id": "hOb5rn-MSPQ6"
      },
      "execution_count": null,
      "outputs": []
    },
    {
      "cell_type": "markdown",
      "source": [
        "### <font color=\"green\">Challenge</font>"
      ],
      "metadata": {
        "id": "Vi38SLcCSPQ6"
      }
    },
    {
      "cell_type": "markdown",
      "source": [
        "Select the 'Name' and 'Diagnosis' columns from the healthcare dataset located at https://afterwork.ai/ds/ch/healthcare_o5mf.csv using Pandas."
      ],
      "metadata": {
        "id": "xs1pFgOAg8O-"
      }
    },
    {
      "cell_type": "code",
      "source": [
        "# Load the dataset\n",
        "df = pd.read_csv(\"https://afterwork.ai/ds/ch/healthcare_o5mf.csv\")\n",
        "\n",
        "df.head()"
      ],
      "metadata": {
        "id": "y5ag2ilrwsW4"
      },
      "execution_count": null,
      "outputs": []
    },
    {
      "cell_type": "code",
      "source": [
        "# Select the columns\n",
        "\n",
        "\n",
        "# Print the selected columns\n",
        "selected_columns"
      ],
      "metadata": {
        "id": "F5xrG8-bSPQ7"
      },
      "execution_count": null,
      "outputs": []
    },
    {
      "cell_type": "markdown",
      "source": [
        "# 4. Sorting"
      ],
      "metadata": {
        "id": "CI6-anV1TAMB"
      }
    },
    {
      "cell_type": "markdown",
      "source": [
        "## 4.1 Sorting in ascending order"
      ],
      "metadata": {
        "id": "mhnMHqA4TAMX"
      }
    },
    {
      "cell_type": "markdown",
      "source": [
        "Sorting in ascending order in Python allows us to arrange data in a specified column from smallest to largest values. We can use this concept when we want to see the data in a specific column sorted from lowest to highest values. For example, we may want to sort a column of patient ages in ascending order to see the distribution of ages in a healthcare dataset."
      ],
      "metadata": {
        "id": "R_0MwnClhvBm"
      }
    },
    {
      "cell_type": "code",
      "source": [
        "# Load the dataset\n",
        "df = pd.read_csv(\"https://afterwork.ai/ds/e/healthcare_qcpez.csv\")\n",
        "df.head()"
      ],
      "metadata": {
        "id": "gPxaqGNuwvuW"
      },
      "execution_count": null,
      "outputs": []
    },
    {
      "cell_type": "code",
      "source": [
        "# Sort the 'Age' column in ascending order\n",
        "df_sorted = df.sort_values(by='Age', ascending=True)\n",
        "\n",
        "# Display the sorted dataframe\n",
        "df_sorted"
      ],
      "metadata": {
        "id": "iPubjKpiTAMY"
      },
      "execution_count": null,
      "outputs": []
    },
    {
      "cell_type": "markdown",
      "source": [
        "### <font color=\"green\">Challenge</font>"
      ],
      "metadata": {
        "id": "3sbyFxYlTAMY"
      }
    },
    {
      "cell_type": "markdown",
      "source": [
        "Sort the 'Age' column in ascending order for the healthcare dataset located at https://afterwork.ai/ds/ch/healthcare_dfjo.csv. This will help you better understand the distribution of ages in the dataset."
      ],
      "metadata": {
        "id": "XTS8enNSh3by"
      }
    },
    {
      "cell_type": "code",
      "source": [
        "# Load the dataset\n",
        "df = pd.read_csv(\"https://afterwork.ai/ds/ch/healthcare_dfjo.csv\")\n",
        "df.head()"
      ],
      "metadata": {
        "id": "MdXPha63w4OS"
      },
      "execution_count": null,
      "outputs": []
    },
    {
      "cell_type": "code",
      "source": [
        "# Sort the 'Age' column in ascending order\n",
        "\n",
        "\n",
        "# Display the sorted dataframe\n",
        "df_sorted"
      ],
      "metadata": {
        "id": "tANQKTmxw1np"
      },
      "execution_count": null,
      "outputs": []
    },
    {
      "cell_type": "markdown",
      "source": [
        "## 4.2 Sorting in descending order"
      ],
      "metadata": {
        "id": "5ObtisoaTAMZ"
      }
    },
    {
      "cell_type": "markdown",
      "source": [
        "Sorting in descending order in Python allows us to arrange data in a reverse order based on a specific column. This is useful when we want to see the highest values first or when we want to rank data from highest to lowest.\n",
        "\n"
      ],
      "metadata": {
        "id": "qEvwiK_1h_n3"
      }
    },
    {
      "cell_type": "code",
      "source": [
        "# Read CSV data\n",
        "df = pd.read_csv(\"https://afterwork.ai/ds/e/healthcare_y8205.csv\")\n",
        "df.head()"
      ],
      "metadata": {
        "id": "V_HEpBBsw-mm"
      },
      "execution_count": null,
      "outputs": []
    },
    {
      "cell_type": "code",
      "source": [
        "# Sort DataFrame df by 'Total Charges' column in descending order\n",
        "df_sorted = df.sort_values(by='Total Charges', ascending=False)\n",
        "\n",
        "# Print the sorted DataFrame\n",
        "df_sorted"
      ],
      "metadata": {
        "id": "pbhcVF-rTAMZ"
      },
      "execution_count": null,
      "outputs": []
    },
    {
      "cell_type": "markdown",
      "source": [
        "### <font color=\"green\">Challenge</font>"
      ],
      "metadata": {
        "id": "Nl3dNK2LTAMa"
      }
    },
    {
      "cell_type": "markdown",
      "source": [
        "Sort the 'Income' column in descending order for the healthcare dataset located at https://afterwork.ai/ds/ch/healthcare_4fy1.csv using Python."
      ],
      "metadata": {
        "id": "u_16T3IjiQ7I"
      }
    },
    {
      "cell_type": "code",
      "source": [
        "# Preview the dataset\n",
        "df = pd.read_csv(\"https://afterwork.ai/ds/ch/healthcare_4fy1.csv\")\n",
        "\n",
        "df.head()"
      ],
      "metadata": {
        "id": "KbtBd8RJxExi"
      },
      "execution_count": null,
      "outputs": []
    },
    {
      "cell_type": "code",
      "source": [
        "# Sort the Income column in descending order\n",
        "\n",
        "\n",
        "# Print the sorted dataset\n",
        "df_sorted"
      ],
      "metadata": {
        "id": "e4tyEoWxTAMa"
      },
      "execution_count": null,
      "outputs": []
    },
    {
      "cell_type": "markdown",
      "source": [
        "# 5. Duplicates"
      ],
      "metadata": {
        "id": "Z1Zyr7hBTPmu"
      }
    },
    {
      "cell_type": "markdown",
      "source": [
        "## 5.1 Identify duplicates"
      ],
      "metadata": {
        "id": "g7zgL0aMTPnA"
      }
    },
    {
      "cell_type": "markdown",
      "source": [
        "Getting duplicate records based on Duplicates allows us to identify and extract rows in a dataset that have identical values in specified columns. This concept is important because it helps us identify and handle duplicate data, which can skew analysis results and lead to inaccurate insights. We can use this concept when we want to find and remove duplicate entries in a healthcare dataset to ensure data accuracy and integrity.\n",
        "\n"
      ],
      "metadata": {
        "id": "qzAMx6fxjt3A"
      }
    },
    {
      "cell_type": "code",
      "source": [
        "# Read CSV data from the provided URL and store it in DataFrame df\n",
        "df = pd.read_csv(\"https://archive.org/download/healthcare_vsmh6/healthcare_695in.csv\")\n",
        "df.head()"
      ],
      "metadata": {
        "id": "7bWiDU2TxM5k"
      },
      "execution_count": null,
      "outputs": []
    },
    {
      "cell_type": "code",
      "source": [
        "# Find duplicate rows based on the 'Phone Number' column and keep all duplicates\n",
        "duplicates = df[df.duplicated(subset=['Phone Number'], keep=False)]\n",
        "\n",
        "# Print the duplicate rows\n",
        "duplicates"
      ],
      "metadata": {
        "id": "AIknj1VmTPnA"
      },
      "execution_count": null,
      "outputs": []
    },
    {
      "cell_type": "markdown",
      "source": [
        "### <font color=\"green\">Challenge</font>"
      ],
      "metadata": {
        "id": "uHCjGC1mTPnB"
      }
    },
    {
      "cell_type": "markdown",
      "source": [
        "Identify duplicate patient records based on 'Patient ID' in the healthcare dataset from the URL: https://archive.org/download/healthcare_vsmh6/healthcare_1o39.csv. Remember to use the concept of getting duplicate records based on 'Patient ID' to extract rows with identical values in this column."
      ],
      "metadata": {
        "id": "RA6vhNBJlZL8"
      }
    },
    {
      "cell_type": "code",
      "source": [
        "# Load the dataset\n",
        "df = pd.read_csv(\"https://archive.org/download/healthcare_vsmh6/healthcare_1o39.csv\")\n",
        "\n",
        "# Preview the dataset\n",
        "df.head()"
      ],
      "metadata": {
        "colab": {
          "base_uri": "https://localhost:8080/",
          "height": 206
        },
        "id": "8rJc3Mx_xU5J",
        "outputId": "b43da09a-9f5d-4c16-b40a-c337d9dc267a"
      },
      "execution_count": null,
      "outputs": [
        {
          "output_type": "execute_result",
          "data": {
            "text/plain": [
              "          Name                   Email  Phone Number\n",
              "0     John Doe     johndoe@example.com  123-456-7890\n",
              "1   Jane Smith   janesmith@example.com  555-555-5555\n",
              "2  Bob Johnson  bobjohnson@example.com  999-999-9999\n",
              "3    Sarah Lee    sarahlee@example.com  555-123-4567\n",
              "4  Anna Nguyen  annanguyen@example.com  222-333-4444"
            ],
            "text/html": [
              "\n",
              "  <div id=\"df-359119b8-92aa-4328-b3fc-c0e5904e5177\" class=\"colab-df-container\">\n",
              "    <div>\n",
              "<style scoped>\n",
              "    .dataframe tbody tr th:only-of-type {\n",
              "        vertical-align: middle;\n",
              "    }\n",
              "\n",
              "    .dataframe tbody tr th {\n",
              "        vertical-align: top;\n",
              "    }\n",
              "\n",
              "    .dataframe thead th {\n",
              "        text-align: right;\n",
              "    }\n",
              "</style>\n",
              "<table border=\"1\" class=\"dataframe\">\n",
              "  <thead>\n",
              "    <tr style=\"text-align: right;\">\n",
              "      <th></th>\n",
              "      <th>Name</th>\n",
              "      <th>Email</th>\n",
              "      <th>Phone Number</th>\n",
              "    </tr>\n",
              "  </thead>\n",
              "  <tbody>\n",
              "    <tr>\n",
              "      <th>0</th>\n",
              "      <td>John Doe</td>\n",
              "      <td>johndoe@example.com</td>\n",
              "      <td>123-456-7890</td>\n",
              "    </tr>\n",
              "    <tr>\n",
              "      <th>1</th>\n",
              "      <td>Jane Smith</td>\n",
              "      <td>janesmith@example.com</td>\n",
              "      <td>555-555-5555</td>\n",
              "    </tr>\n",
              "    <tr>\n",
              "      <th>2</th>\n",
              "      <td>Bob Johnson</td>\n",
              "      <td>bobjohnson@example.com</td>\n",
              "      <td>999-999-9999</td>\n",
              "    </tr>\n",
              "    <tr>\n",
              "      <th>3</th>\n",
              "      <td>Sarah Lee</td>\n",
              "      <td>sarahlee@example.com</td>\n",
              "      <td>555-123-4567</td>\n",
              "    </tr>\n",
              "    <tr>\n",
              "      <th>4</th>\n",
              "      <td>Anna Nguyen</td>\n",
              "      <td>annanguyen@example.com</td>\n",
              "      <td>222-333-4444</td>\n",
              "    </tr>\n",
              "  </tbody>\n",
              "</table>\n",
              "</div>\n",
              "    <div class=\"colab-df-buttons\">\n",
              "\n",
              "  <div class=\"colab-df-container\">\n",
              "    <button class=\"colab-df-convert\" onclick=\"convertToInteractive('df-359119b8-92aa-4328-b3fc-c0e5904e5177')\"\n",
              "            title=\"Convert this dataframe to an interactive table.\"\n",
              "            style=\"display:none;\">\n",
              "\n",
              "  <svg xmlns=\"http://www.w3.org/2000/svg\" height=\"24px\" viewBox=\"0 -960 960 960\">\n",
              "    <path d=\"M120-120v-720h720v720H120Zm60-500h600v-160H180v160Zm220 220h160v-160H400v160Zm0 220h160v-160H400v160ZM180-400h160v-160H180v160Zm440 0h160v-160H620v160ZM180-180h160v-160H180v160Zm440 0h160v-160H620v160Z\"/>\n",
              "  </svg>\n",
              "    </button>\n",
              "\n",
              "  <style>\n",
              "    .colab-df-container {\n",
              "      display:flex;\n",
              "      gap: 12px;\n",
              "    }\n",
              "\n",
              "    .colab-df-convert {\n",
              "      background-color: #E8F0FE;\n",
              "      border: none;\n",
              "      border-radius: 50%;\n",
              "      cursor: pointer;\n",
              "      display: none;\n",
              "      fill: #1967D2;\n",
              "      height: 32px;\n",
              "      padding: 0 0 0 0;\n",
              "      width: 32px;\n",
              "    }\n",
              "\n",
              "    .colab-df-convert:hover {\n",
              "      background-color: #E2EBFA;\n",
              "      box-shadow: 0px 1px 2px rgba(60, 64, 67, 0.3), 0px 1px 3px 1px rgba(60, 64, 67, 0.15);\n",
              "      fill: #174EA6;\n",
              "    }\n",
              "\n",
              "    .colab-df-buttons div {\n",
              "      margin-bottom: 4px;\n",
              "    }\n",
              "\n",
              "    [theme=dark] .colab-df-convert {\n",
              "      background-color: #3B4455;\n",
              "      fill: #D2E3FC;\n",
              "    }\n",
              "\n",
              "    [theme=dark] .colab-df-convert:hover {\n",
              "      background-color: #434B5C;\n",
              "      box-shadow: 0px 1px 3px 1px rgba(0, 0, 0, 0.15);\n",
              "      filter: drop-shadow(0px 1px 2px rgba(0, 0, 0, 0.3));\n",
              "      fill: #FFFFFF;\n",
              "    }\n",
              "  </style>\n",
              "\n",
              "    <script>\n",
              "      const buttonEl =\n",
              "        document.querySelector('#df-359119b8-92aa-4328-b3fc-c0e5904e5177 button.colab-df-convert');\n",
              "      buttonEl.style.display =\n",
              "        google.colab.kernel.accessAllowed ? 'block' : 'none';\n",
              "\n",
              "      async function convertToInteractive(key) {\n",
              "        const element = document.querySelector('#df-359119b8-92aa-4328-b3fc-c0e5904e5177');\n",
              "        const dataTable =\n",
              "          await google.colab.kernel.invokeFunction('convertToInteractive',\n",
              "                                                    [key], {});\n",
              "        if (!dataTable) return;\n",
              "\n",
              "        const docLinkHtml = 'Like what you see? Visit the ' +\n",
              "          '<a target=\"_blank\" href=https://colab.research.google.com/notebooks/data_table.ipynb>data table notebook</a>'\n",
              "          + ' to learn more about interactive tables.';\n",
              "        element.innerHTML = '';\n",
              "        dataTable['output_type'] = 'display_data';\n",
              "        await google.colab.output.renderOutput(dataTable, element);\n",
              "        const docLink = document.createElement('div');\n",
              "        docLink.innerHTML = docLinkHtml;\n",
              "        element.appendChild(docLink);\n",
              "      }\n",
              "    </script>\n",
              "  </div>\n",
              "\n",
              "\n",
              "<div id=\"df-5b766d5b-9988-44a3-9810-501ab3d2e16b\">\n",
              "  <button class=\"colab-df-quickchart\" onclick=\"quickchart('df-5b766d5b-9988-44a3-9810-501ab3d2e16b')\"\n",
              "            title=\"Suggest charts\"\n",
              "            style=\"display:none;\">\n",
              "\n",
              "<svg xmlns=\"http://www.w3.org/2000/svg\" height=\"24px\"viewBox=\"0 0 24 24\"\n",
              "     width=\"24px\">\n",
              "    <g>\n",
              "        <path d=\"M19 3H5c-1.1 0-2 .9-2 2v14c0 1.1.9 2 2 2h14c1.1 0 2-.9 2-2V5c0-1.1-.9-2-2-2zM9 17H7v-7h2v7zm4 0h-2V7h2v10zm4 0h-2v-4h2v4z\"/>\n",
              "    </g>\n",
              "</svg>\n",
              "  </button>\n",
              "\n",
              "<style>\n",
              "  .colab-df-quickchart {\n",
              "      --bg-color: #E8F0FE;\n",
              "      --fill-color: #1967D2;\n",
              "      --hover-bg-color: #E2EBFA;\n",
              "      --hover-fill-color: #174EA6;\n",
              "      --disabled-fill-color: #AAA;\n",
              "      --disabled-bg-color: #DDD;\n",
              "  }\n",
              "\n",
              "  [theme=dark] .colab-df-quickchart {\n",
              "      --bg-color: #3B4455;\n",
              "      --fill-color: #D2E3FC;\n",
              "      --hover-bg-color: #434B5C;\n",
              "      --hover-fill-color: #FFFFFF;\n",
              "      --disabled-bg-color: #3B4455;\n",
              "      --disabled-fill-color: #666;\n",
              "  }\n",
              "\n",
              "  .colab-df-quickchart {\n",
              "    background-color: var(--bg-color);\n",
              "    border: none;\n",
              "    border-radius: 50%;\n",
              "    cursor: pointer;\n",
              "    display: none;\n",
              "    fill: var(--fill-color);\n",
              "    height: 32px;\n",
              "    padding: 0;\n",
              "    width: 32px;\n",
              "  }\n",
              "\n",
              "  .colab-df-quickchart:hover {\n",
              "    background-color: var(--hover-bg-color);\n",
              "    box-shadow: 0 1px 2px rgba(60, 64, 67, 0.3), 0 1px 3px 1px rgba(60, 64, 67, 0.15);\n",
              "    fill: var(--button-hover-fill-color);\n",
              "  }\n",
              "\n",
              "  .colab-df-quickchart-complete:disabled,\n",
              "  .colab-df-quickchart-complete:disabled:hover {\n",
              "    background-color: var(--disabled-bg-color);\n",
              "    fill: var(--disabled-fill-color);\n",
              "    box-shadow: none;\n",
              "  }\n",
              "\n",
              "  .colab-df-spinner {\n",
              "    border: 2px solid var(--fill-color);\n",
              "    border-color: transparent;\n",
              "    border-bottom-color: var(--fill-color);\n",
              "    animation:\n",
              "      spin 1s steps(1) infinite;\n",
              "  }\n",
              "\n",
              "  @keyframes spin {\n",
              "    0% {\n",
              "      border-color: transparent;\n",
              "      border-bottom-color: var(--fill-color);\n",
              "      border-left-color: var(--fill-color);\n",
              "    }\n",
              "    20% {\n",
              "      border-color: transparent;\n",
              "      border-left-color: var(--fill-color);\n",
              "      border-top-color: var(--fill-color);\n",
              "    }\n",
              "    30% {\n",
              "      border-color: transparent;\n",
              "      border-left-color: var(--fill-color);\n",
              "      border-top-color: var(--fill-color);\n",
              "      border-right-color: var(--fill-color);\n",
              "    }\n",
              "    40% {\n",
              "      border-color: transparent;\n",
              "      border-right-color: var(--fill-color);\n",
              "      border-top-color: var(--fill-color);\n",
              "    }\n",
              "    60% {\n",
              "      border-color: transparent;\n",
              "      border-right-color: var(--fill-color);\n",
              "    }\n",
              "    80% {\n",
              "      border-color: transparent;\n",
              "      border-right-color: var(--fill-color);\n",
              "      border-bottom-color: var(--fill-color);\n",
              "    }\n",
              "    90% {\n",
              "      border-color: transparent;\n",
              "      border-bottom-color: var(--fill-color);\n",
              "    }\n",
              "  }\n",
              "</style>\n",
              "\n",
              "  <script>\n",
              "    async function quickchart(key) {\n",
              "      const quickchartButtonEl =\n",
              "        document.querySelector('#' + key + ' button');\n",
              "      quickchartButtonEl.disabled = true;  // To prevent multiple clicks.\n",
              "      quickchartButtonEl.classList.add('colab-df-spinner');\n",
              "      try {\n",
              "        const charts = await google.colab.kernel.invokeFunction(\n",
              "            'suggestCharts', [key], {});\n",
              "      } catch (error) {\n",
              "        console.error('Error during call to suggestCharts:', error);\n",
              "      }\n",
              "      quickchartButtonEl.classList.remove('colab-df-spinner');\n",
              "      quickchartButtonEl.classList.add('colab-df-quickchart-complete');\n",
              "    }\n",
              "    (() => {\n",
              "      let quickchartButtonEl =\n",
              "        document.querySelector('#df-5b766d5b-9988-44a3-9810-501ab3d2e16b button');\n",
              "      quickchartButtonEl.style.display =\n",
              "        google.colab.kernel.accessAllowed ? 'block' : 'none';\n",
              "    })();\n",
              "  </script>\n",
              "</div>\n",
              "    </div>\n",
              "  </div>\n"
            ],
            "application/vnd.google.colaboratory.intrinsic+json": {
              "type": "dataframe",
              "variable_name": "df",
              "summary": "{\n  \"name\": \"df\",\n  \"rows\": 6,\n  \"fields\": [\n    {\n      \"column\": \"Name\",\n      \"properties\": {\n        \"dtype\": \"string\",\n        \"num_unique_values\": 6,\n        \"samples\": [\n          \"John Doe\",\n          \"Jane Smith\",\n          \"Mark Johnson\"\n        ],\n        \"semantic_type\": \"\",\n        \"description\": \"\"\n      }\n    },\n    {\n      \"column\": \"Email\",\n      \"properties\": {\n        \"dtype\": \"string\",\n        \"num_unique_values\": 6,\n        \"samples\": [\n          \"johndoe@example.com\",\n          \"janesmith@example.com\",\n          \"markjohnson@example.com\"\n        ],\n        \"semantic_type\": \"\",\n        \"description\": \"\"\n      }\n    },\n    {\n      \"column\": \"Phone Number\",\n      \"properties\": {\n        \"dtype\": \"string\",\n        \"num_unique_values\": 6,\n        \"samples\": [\n          \"123-456-7890\",\n          \"555-555-5555\",\n          \"111-222-3333\"\n        ],\n        \"semantic_type\": \"\",\n        \"description\": \"\"\n      }\n    }\n  ]\n}"
            }
          },
          "metadata": {},
          "execution_count": 8
        }
      ]
    },
    {
      "cell_type": "code",
      "source": [
        "# Write your code here\n",
        "\n",
        "\n",
        "# Preview the duplicates\n",
        "duplicates"
      ],
      "metadata": {
        "id": "JlIi0CXcTPnB"
      },
      "execution_count": null,
      "outputs": []
    },
    {
      "cell_type": "markdown",
      "source": [
        "## 5.2 Removing duplicates"
      ],
      "metadata": {
        "id": "L2RmsrzUTPnB"
      }
    },
    {
      "cell_type": "markdown",
      "source": [
        "Removing duplicate records in a dataset allows us to clean and organize our data more effectively. Duplicate records can skew analysis results and lead to inaccurate insights. To remove duplicate records, we first identify the columns that define a duplicate record. We then use the Pandas library in Python to filter out duplicate records based on these columns. This ensures that our dataset contains only unique records, improving the quality of our analysis and decision-making."
      ],
      "metadata": {
        "id": "5KuQK7YukMbK"
      }
    },
    {
      "cell_type": "code",
      "source": [
        "# Load the dataset\n",
        "df = pd.read_csv(\"https://archive.org/download/healthcare_vsmh6/healthcare_vsmh6.csv\")\n",
        "\n",
        "# Preview the dataset\n",
        "df.head()"
      ],
      "metadata": {
        "id": "ll47thg5TPnB",
        "colab": {
          "base_uri": "https://localhost:8080/",
          "height": 206
        },
        "outputId": "47b4c0f8-8066-4ef9-960b-fb6bc11ac2fb"
      },
      "execution_count": null,
      "outputs": [
        {
          "output_type": "execute_result",
          "data": {
            "text/plain": [
              "   Patient ID         Name         DOB  Gender         Diagnosis    Medication\n",
              "0           1     John Doe  1985-07-15    Male      Hypertension    Lisinopril\n",
              "1           2   Jane Smith  1979-04-20  Female          Diabetes     Metformin\n",
              "2           3  Bob Johnson  1963-11-30    Male  High Cholesterol  Atorvastatin\n",
              "3           4    Sarah Lee  1990-02-10  Female            Asthma     Albuterol\n",
              "4           5  Anna Nguyen  1976-09-25  Female        Depression    Sertraline"
            ],
            "text/html": [
              "\n",
              "  <div id=\"df-ac9429b1-b85a-4e91-bc81-327ac014fd4a\" class=\"colab-df-container\">\n",
              "    <div>\n",
              "<style scoped>\n",
              "    .dataframe tbody tr th:only-of-type {\n",
              "        vertical-align: middle;\n",
              "    }\n",
              "\n",
              "    .dataframe tbody tr th {\n",
              "        vertical-align: top;\n",
              "    }\n",
              "\n",
              "    .dataframe thead th {\n",
              "        text-align: right;\n",
              "    }\n",
              "</style>\n",
              "<table border=\"1\" class=\"dataframe\">\n",
              "  <thead>\n",
              "    <tr style=\"text-align: right;\">\n",
              "      <th></th>\n",
              "      <th>Patient ID</th>\n",
              "      <th>Name</th>\n",
              "      <th>DOB</th>\n",
              "      <th>Gender</th>\n",
              "      <th>Diagnosis</th>\n",
              "      <th>Medication</th>\n",
              "    </tr>\n",
              "  </thead>\n",
              "  <tbody>\n",
              "    <tr>\n",
              "      <th>0</th>\n",
              "      <td>1</td>\n",
              "      <td>John Doe</td>\n",
              "      <td>1985-07-15</td>\n",
              "      <td>Male</td>\n",
              "      <td>Hypertension</td>\n",
              "      <td>Lisinopril</td>\n",
              "    </tr>\n",
              "    <tr>\n",
              "      <th>1</th>\n",
              "      <td>2</td>\n",
              "      <td>Jane Smith</td>\n",
              "      <td>1979-04-20</td>\n",
              "      <td>Female</td>\n",
              "      <td>Diabetes</td>\n",
              "      <td>Metformin</td>\n",
              "    </tr>\n",
              "    <tr>\n",
              "      <th>2</th>\n",
              "      <td>3</td>\n",
              "      <td>Bob Johnson</td>\n",
              "      <td>1963-11-30</td>\n",
              "      <td>Male</td>\n",
              "      <td>High Cholesterol</td>\n",
              "      <td>Atorvastatin</td>\n",
              "    </tr>\n",
              "    <tr>\n",
              "      <th>3</th>\n",
              "      <td>4</td>\n",
              "      <td>Sarah Lee</td>\n",
              "      <td>1990-02-10</td>\n",
              "      <td>Female</td>\n",
              "      <td>Asthma</td>\n",
              "      <td>Albuterol</td>\n",
              "    </tr>\n",
              "    <tr>\n",
              "      <th>4</th>\n",
              "      <td>5</td>\n",
              "      <td>Anna Nguyen</td>\n",
              "      <td>1976-09-25</td>\n",
              "      <td>Female</td>\n",
              "      <td>Depression</td>\n",
              "      <td>Sertraline</td>\n",
              "    </tr>\n",
              "  </tbody>\n",
              "</table>\n",
              "</div>\n",
              "    <div class=\"colab-df-buttons\">\n",
              "\n",
              "  <div class=\"colab-df-container\">\n",
              "    <button class=\"colab-df-convert\" onclick=\"convertToInteractive('df-ac9429b1-b85a-4e91-bc81-327ac014fd4a')\"\n",
              "            title=\"Convert this dataframe to an interactive table.\"\n",
              "            style=\"display:none;\">\n",
              "\n",
              "  <svg xmlns=\"http://www.w3.org/2000/svg\" height=\"24px\" viewBox=\"0 -960 960 960\">\n",
              "    <path d=\"M120-120v-720h720v720H120Zm60-500h600v-160H180v160Zm220 220h160v-160H400v160Zm0 220h160v-160H400v160ZM180-400h160v-160H180v160Zm440 0h160v-160H620v160ZM180-180h160v-160H180v160Zm440 0h160v-160H620v160Z\"/>\n",
              "  </svg>\n",
              "    </button>\n",
              "\n",
              "  <style>\n",
              "    .colab-df-container {\n",
              "      display:flex;\n",
              "      gap: 12px;\n",
              "    }\n",
              "\n",
              "    .colab-df-convert {\n",
              "      background-color: #E8F0FE;\n",
              "      border: none;\n",
              "      border-radius: 50%;\n",
              "      cursor: pointer;\n",
              "      display: none;\n",
              "      fill: #1967D2;\n",
              "      height: 32px;\n",
              "      padding: 0 0 0 0;\n",
              "      width: 32px;\n",
              "    }\n",
              "\n",
              "    .colab-df-convert:hover {\n",
              "      background-color: #E2EBFA;\n",
              "      box-shadow: 0px 1px 2px rgba(60, 64, 67, 0.3), 0px 1px 3px 1px rgba(60, 64, 67, 0.15);\n",
              "      fill: #174EA6;\n",
              "    }\n",
              "\n",
              "    .colab-df-buttons div {\n",
              "      margin-bottom: 4px;\n",
              "    }\n",
              "\n",
              "    [theme=dark] .colab-df-convert {\n",
              "      background-color: #3B4455;\n",
              "      fill: #D2E3FC;\n",
              "    }\n",
              "\n",
              "    [theme=dark] .colab-df-convert:hover {\n",
              "      background-color: #434B5C;\n",
              "      box-shadow: 0px 1px 3px 1px rgba(0, 0, 0, 0.15);\n",
              "      filter: drop-shadow(0px 1px 2px rgba(0, 0, 0, 0.3));\n",
              "      fill: #FFFFFF;\n",
              "    }\n",
              "  </style>\n",
              "\n",
              "    <script>\n",
              "      const buttonEl =\n",
              "        document.querySelector('#df-ac9429b1-b85a-4e91-bc81-327ac014fd4a button.colab-df-convert');\n",
              "      buttonEl.style.display =\n",
              "        google.colab.kernel.accessAllowed ? 'block' : 'none';\n",
              "\n",
              "      async function convertToInteractive(key) {\n",
              "        const element = document.querySelector('#df-ac9429b1-b85a-4e91-bc81-327ac014fd4a');\n",
              "        const dataTable =\n",
              "          await google.colab.kernel.invokeFunction('convertToInteractive',\n",
              "                                                    [key], {});\n",
              "        if (!dataTable) return;\n",
              "\n",
              "        const docLinkHtml = 'Like what you see? Visit the ' +\n",
              "          '<a target=\"_blank\" href=https://colab.research.google.com/notebooks/data_table.ipynb>data table notebook</a>'\n",
              "          + ' to learn more about interactive tables.';\n",
              "        element.innerHTML = '';\n",
              "        dataTable['output_type'] = 'display_data';\n",
              "        await google.colab.output.renderOutput(dataTable, element);\n",
              "        const docLink = document.createElement('div');\n",
              "        docLink.innerHTML = docLinkHtml;\n",
              "        element.appendChild(docLink);\n",
              "      }\n",
              "    </script>\n",
              "  </div>\n",
              "\n",
              "\n",
              "<div id=\"df-ff364923-e588-4de8-a712-999fc09efd36\">\n",
              "  <button class=\"colab-df-quickchart\" onclick=\"quickchart('df-ff364923-e588-4de8-a712-999fc09efd36')\"\n",
              "            title=\"Suggest charts\"\n",
              "            style=\"display:none;\">\n",
              "\n",
              "<svg xmlns=\"http://www.w3.org/2000/svg\" height=\"24px\"viewBox=\"0 0 24 24\"\n",
              "     width=\"24px\">\n",
              "    <g>\n",
              "        <path d=\"M19 3H5c-1.1 0-2 .9-2 2v14c0 1.1.9 2 2 2h14c1.1 0 2-.9 2-2V5c0-1.1-.9-2-2-2zM9 17H7v-7h2v7zm4 0h-2V7h2v10zm4 0h-2v-4h2v4z\"/>\n",
              "    </g>\n",
              "</svg>\n",
              "  </button>\n",
              "\n",
              "<style>\n",
              "  .colab-df-quickchart {\n",
              "      --bg-color: #E8F0FE;\n",
              "      --fill-color: #1967D2;\n",
              "      --hover-bg-color: #E2EBFA;\n",
              "      --hover-fill-color: #174EA6;\n",
              "      --disabled-fill-color: #AAA;\n",
              "      --disabled-bg-color: #DDD;\n",
              "  }\n",
              "\n",
              "  [theme=dark] .colab-df-quickchart {\n",
              "      --bg-color: #3B4455;\n",
              "      --fill-color: #D2E3FC;\n",
              "      --hover-bg-color: #434B5C;\n",
              "      --hover-fill-color: #FFFFFF;\n",
              "      --disabled-bg-color: #3B4455;\n",
              "      --disabled-fill-color: #666;\n",
              "  }\n",
              "\n",
              "  .colab-df-quickchart {\n",
              "    background-color: var(--bg-color);\n",
              "    border: none;\n",
              "    border-radius: 50%;\n",
              "    cursor: pointer;\n",
              "    display: none;\n",
              "    fill: var(--fill-color);\n",
              "    height: 32px;\n",
              "    padding: 0;\n",
              "    width: 32px;\n",
              "  }\n",
              "\n",
              "  .colab-df-quickchart:hover {\n",
              "    background-color: var(--hover-bg-color);\n",
              "    box-shadow: 0 1px 2px rgba(60, 64, 67, 0.3), 0 1px 3px 1px rgba(60, 64, 67, 0.15);\n",
              "    fill: var(--button-hover-fill-color);\n",
              "  }\n",
              "\n",
              "  .colab-df-quickchart-complete:disabled,\n",
              "  .colab-df-quickchart-complete:disabled:hover {\n",
              "    background-color: var(--disabled-bg-color);\n",
              "    fill: var(--disabled-fill-color);\n",
              "    box-shadow: none;\n",
              "  }\n",
              "\n",
              "  .colab-df-spinner {\n",
              "    border: 2px solid var(--fill-color);\n",
              "    border-color: transparent;\n",
              "    border-bottom-color: var(--fill-color);\n",
              "    animation:\n",
              "      spin 1s steps(1) infinite;\n",
              "  }\n",
              "\n",
              "  @keyframes spin {\n",
              "    0% {\n",
              "      border-color: transparent;\n",
              "      border-bottom-color: var(--fill-color);\n",
              "      border-left-color: var(--fill-color);\n",
              "    }\n",
              "    20% {\n",
              "      border-color: transparent;\n",
              "      border-left-color: var(--fill-color);\n",
              "      border-top-color: var(--fill-color);\n",
              "    }\n",
              "    30% {\n",
              "      border-color: transparent;\n",
              "      border-left-color: var(--fill-color);\n",
              "      border-top-color: var(--fill-color);\n",
              "      border-right-color: var(--fill-color);\n",
              "    }\n",
              "    40% {\n",
              "      border-color: transparent;\n",
              "      border-right-color: var(--fill-color);\n",
              "      border-top-color: var(--fill-color);\n",
              "    }\n",
              "    60% {\n",
              "      border-color: transparent;\n",
              "      border-right-color: var(--fill-color);\n",
              "    }\n",
              "    80% {\n",
              "      border-color: transparent;\n",
              "      border-right-color: var(--fill-color);\n",
              "      border-bottom-color: var(--fill-color);\n",
              "    }\n",
              "    90% {\n",
              "      border-color: transparent;\n",
              "      border-bottom-color: var(--fill-color);\n",
              "    }\n",
              "  }\n",
              "</style>\n",
              "\n",
              "  <script>\n",
              "    async function quickchart(key) {\n",
              "      const quickchartButtonEl =\n",
              "        document.querySelector('#' + key + ' button');\n",
              "      quickchartButtonEl.disabled = true;  // To prevent multiple clicks.\n",
              "      quickchartButtonEl.classList.add('colab-df-spinner');\n",
              "      try {\n",
              "        const charts = await google.colab.kernel.invokeFunction(\n",
              "            'suggestCharts', [key], {});\n",
              "      } catch (error) {\n",
              "        console.error('Error during call to suggestCharts:', error);\n",
              "      }\n",
              "      quickchartButtonEl.classList.remove('colab-df-spinner');\n",
              "      quickchartButtonEl.classList.add('colab-df-quickchart-complete');\n",
              "    }\n",
              "    (() => {\n",
              "      let quickchartButtonEl =\n",
              "        document.querySelector('#df-ff364923-e588-4de8-a712-999fc09efd36 button');\n",
              "      quickchartButtonEl.style.display =\n",
              "        google.colab.kernel.accessAllowed ? 'block' : 'none';\n",
              "    })();\n",
              "  </script>\n",
              "</div>\n",
              "    </div>\n",
              "  </div>\n"
            ],
            "application/vnd.google.colaboratory.intrinsic+json": {
              "type": "dataframe",
              "variable_name": "df",
              "summary": "{\n  \"name\": \"df\",\n  \"rows\": 10,\n  \"fields\": [\n    {\n      \"column\": \"Patient ID\",\n      \"properties\": {\n        \"dtype\": \"number\",\n        \"std\": 3,\n        \"min\": 1,\n        \"max\": 10,\n        \"num_unique_values\": 10,\n        \"samples\": [\n          9,\n          2,\n          6\n        ],\n        \"semantic_type\": \"\",\n        \"description\": \"\"\n      }\n    },\n    {\n      \"column\": \"Name\",\n      \"properties\": {\n        \"dtype\": \"string\",\n        \"num_unique_values\": 10,\n        \"samples\": [\n          \"Jennifer Davis\",\n          \"Jane Smith\",\n          \"Mark Johnson\"\n        ],\n        \"semantic_type\": \"\",\n        \"description\": \"\"\n      }\n    },\n    {\n      \"column\": \"DOB\",\n      \"properties\": {\n        \"dtype\": \"object\",\n        \"num_unique_values\": 10,\n        \"samples\": [\n          \"1968-08-22\",\n          \"1979-04-20\",\n          \"1958-03-05\"\n        ],\n        \"semantic_type\": \"\",\n        \"description\": \"\"\n      }\n    },\n    {\n      \"column\": \"Gender\",\n      \"properties\": {\n        \"dtype\": \"category\",\n        \"num_unique_values\": 2,\n        \"samples\": [\n          \"Female\",\n          \"Male\"\n        ],\n        \"semantic_type\": \"\",\n        \"description\": \"\"\n      }\n    },\n    {\n      \"column\": \"Diagnosis\",\n      \"properties\": {\n        \"dtype\": \"string\",\n        \"num_unique_values\": 10,\n        \"samples\": [\n          \"Migraine\",\n          \"Diabetes\"\n        ],\n        \"semantic_type\": \"\",\n        \"description\": \"\"\n      }\n    },\n    {\n      \"column\": \"Medication\",\n      \"properties\": {\n        \"dtype\": \"string\",\n        \"num_unique_values\": 10,\n        \"samples\": [\n          \"Sumatriptan\",\n          \"Metformin\"\n        ],\n        \"semantic_type\": \"\",\n        \"description\": \"\"\n      }\n    }\n  ]\n}"
            }
          },
          "metadata": {},
          "execution_count": 2
        }
      ]
    },
    {
      "cell_type": "code",
      "source": [
        "# Display the original dataset\n",
        "duplicates = df[df.duplicated(subset=['Gender'], keep=False)]\n",
        "\n",
        "# Preview the duplicates\n",
        "duplicates"
      ],
      "metadata": {
        "colab": {
          "base_uri": "https://localhost:8080/",
          "height": 363
        },
        "id": "1H5p02W4xqgs",
        "outputId": "e3850513-b507-4838-8c16-7d0862735798"
      },
      "execution_count": null,
      "outputs": [
        {
          "output_type": "execute_result",
          "data": {
            "text/plain": [
              "   Patient ID            Name         DOB  Gender         Diagnosis  \\\n",
              "0           1        John Doe  1985-07-15    Male      Hypertension   \n",
              "1           2      Jane Smith  1979-04-20  Female          Diabetes   \n",
              "2           3     Bob Johnson  1963-11-30    Male  High Cholesterol   \n",
              "3           4       Sarah Lee  1990-02-10  Female            Asthma   \n",
              "4           5     Anna Nguyen  1976-09-25  Female        Depression   \n",
              "5           6    Mark Johnson  1958-03-05    Male         Arthritis   \n",
              "6           7  Samantha Brown  1982-06-12  Female           Anxiety   \n",
              "7           8     Dave Wilson  1970-01-18    Male          Insomnia   \n",
              "8           9  Jennifer Davis  1968-08-22  Female          Migraine   \n",
              "9          10  Michael Miller  1987-12-03    Male         Allergies   \n",
              "\n",
              "     Medication  \n",
              "0    Lisinopril  \n",
              "1     Metformin  \n",
              "2  Atorvastatin  \n",
              "3     Albuterol  \n",
              "4    Sertraline  \n",
              "5      Naproxen  \n",
              "6     Lorazepam  \n",
              "7      Zolpidem  \n",
              "8   Sumatriptan  \n",
              "9    Cetirizine  "
            ],
            "text/html": [
              "\n",
              "  <div id=\"df-f12bcb02-76c9-41bf-8501-8b5c12df1663\" class=\"colab-df-container\">\n",
              "    <div>\n",
              "<style scoped>\n",
              "    .dataframe tbody tr th:only-of-type {\n",
              "        vertical-align: middle;\n",
              "    }\n",
              "\n",
              "    .dataframe tbody tr th {\n",
              "        vertical-align: top;\n",
              "    }\n",
              "\n",
              "    .dataframe thead th {\n",
              "        text-align: right;\n",
              "    }\n",
              "</style>\n",
              "<table border=\"1\" class=\"dataframe\">\n",
              "  <thead>\n",
              "    <tr style=\"text-align: right;\">\n",
              "      <th></th>\n",
              "      <th>Patient ID</th>\n",
              "      <th>Name</th>\n",
              "      <th>DOB</th>\n",
              "      <th>Gender</th>\n",
              "      <th>Diagnosis</th>\n",
              "      <th>Medication</th>\n",
              "    </tr>\n",
              "  </thead>\n",
              "  <tbody>\n",
              "    <tr>\n",
              "      <th>0</th>\n",
              "      <td>1</td>\n",
              "      <td>John Doe</td>\n",
              "      <td>1985-07-15</td>\n",
              "      <td>Male</td>\n",
              "      <td>Hypertension</td>\n",
              "      <td>Lisinopril</td>\n",
              "    </tr>\n",
              "    <tr>\n",
              "      <th>1</th>\n",
              "      <td>2</td>\n",
              "      <td>Jane Smith</td>\n",
              "      <td>1979-04-20</td>\n",
              "      <td>Female</td>\n",
              "      <td>Diabetes</td>\n",
              "      <td>Metformin</td>\n",
              "    </tr>\n",
              "    <tr>\n",
              "      <th>2</th>\n",
              "      <td>3</td>\n",
              "      <td>Bob Johnson</td>\n",
              "      <td>1963-11-30</td>\n",
              "      <td>Male</td>\n",
              "      <td>High Cholesterol</td>\n",
              "      <td>Atorvastatin</td>\n",
              "    </tr>\n",
              "    <tr>\n",
              "      <th>3</th>\n",
              "      <td>4</td>\n",
              "      <td>Sarah Lee</td>\n",
              "      <td>1990-02-10</td>\n",
              "      <td>Female</td>\n",
              "      <td>Asthma</td>\n",
              "      <td>Albuterol</td>\n",
              "    </tr>\n",
              "    <tr>\n",
              "      <th>4</th>\n",
              "      <td>5</td>\n",
              "      <td>Anna Nguyen</td>\n",
              "      <td>1976-09-25</td>\n",
              "      <td>Female</td>\n",
              "      <td>Depression</td>\n",
              "      <td>Sertraline</td>\n",
              "    </tr>\n",
              "    <tr>\n",
              "      <th>5</th>\n",
              "      <td>6</td>\n",
              "      <td>Mark Johnson</td>\n",
              "      <td>1958-03-05</td>\n",
              "      <td>Male</td>\n",
              "      <td>Arthritis</td>\n",
              "      <td>Naproxen</td>\n",
              "    </tr>\n",
              "    <tr>\n",
              "      <th>6</th>\n",
              "      <td>7</td>\n",
              "      <td>Samantha Brown</td>\n",
              "      <td>1982-06-12</td>\n",
              "      <td>Female</td>\n",
              "      <td>Anxiety</td>\n",
              "      <td>Lorazepam</td>\n",
              "    </tr>\n",
              "    <tr>\n",
              "      <th>7</th>\n",
              "      <td>8</td>\n",
              "      <td>Dave Wilson</td>\n",
              "      <td>1970-01-18</td>\n",
              "      <td>Male</td>\n",
              "      <td>Insomnia</td>\n",
              "      <td>Zolpidem</td>\n",
              "    </tr>\n",
              "    <tr>\n",
              "      <th>8</th>\n",
              "      <td>9</td>\n",
              "      <td>Jennifer Davis</td>\n",
              "      <td>1968-08-22</td>\n",
              "      <td>Female</td>\n",
              "      <td>Migraine</td>\n",
              "      <td>Sumatriptan</td>\n",
              "    </tr>\n",
              "    <tr>\n",
              "      <th>9</th>\n",
              "      <td>10</td>\n",
              "      <td>Michael Miller</td>\n",
              "      <td>1987-12-03</td>\n",
              "      <td>Male</td>\n",
              "      <td>Allergies</td>\n",
              "      <td>Cetirizine</td>\n",
              "    </tr>\n",
              "  </tbody>\n",
              "</table>\n",
              "</div>\n",
              "    <div class=\"colab-df-buttons\">\n",
              "\n",
              "  <div class=\"colab-df-container\">\n",
              "    <button class=\"colab-df-convert\" onclick=\"convertToInteractive('df-f12bcb02-76c9-41bf-8501-8b5c12df1663')\"\n",
              "            title=\"Convert this dataframe to an interactive table.\"\n",
              "            style=\"display:none;\">\n",
              "\n",
              "  <svg xmlns=\"http://www.w3.org/2000/svg\" height=\"24px\" viewBox=\"0 -960 960 960\">\n",
              "    <path d=\"M120-120v-720h720v720H120Zm60-500h600v-160H180v160Zm220 220h160v-160H400v160Zm0 220h160v-160H400v160ZM180-400h160v-160H180v160Zm440 0h160v-160H620v160ZM180-180h160v-160H180v160Zm440 0h160v-160H620v160Z\"/>\n",
              "  </svg>\n",
              "    </button>\n",
              "\n",
              "  <style>\n",
              "    .colab-df-container {\n",
              "      display:flex;\n",
              "      gap: 12px;\n",
              "    }\n",
              "\n",
              "    .colab-df-convert {\n",
              "      background-color: #E8F0FE;\n",
              "      border: none;\n",
              "      border-radius: 50%;\n",
              "      cursor: pointer;\n",
              "      display: none;\n",
              "      fill: #1967D2;\n",
              "      height: 32px;\n",
              "      padding: 0 0 0 0;\n",
              "      width: 32px;\n",
              "    }\n",
              "\n",
              "    .colab-df-convert:hover {\n",
              "      background-color: #E2EBFA;\n",
              "      box-shadow: 0px 1px 2px rgba(60, 64, 67, 0.3), 0px 1px 3px 1px rgba(60, 64, 67, 0.15);\n",
              "      fill: #174EA6;\n",
              "    }\n",
              "\n",
              "    .colab-df-buttons div {\n",
              "      margin-bottom: 4px;\n",
              "    }\n",
              "\n",
              "    [theme=dark] .colab-df-convert {\n",
              "      background-color: #3B4455;\n",
              "      fill: #D2E3FC;\n",
              "    }\n",
              "\n",
              "    [theme=dark] .colab-df-convert:hover {\n",
              "      background-color: #434B5C;\n",
              "      box-shadow: 0px 1px 3px 1px rgba(0, 0, 0, 0.15);\n",
              "      filter: drop-shadow(0px 1px 2px rgba(0, 0, 0, 0.3));\n",
              "      fill: #FFFFFF;\n",
              "    }\n",
              "  </style>\n",
              "\n",
              "    <script>\n",
              "      const buttonEl =\n",
              "        document.querySelector('#df-f12bcb02-76c9-41bf-8501-8b5c12df1663 button.colab-df-convert');\n",
              "      buttonEl.style.display =\n",
              "        google.colab.kernel.accessAllowed ? 'block' : 'none';\n",
              "\n",
              "      async function convertToInteractive(key) {\n",
              "        const element = document.querySelector('#df-f12bcb02-76c9-41bf-8501-8b5c12df1663');\n",
              "        const dataTable =\n",
              "          await google.colab.kernel.invokeFunction('convertToInteractive',\n",
              "                                                    [key], {});\n",
              "        if (!dataTable) return;\n",
              "\n",
              "        const docLinkHtml = 'Like what you see? Visit the ' +\n",
              "          '<a target=\"_blank\" href=https://colab.research.google.com/notebooks/data_table.ipynb>data table notebook</a>'\n",
              "          + ' to learn more about interactive tables.';\n",
              "        element.innerHTML = '';\n",
              "        dataTable['output_type'] = 'display_data';\n",
              "        await google.colab.output.renderOutput(dataTable, element);\n",
              "        const docLink = document.createElement('div');\n",
              "        docLink.innerHTML = docLinkHtml;\n",
              "        element.appendChild(docLink);\n",
              "      }\n",
              "    </script>\n",
              "  </div>\n",
              "\n",
              "\n",
              "<div id=\"df-cb3a4730-db24-4ee0-873a-eda4d6993841\">\n",
              "  <button class=\"colab-df-quickchart\" onclick=\"quickchart('df-cb3a4730-db24-4ee0-873a-eda4d6993841')\"\n",
              "            title=\"Suggest charts\"\n",
              "            style=\"display:none;\">\n",
              "\n",
              "<svg xmlns=\"http://www.w3.org/2000/svg\" height=\"24px\"viewBox=\"0 0 24 24\"\n",
              "     width=\"24px\">\n",
              "    <g>\n",
              "        <path d=\"M19 3H5c-1.1 0-2 .9-2 2v14c0 1.1.9 2 2 2h14c1.1 0 2-.9 2-2V5c0-1.1-.9-2-2-2zM9 17H7v-7h2v7zm4 0h-2V7h2v10zm4 0h-2v-4h2v4z\"/>\n",
              "    </g>\n",
              "</svg>\n",
              "  </button>\n",
              "\n",
              "<style>\n",
              "  .colab-df-quickchart {\n",
              "      --bg-color: #E8F0FE;\n",
              "      --fill-color: #1967D2;\n",
              "      --hover-bg-color: #E2EBFA;\n",
              "      --hover-fill-color: #174EA6;\n",
              "      --disabled-fill-color: #AAA;\n",
              "      --disabled-bg-color: #DDD;\n",
              "  }\n",
              "\n",
              "  [theme=dark] .colab-df-quickchart {\n",
              "      --bg-color: #3B4455;\n",
              "      --fill-color: #D2E3FC;\n",
              "      --hover-bg-color: #434B5C;\n",
              "      --hover-fill-color: #FFFFFF;\n",
              "      --disabled-bg-color: #3B4455;\n",
              "      --disabled-fill-color: #666;\n",
              "  }\n",
              "\n",
              "  .colab-df-quickchart {\n",
              "    background-color: var(--bg-color);\n",
              "    border: none;\n",
              "    border-radius: 50%;\n",
              "    cursor: pointer;\n",
              "    display: none;\n",
              "    fill: var(--fill-color);\n",
              "    height: 32px;\n",
              "    padding: 0;\n",
              "    width: 32px;\n",
              "  }\n",
              "\n",
              "  .colab-df-quickchart:hover {\n",
              "    background-color: var(--hover-bg-color);\n",
              "    box-shadow: 0 1px 2px rgba(60, 64, 67, 0.3), 0 1px 3px 1px rgba(60, 64, 67, 0.15);\n",
              "    fill: var(--button-hover-fill-color);\n",
              "  }\n",
              "\n",
              "  .colab-df-quickchart-complete:disabled,\n",
              "  .colab-df-quickchart-complete:disabled:hover {\n",
              "    background-color: var(--disabled-bg-color);\n",
              "    fill: var(--disabled-fill-color);\n",
              "    box-shadow: none;\n",
              "  }\n",
              "\n",
              "  .colab-df-spinner {\n",
              "    border: 2px solid var(--fill-color);\n",
              "    border-color: transparent;\n",
              "    border-bottom-color: var(--fill-color);\n",
              "    animation:\n",
              "      spin 1s steps(1) infinite;\n",
              "  }\n",
              "\n",
              "  @keyframes spin {\n",
              "    0% {\n",
              "      border-color: transparent;\n",
              "      border-bottom-color: var(--fill-color);\n",
              "      border-left-color: var(--fill-color);\n",
              "    }\n",
              "    20% {\n",
              "      border-color: transparent;\n",
              "      border-left-color: var(--fill-color);\n",
              "      border-top-color: var(--fill-color);\n",
              "    }\n",
              "    30% {\n",
              "      border-color: transparent;\n",
              "      border-left-color: var(--fill-color);\n",
              "      border-top-color: var(--fill-color);\n",
              "      border-right-color: var(--fill-color);\n",
              "    }\n",
              "    40% {\n",
              "      border-color: transparent;\n",
              "      border-right-color: var(--fill-color);\n",
              "      border-top-color: var(--fill-color);\n",
              "    }\n",
              "    60% {\n",
              "      border-color: transparent;\n",
              "      border-right-color: var(--fill-color);\n",
              "    }\n",
              "    80% {\n",
              "      border-color: transparent;\n",
              "      border-right-color: var(--fill-color);\n",
              "      border-bottom-color: var(--fill-color);\n",
              "    }\n",
              "    90% {\n",
              "      border-color: transparent;\n",
              "      border-bottom-color: var(--fill-color);\n",
              "    }\n",
              "  }\n",
              "</style>\n",
              "\n",
              "  <script>\n",
              "    async function quickchart(key) {\n",
              "      const quickchartButtonEl =\n",
              "        document.querySelector('#' + key + ' button');\n",
              "      quickchartButtonEl.disabled = true;  // To prevent multiple clicks.\n",
              "      quickchartButtonEl.classList.add('colab-df-spinner');\n",
              "      try {\n",
              "        const charts = await google.colab.kernel.invokeFunction(\n",
              "            'suggestCharts', [key], {});\n",
              "      } catch (error) {\n",
              "        console.error('Error during call to suggestCharts:', error);\n",
              "      }\n",
              "      quickchartButtonEl.classList.remove('colab-df-spinner');\n",
              "      quickchartButtonEl.classList.add('colab-df-quickchart-complete');\n",
              "    }\n",
              "    (() => {\n",
              "      let quickchartButtonEl =\n",
              "        document.querySelector('#df-cb3a4730-db24-4ee0-873a-eda4d6993841 button');\n",
              "      quickchartButtonEl.style.display =\n",
              "        google.colab.kernel.accessAllowed ? 'block' : 'none';\n",
              "    })();\n",
              "  </script>\n",
              "</div>\n",
              "    </div>\n",
              "  </div>\n"
            ],
            "application/vnd.google.colaboratory.intrinsic+json": {
              "type": "dataframe",
              "variable_name": "duplicates",
              "summary": "{\n  \"name\": \"duplicates\",\n  \"rows\": 10,\n  \"fields\": [\n    {\n      \"column\": \"Patient ID\",\n      \"properties\": {\n        \"dtype\": \"number\",\n        \"std\": 3,\n        \"min\": 1,\n        \"max\": 10,\n        \"num_unique_values\": 10,\n        \"samples\": [\n          9,\n          2,\n          6\n        ],\n        \"semantic_type\": \"\",\n        \"description\": \"\"\n      }\n    },\n    {\n      \"column\": \"Name\",\n      \"properties\": {\n        \"dtype\": \"string\",\n        \"num_unique_values\": 10,\n        \"samples\": [\n          \"Jennifer Davis\",\n          \"Jane Smith\",\n          \"Mark Johnson\"\n        ],\n        \"semantic_type\": \"\",\n        \"description\": \"\"\n      }\n    },\n    {\n      \"column\": \"DOB\",\n      \"properties\": {\n        \"dtype\": \"object\",\n        \"num_unique_values\": 10,\n        \"samples\": [\n          \"1968-08-22\",\n          \"1979-04-20\",\n          \"1958-03-05\"\n        ],\n        \"semantic_type\": \"\",\n        \"description\": \"\"\n      }\n    },\n    {\n      \"column\": \"Gender\",\n      \"properties\": {\n        \"dtype\": \"category\",\n        \"num_unique_values\": 2,\n        \"samples\": [\n          \"Female\",\n          \"Male\"\n        ],\n        \"semantic_type\": \"\",\n        \"description\": \"\"\n      }\n    },\n    {\n      \"column\": \"Diagnosis\",\n      \"properties\": {\n        \"dtype\": \"string\",\n        \"num_unique_values\": 10,\n        \"samples\": [\n          \"Migraine\",\n          \"Diabetes\"\n        ],\n        \"semantic_type\": \"\",\n        \"description\": \"\"\n      }\n    },\n    {\n      \"column\": \"Medication\",\n      \"properties\": {\n        \"dtype\": \"string\",\n        \"num_unique_values\": 10,\n        \"samples\": [\n          \"Sumatriptan\",\n          \"Metformin\"\n        ],\n        \"semantic_type\": \"\",\n        \"description\": \"\"\n      }\n    }\n  ]\n}"
            }
          },
          "metadata": {},
          "execution_count": 5
        }
      ]
    },
    {
      "cell_type": "code",
      "source": [
        "# Remove duplicate records based on 'Patient ID'\n",
        "df = df.drop_duplicates(subset=['Patient ID'])\n",
        "\n",
        "# Display the dataset after removing duplicates\n",
        "df"
      ],
      "metadata": {
        "id": "F5UJ-eymxte2"
      },
      "execution_count": null,
      "outputs": []
    },
    {
      "cell_type": "markdown",
      "source": [
        "### <font color=\"green\">Challenge</font>"
      ],
      "metadata": {
        "id": "dwm-S3s7TPnB"
      }
    },
    {
      "cell_type": "markdown",
      "source": [
        "Remove duplicate records from the dataset located at https://archive.org/download/healthcare_vsmh6/healthcare_5al4.csv using Pandas in Python. Remember to identify the columns that define a duplicate record and filter out duplicate records based on these columns."
      ],
      "metadata": {
        "id": "465wfO2VkTTK"
      }
    },
    {
      "cell_type": "code",
      "source": [
        "# Load the dataset\n",
        "df = pd.read_csv(\"https://archive.org/download/healthcare_vsmh6/healthcare_5al4.csv\")\n",
        "\n",
        "# Preview the dataset\n",
        "df.head()"
      ],
      "metadata": {
        "id": "FcXXyBsjx4ul"
      },
      "execution_count": null,
      "outputs": []
    },
    {
      "cell_type": "code",
      "source": [
        "# Write your code here\n"
      ],
      "metadata": {
        "id": "-CI_fSSpTPnC"
      },
      "execution_count": null,
      "outputs": []
    },
    {
      "cell_type": "markdown",
      "source": [
        "# 6. Missing Values"
      ],
      "metadata": {
        "id": "TvO5kxrBTamM"
      }
    },
    {
      "cell_type": "markdown",
      "source": [
        "## 6.1 Finding records with missing values"
      ],
      "metadata": {
        "id": "RYsFkqgjTamN"
      }
    },
    {
      "cell_type": "markdown",
      "source": [
        "Finding records with missing values in a dataset allows us to identify and handle incomplete or null data. This is important because missing values can affect the accuracy and reliability of our analysis."
      ],
      "metadata": {
        "id": "pqRzWfVGmSWS"
      }
    },
    {
      "cell_type": "code",
      "source": [
        "# Load the dataset\n",
        "df = pd.read_csv(\"https://afterwork.ai/ds/e/healthcare_uejw.csv\")\n",
        "\n",
        "# Preview the dataset\n",
        "df.head()"
      ],
      "metadata": {
        "id": "VSu6cZkh35Ha"
      },
      "execution_count": null,
      "outputs": []
    },
    {
      "cell_type": "code",
      "source": [
        "# Find records with missing values\n",
        "missing_records = df[df.isnull().any(axis=1)]\n",
        "\n",
        "# Preview the records with missing values\n",
        "missing_records"
      ],
      "metadata": {
        "id": "gCN4unLuTamO"
      },
      "execution_count": null,
      "outputs": []
    },
    {
      "cell_type": "code",
      "source": [
        "# Check for columns with missing values\n",
        "missing_values_columns = df.isnull().sum()\n",
        "\n",
        "# Preview columns with missing values\n",
        "missing_values_columns"
      ],
      "metadata": {
        "id": "ibctRUd7mwez",
        "colab": {
          "base_uri": "https://localhost:8080/"
        },
        "outputId": "a0615dd4-6648-489c-b36f-014f9783fca2"
      },
      "execution_count": null,
      "outputs": [
        {
          "output_type": "execute_result",
          "data": {
            "text/plain": [
              "ID                0\n",
              "Name              0\n",
              "Age               1\n",
              "Gender            0\n",
              "Income            3\n",
              "Education         1\n",
              "Marital Status    0\n",
              "dtype: int64"
            ]
          },
          "metadata": {},
          "execution_count": 11
        }
      ]
    },
    {
      "cell_type": "code",
      "source": [
        "# Displaying a statistical summary\n",
        "df.describe()"
      ],
      "metadata": {
        "id": "VRoRohN17vLj"
      },
      "execution_count": null,
      "outputs": []
    },
    {
      "cell_type": "markdown",
      "source": [
        "### <font color=\"green\">Challenge</font>"
      ],
      "metadata": {
        "id": "C2D1XjmiTamO"
      }
    },
    {
      "cell_type": "markdown",
      "source": [
        "Find missing values in the healthcare dataset from https://afterwork.ai/ds/ch/healthcare_qbt2.csv."
      ],
      "metadata": {
        "id": "bxRzb-fymduN"
      }
    },
    {
      "cell_type": "code",
      "source": [
        "# Load the dataset\n",
        "df = pd.read_csv(\"https://afterwork.ai/ds/ch/healthcare_4if0.csv\")\n",
        "\n",
        "# Preview the dataset\n",
        "df.head()"
      ],
      "metadata": {
        "id": "2FhvDTG14A-h"
      },
      "execution_count": null,
      "outputs": []
    },
    {
      "cell_type": "code",
      "source": [
        "# Identify rows with missing values\n"
      ],
      "metadata": {
        "id": "LEpyutyQ3_pL"
      },
      "execution_count": null,
      "outputs": []
    },
    {
      "cell_type": "code",
      "source": [
        "# Identify columns with missing values\n"
      ],
      "metadata": {
        "id": "cz0VN3Rk5nxu"
      },
      "execution_count": null,
      "outputs": []
    },
    {
      "cell_type": "code",
      "source": [
        "# Display the statistical summary\n"
      ],
      "metadata": {
        "id": "3r9z09lM70CM"
      },
      "execution_count": null,
      "outputs": []
    },
    {
      "cell_type": "markdown",
      "source": [
        "## 6.2 Removing records with missing values"
      ],
      "metadata": {
        "id": "xCqp8WFHTamP"
      }
    },
    {
      "cell_type": "markdown",
      "source": [
        "Removing records with missing values in Pandas allows us to clean our dataset by eliminating rows that contain missing or null values. This is important because missing values can affect the accuracy of our analysis and modeling."
      ],
      "metadata": {
        "id": "TaMMdA-2m3Ll"
      }
    },
    {
      "cell_type": "code",
      "source": [
        "# Load the dataset\n",
        "df = pd.read_csv(\"https://afterwork.ai/ds/e/healthcare_k3m7.csv\")\n",
        "\n",
        "# Preview the dataset\n",
        "df.head()"
      ],
      "metadata": {
        "id": "hXR14t1X7HBY"
      },
      "execution_count": null,
      "outputs": []
    },
    {
      "cell_type": "code",
      "source": [
        "# Identify columns with missing values\n",
        "missing_values_records = df.isnull().sum()\n",
        "missing_values_records"
      ],
      "metadata": {
        "id": "ualv0eqrTamQ",
        "colab": {
          "base_uri": "https://localhost:8080/"
        },
        "outputId": "e9be5bc8-d8ac-4e74-82d7-6a12db5373e1"
      },
      "execution_count": null,
      "outputs": [
        {
          "output_type": "execute_result",
          "data": {
            "text/plain": [
              "ID                0\n",
              "Name              0\n",
              "Age               1\n",
              "Gender            0\n",
              "Income            3\n",
              "Education         1\n",
              "Marital Status    0\n",
              "dtype: int64"
            ]
          },
          "metadata": {},
          "execution_count": 14
        }
      ]
    },
    {
      "cell_type": "code",
      "source": [
        "# Remove rows with missing values\n",
        "df.dropna(inplace=True)"
      ],
      "metadata": {
        "id": "Nr63q3VY7a3X"
      },
      "execution_count": null,
      "outputs": []
    },
    {
      "cell_type": "markdown",
      "source": [
        "### <font color=\"green\">Challenge</font>"
      ],
      "metadata": {
        "id": "Wo5vdplITamQ"
      }
    },
    {
      "cell_type": "markdown",
      "source": [
        "Remove records with missing values from the healthcare dataset located at https://afterwork.ai/ds/ch/healthcare_4if0.csv using Pandas."
      ],
      "metadata": {
        "id": "hz1Ckbpkm-Ve"
      }
    },
    {
      "cell_type": "code",
      "source": [
        "# Load the dataset\n",
        "df = pd.read_csv(\"https://afterwork.ai/ds/ch/healthcare_4if0.csv\")\n",
        "\n",
        "# Preview the dataset\n",
        "df.head()"
      ],
      "metadata": {
        "id": "e5GQQIs478qw"
      },
      "execution_count": null,
      "outputs": []
    },
    {
      "cell_type": "code",
      "source": [
        "# Get columns with missing values\n"
      ],
      "metadata": {
        "id": "dnpTe9G88MBj"
      },
      "execution_count": null,
      "outputs": []
    },
    {
      "cell_type": "code",
      "source": [
        "# Remove rows with missing values\n"
      ],
      "metadata": {
        "id": "TxrV8KG8730h"
      },
      "execution_count": null,
      "outputs": []
    },
    {
      "cell_type": "code",
      "source": [
        "# Confirm by getting columns with missing values\n"
      ],
      "metadata": {
        "id": "9MhwQ8oD8Z1S"
      },
      "execution_count": null,
      "outputs": []
    },
    {
      "cell_type": "markdown",
      "source": [
        "# 7. Outliers"
      ],
      "metadata": {
        "id": "jxj4mM1kTzNZ"
      }
    },
    {
      "cell_type": "markdown",
      "source": [
        "## 7.1 Finding and removing outlier records"
      ],
      "metadata": {
        "id": "StCMoDKzTzNm"
      }
    },
    {
      "cell_type": "markdown",
      "source": [
        "Removing outliers in a dataset involves identifying and eliminating data points that are significantly different from the rest of the data. Outliers can skew statistical analysis and machine learning models, leading to inaccurate results. To remove outliers, we first need to identify them by calculating the z-score for each data point. The z-score measures how many standard deviations a data point is from the mean. We can then set a threshold for the z-score (e.g., 3) and remove any data points that exceed this threshold."
      ],
      "metadata": {
        "id": "gY6TqXvrqJ_q"
      }
    },
    {
      "cell_type": "code",
      "source": [
        "# Load the dataset\n",
        "df = pd.read_csv(\"https://afterwork.ai/ds/e/healthcare_mgri.csv\")\n",
        "\n",
        "# Preview the dataset\n",
        "df.head()"
      ],
      "metadata": {
        "id": "y9PNagZi8et0"
      },
      "execution_count": null,
      "outputs": []
    },
    {
      "cell_type": "code",
      "source": [
        "# Convert Blood Pressure to systolic and diastolic columns\n",
        "df[['Systolic', 'Diastolic']] = df['Blood Pressure'].str.split('/', expand=True)\n",
        "\n",
        "# Preview the dataset\n",
        "df.head()"
      ],
      "metadata": {
        "id": "reZN9yOQ8lht"
      },
      "execution_count": null,
      "outputs": []
    },
    {
      "cell_type": "code",
      "source": [
        "# Convert columns to numeric\n",
        "df['Systolic'] = pd.to_numeric(df['Systolic'])\n",
        "df['Diastolic'] = pd.to_numeric(df['Diastolic'])\n",
        "\n",
        "# Preview the datatypes\n",
        "df.info()"
      ],
      "metadata": {
        "id": "hLfHEW0C8p13"
      },
      "execution_count": null,
      "outputs": []
    },
    {
      "cell_type": "code",
      "source": [
        "# Calculate z-scores for Systolic Blood Pressure\n",
        "df['Systolic_zscore'] = (df['Systolic'] - df['Systolic'].mean()) / df['Systolic'].std()\n",
        "df.head()"
      ],
      "metadata": {
        "id": "Rsy6dPEj8tSb"
      },
      "execution_count": null,
      "outputs": []
    },
    {
      "cell_type": "code",
      "source": [
        "# Set threshold for z-score\n",
        "threshold = 3\n",
        "\n",
        "# Remove outliers based on Systolic z-score\n",
        "df = df[df['Systolic_zscore'].abs() <= threshold]\n",
        "\n",
        "# Display the dataset\n",
        "df"
      ],
      "metadata": {
        "id": "fr6rqO7XTzNm"
      },
      "execution_count": null,
      "outputs": []
    },
    {
      "cell_type": "code",
      "source": [
        "# Drop intermediate columns\n",
        "df = df.drop(['Systolic', 'Diastolic', 'Systolic_zscore'], axis=1)\n",
        "\n",
        "# Preview the dataset\n",
        "df"
      ],
      "metadata": {
        "id": "mNQKgt-M83Ud"
      },
      "execution_count": null,
      "outputs": []
    },
    {
      "cell_type": "markdown",
      "source": [
        "**Explanation**: We import the Pandas library as pd to use its functions for data manipulation. We load a dataset from a URL and store it in a DataFrame called df. We split the 'Blood Pressure' column into 'Systolic' and 'Diastolic' columns using the '/' as a delimiter. We convert the new columns to numeric data type. We calculate the z-scores for the 'Systolic' Blood Pressure values. We set a threshold value of 3 for the z-score. We remove outliers based on the Systolic z-score by filtering out data points that exceed the threshold. We drop the intermediate columns created for z-score calculation. Finally, we print the cleaned DataFrame without outliers."
      ],
      "metadata": {
        "id": "Cuyd2lfkqU3C"
      }
    },
    {
      "cell_type": "markdown",
      "source": [
        "### <font color=\"green\">Challenge</font>"
      ],
      "metadata": {
        "id": "nU_eEWhCTzNn"
      }
    },
    {
      "cell_type": "markdown",
      "source": [
        "Remove outliers using one of the columns from the healthcare dataset located at https://afterwork.ai/ds/ch/healthcare_oi5s.csv. Remember to calculate the z-score for each data point in one column and set a threshold (e.g., 3) to identify and eliminate outliers."
      ],
      "metadata": {
        "id": "lc1jfuv_qf-7"
      }
    },
    {
      "cell_type": "code",
      "source": [
        "# Load the dataset\n",
        "df = pd.read_csv(\"https://afterwork.ai/ds/ch/healthcare_oi5s.csv\")\n",
        "\n",
        "# Preview the dataset\n",
        "df.head()"
      ],
      "metadata": {
        "id": "qXw0Y9N49Bbe"
      },
      "execution_count": null,
      "outputs": []
    },
    {
      "cell_type": "code",
      "source": [
        "# Calculate z-scores for each data point\n",
        "\n",
        "\n",
        "# Set threshold for z-score\n",
        "\n",
        "\n",
        "# Remove outliers based on z-score\n",
        "\n",
        "\n",
        "# Drop z_score column\n",
        "\n"
      ],
      "metadata": {
        "id": "r2jdLOWYTzNn"
      },
      "execution_count": null,
      "outputs": []
    }
  ]
}