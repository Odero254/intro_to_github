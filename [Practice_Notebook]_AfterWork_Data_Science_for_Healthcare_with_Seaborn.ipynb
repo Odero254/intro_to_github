{
  "nbformat": 4,
  "nbformat_minor": 0,
  "metadata": {
    "colab": {
      "provenance": [],
      "collapsed_sections": [
        "CFibsQqKSlG8",
        "bzjM3umISwQ_",
        "53v7S9M7UMt7",
        "3scJVn7aVoDS",
        "yelgLnAbVql0",
        "yueowGA0Vql1",
        "XRYDlrCFVsZP",
        "ueNMLK27VsZR",
        "ColofM-CVsh3",
        "rsE6BtY4Vsh5",
        "48Fk7rMNVsrY",
        "es7XHB2SVsra",
        "xlLkQ3M4Vs23",
        "MKDRT6e2VtC5",
        "R_tldxnmVtC6",
        "Yk05GEB4Szjb",
        "6ZHwpTM6uMEN",
        "yT4inUfNuMEs",
        "rVzrDkOBuc0T",
        "a7gtAaMuuc0x",
        "aBDK75MOueaR",
        "-P1y7wOgueav",
        "O3S9HCIO49-_",
        "eX0kx36Z49_B",
        "2WJr0cc449_E"
      ],
      "include_colab_link": true
    },
    "kernelspec": {
      "name": "python3",
      "display_name": "Python 3"
    },
    "language_info": {
      "name": "python"
    }
  },
  "cells": [
    {
      "cell_type": "markdown",
      "metadata": {
        "id": "view-in-github",
        "colab_type": "text"
      },
      "source": [
        "<a href=\"https://colab.research.google.com/github/Odero254/intro_to_github/blob/main/%5BPractice_Notebook%5D_AfterWork_Data_Science_for_Healthcare_with_Seaborn.ipynb\" target=\"_parent\"><img src=\"https://colab.research.google.com/assets/colab-badge.svg\" alt=\"Open In Colab\"/></a>"
      ]
    },
    {
      "cell_type": "markdown",
      "source": [
        "# [Practice Notebook] AfterWork: Data Science for Healthcare with Seaborn"
      ],
      "metadata": {
        "id": "VkFgkGOPQlUQ"
      }
    },
    {
      "cell_type": "markdown",
      "source": [
        "# Pre-requisite"
      ],
      "metadata": {
        "id": "CFibsQqKSlG8"
      }
    },
    {
      "cell_type": "code",
      "execution_count": null,
      "metadata": {
        "id": "16paFv_zQc7Y"
      },
      "outputs": [],
      "source": [
        "# Import Pandas for data manipulation\n",
        "import pandas as pd\n",
        "\n",
        "# Import Seaborn and Matplotlib for data visualization\n",
        "import matplotlib.pyplot as plt\n",
        "import seaborn as sns"
      ]
    },
    {
      "cell_type": "markdown",
      "source": [
        "# 1. Creating basic plots"
      ],
      "metadata": {
        "id": "bzjM3umISwQ_"
      }
    },
    {
      "cell_type": "markdown",
      "source": [
        "## 1.1 Bar chart"
      ],
      "metadata": {
        "id": "53v7S9M7UMt7"
      }
    },
    {
      "cell_type": "markdown",
      "source": [
        "A bar chart is a type of chart that represents data with rectangular bars. The length of each bar is proportional to the value it represents. Bar charts are useful for comparing different categories or showing changes over time.\n",
        "\n"
      ],
      "metadata": {
        "id": "jJ4YpeYcWJjF"
      }
    },
    {
      "cell_type": "code",
      "source": [
        "# Import data\n",
        "data = pd.read_csv(\"https://afterwork.ai/ds/e/healthcare_and_pharmaceuticals_awl28.csv\")\n",
        "\n",
        "# Preview the dataset\n",
        "data.head()"
      ],
      "metadata": {
        "id": "B7TuaFmQTt2G",
        "colab": {
          "base_uri": "https://localhost:8080/",
          "height": 206
        },
        "outputId": "fcc30464-9425-40e0-95c3-8670205391d8"
      },
      "execution_count": null,
      "outputs": [
        {
          "output_type": "execute_result",
          "data": {
            "text/plain": [
              "       Medication  Quantity\n",
              "0         Aspirin       150\n",
              "1       Ibuprofen       200\n",
              "2     Paracetamol       180\n",
              "3     Antibiotics       120\n",
              "4  Antihistamines       100"
            ],
            "text/html": [
              "\n",
              "  <div id=\"df-d54b85fe-93cc-4a0a-ba36-fb020570b7a1\" class=\"colab-df-container\">\n",
              "    <div>\n",
              "<style scoped>\n",
              "    .dataframe tbody tr th:only-of-type {\n",
              "        vertical-align: middle;\n",
              "    }\n",
              "\n",
              "    .dataframe tbody tr th {\n",
              "        vertical-align: top;\n",
              "    }\n",
              "\n",
              "    .dataframe thead th {\n",
              "        text-align: right;\n",
              "    }\n",
              "</style>\n",
              "<table border=\"1\" class=\"dataframe\">\n",
              "  <thead>\n",
              "    <tr style=\"text-align: right;\">\n",
              "      <th></th>\n",
              "      <th>Medication</th>\n",
              "      <th>Quantity</th>\n",
              "    </tr>\n",
              "  </thead>\n",
              "  <tbody>\n",
              "    <tr>\n",
              "      <th>0</th>\n",
              "      <td>Aspirin</td>\n",
              "      <td>150</td>\n",
              "    </tr>\n",
              "    <tr>\n",
              "      <th>1</th>\n",
              "      <td>Ibuprofen</td>\n",
              "      <td>200</td>\n",
              "    </tr>\n",
              "    <tr>\n",
              "      <th>2</th>\n",
              "      <td>Paracetamol</td>\n",
              "      <td>180</td>\n",
              "    </tr>\n",
              "    <tr>\n",
              "      <th>3</th>\n",
              "      <td>Antibiotics</td>\n",
              "      <td>120</td>\n",
              "    </tr>\n",
              "    <tr>\n",
              "      <th>4</th>\n",
              "      <td>Antihistamines</td>\n",
              "      <td>100</td>\n",
              "    </tr>\n",
              "  </tbody>\n",
              "</table>\n",
              "</div>\n",
              "    <div class=\"colab-df-buttons\">\n",
              "\n",
              "  <div class=\"colab-df-container\">\n",
              "    <button class=\"colab-df-convert\" onclick=\"convertToInteractive('df-d54b85fe-93cc-4a0a-ba36-fb020570b7a1')\"\n",
              "            title=\"Convert this dataframe to an interactive table.\"\n",
              "            style=\"display:none;\">\n",
              "\n",
              "  <svg xmlns=\"http://www.w3.org/2000/svg\" height=\"24px\" viewBox=\"0 -960 960 960\">\n",
              "    <path d=\"M120-120v-720h720v720H120Zm60-500h600v-160H180v160Zm220 220h160v-160H400v160Zm0 220h160v-160H400v160ZM180-400h160v-160H180v160Zm440 0h160v-160H620v160ZM180-180h160v-160H180v160Zm440 0h160v-160H620v160Z\"/>\n",
              "  </svg>\n",
              "    </button>\n",
              "\n",
              "  <style>\n",
              "    .colab-df-container {\n",
              "      display:flex;\n",
              "      gap: 12px;\n",
              "    }\n",
              "\n",
              "    .colab-df-convert {\n",
              "      background-color: #E8F0FE;\n",
              "      border: none;\n",
              "      border-radius: 50%;\n",
              "      cursor: pointer;\n",
              "      display: none;\n",
              "      fill: #1967D2;\n",
              "      height: 32px;\n",
              "      padding: 0 0 0 0;\n",
              "      width: 32px;\n",
              "    }\n",
              "\n",
              "    .colab-df-convert:hover {\n",
              "      background-color: #E2EBFA;\n",
              "      box-shadow: 0px 1px 2px rgba(60, 64, 67, 0.3), 0px 1px 3px 1px rgba(60, 64, 67, 0.15);\n",
              "      fill: #174EA6;\n",
              "    }\n",
              "\n",
              "    .colab-df-buttons div {\n",
              "      margin-bottom: 4px;\n",
              "    }\n",
              "\n",
              "    [theme=dark] .colab-df-convert {\n",
              "      background-color: #3B4455;\n",
              "      fill: #D2E3FC;\n",
              "    }\n",
              "\n",
              "    [theme=dark] .colab-df-convert:hover {\n",
              "      background-color: #434B5C;\n",
              "      box-shadow: 0px 1px 3px 1px rgba(0, 0, 0, 0.15);\n",
              "      filter: drop-shadow(0px 1px 2px rgba(0, 0, 0, 0.3));\n",
              "      fill: #FFFFFF;\n",
              "    }\n",
              "  </style>\n",
              "\n",
              "    <script>\n",
              "      const buttonEl =\n",
              "        document.querySelector('#df-d54b85fe-93cc-4a0a-ba36-fb020570b7a1 button.colab-df-convert');\n",
              "      buttonEl.style.display =\n",
              "        google.colab.kernel.accessAllowed ? 'block' : 'none';\n",
              "\n",
              "      async function convertToInteractive(key) {\n",
              "        const element = document.querySelector('#df-d54b85fe-93cc-4a0a-ba36-fb020570b7a1');\n",
              "        const dataTable =\n",
              "          await google.colab.kernel.invokeFunction('convertToInteractive',\n",
              "                                                    [key], {});\n",
              "        if (!dataTable) return;\n",
              "\n",
              "        const docLinkHtml = 'Like what you see? Visit the ' +\n",
              "          '<a target=\"_blank\" href=https://colab.research.google.com/notebooks/data_table.ipynb>data table notebook</a>'\n",
              "          + ' to learn more about interactive tables.';\n",
              "        element.innerHTML = '';\n",
              "        dataTable['output_type'] = 'display_data';\n",
              "        await google.colab.output.renderOutput(dataTable, element);\n",
              "        const docLink = document.createElement('div');\n",
              "        docLink.innerHTML = docLinkHtml;\n",
              "        element.appendChild(docLink);\n",
              "      }\n",
              "    </script>\n",
              "  </div>\n",
              "\n",
              "\n",
              "<div id=\"df-0a32dea8-ce3c-4aa5-8f49-2b43239543ec\">\n",
              "  <button class=\"colab-df-quickchart\" onclick=\"quickchart('df-0a32dea8-ce3c-4aa5-8f49-2b43239543ec')\"\n",
              "            title=\"Suggest charts\"\n",
              "            style=\"display:none;\">\n",
              "\n",
              "<svg xmlns=\"http://www.w3.org/2000/svg\" height=\"24px\"viewBox=\"0 0 24 24\"\n",
              "     width=\"24px\">\n",
              "    <g>\n",
              "        <path d=\"M19 3H5c-1.1 0-2 .9-2 2v14c0 1.1.9 2 2 2h14c1.1 0 2-.9 2-2V5c0-1.1-.9-2-2-2zM9 17H7v-7h2v7zm4 0h-2V7h2v10zm4 0h-2v-4h2v4z\"/>\n",
              "    </g>\n",
              "</svg>\n",
              "  </button>\n",
              "\n",
              "<style>\n",
              "  .colab-df-quickchart {\n",
              "      --bg-color: #E8F0FE;\n",
              "      --fill-color: #1967D2;\n",
              "      --hover-bg-color: #E2EBFA;\n",
              "      --hover-fill-color: #174EA6;\n",
              "      --disabled-fill-color: #AAA;\n",
              "      --disabled-bg-color: #DDD;\n",
              "  }\n",
              "\n",
              "  [theme=dark] .colab-df-quickchart {\n",
              "      --bg-color: #3B4455;\n",
              "      --fill-color: #D2E3FC;\n",
              "      --hover-bg-color: #434B5C;\n",
              "      --hover-fill-color: #FFFFFF;\n",
              "      --disabled-bg-color: #3B4455;\n",
              "      --disabled-fill-color: #666;\n",
              "  }\n",
              "\n",
              "  .colab-df-quickchart {\n",
              "    background-color: var(--bg-color);\n",
              "    border: none;\n",
              "    border-radius: 50%;\n",
              "    cursor: pointer;\n",
              "    display: none;\n",
              "    fill: var(--fill-color);\n",
              "    height: 32px;\n",
              "    padding: 0;\n",
              "    width: 32px;\n",
              "  }\n",
              "\n",
              "  .colab-df-quickchart:hover {\n",
              "    background-color: var(--hover-bg-color);\n",
              "    box-shadow: 0 1px 2px rgba(60, 64, 67, 0.3), 0 1px 3px 1px rgba(60, 64, 67, 0.15);\n",
              "    fill: var(--button-hover-fill-color);\n",
              "  }\n",
              "\n",
              "  .colab-df-quickchart-complete:disabled,\n",
              "  .colab-df-quickchart-complete:disabled:hover {\n",
              "    background-color: var(--disabled-bg-color);\n",
              "    fill: var(--disabled-fill-color);\n",
              "    box-shadow: none;\n",
              "  }\n",
              "\n",
              "  .colab-df-spinner {\n",
              "    border: 2px solid var(--fill-color);\n",
              "    border-color: transparent;\n",
              "    border-bottom-color: var(--fill-color);\n",
              "    animation:\n",
              "      spin 1s steps(1) infinite;\n",
              "  }\n",
              "\n",
              "  @keyframes spin {\n",
              "    0% {\n",
              "      border-color: transparent;\n",
              "      border-bottom-color: var(--fill-color);\n",
              "      border-left-color: var(--fill-color);\n",
              "    }\n",
              "    20% {\n",
              "      border-color: transparent;\n",
              "      border-left-color: var(--fill-color);\n",
              "      border-top-color: var(--fill-color);\n",
              "    }\n",
              "    30% {\n",
              "      border-color: transparent;\n",
              "      border-left-color: var(--fill-color);\n",
              "      border-top-color: var(--fill-color);\n",
              "      border-right-color: var(--fill-color);\n",
              "    }\n",
              "    40% {\n",
              "      border-color: transparent;\n",
              "      border-right-color: var(--fill-color);\n",
              "      border-top-color: var(--fill-color);\n",
              "    }\n",
              "    60% {\n",
              "      border-color: transparent;\n",
              "      border-right-color: var(--fill-color);\n",
              "    }\n",
              "    80% {\n",
              "      border-color: transparent;\n",
              "      border-right-color: var(--fill-color);\n",
              "      border-bottom-color: var(--fill-color);\n",
              "    }\n",
              "    90% {\n",
              "      border-color: transparent;\n",
              "      border-bottom-color: var(--fill-color);\n",
              "    }\n",
              "  }\n",
              "</style>\n",
              "\n",
              "  <script>\n",
              "    async function quickchart(key) {\n",
              "      const quickchartButtonEl =\n",
              "        document.querySelector('#' + key + ' button');\n",
              "      quickchartButtonEl.disabled = true;  // To prevent multiple clicks.\n",
              "      quickchartButtonEl.classList.add('colab-df-spinner');\n",
              "      try {\n",
              "        const charts = await google.colab.kernel.invokeFunction(\n",
              "            'suggestCharts', [key], {});\n",
              "      } catch (error) {\n",
              "        console.error('Error during call to suggestCharts:', error);\n",
              "      }\n",
              "      quickchartButtonEl.classList.remove('colab-df-spinner');\n",
              "      quickchartButtonEl.classList.add('colab-df-quickchart-complete');\n",
              "    }\n",
              "    (() => {\n",
              "      let quickchartButtonEl =\n",
              "        document.querySelector('#df-0a32dea8-ce3c-4aa5-8f49-2b43239543ec button');\n",
              "      quickchartButtonEl.style.display =\n",
              "        google.colab.kernel.accessAllowed ? 'block' : 'none';\n",
              "    })();\n",
              "  </script>\n",
              "</div>\n",
              "    </div>\n",
              "  </div>\n"
            ],
            "application/vnd.google.colaboratory.intrinsic+json": {
              "type": "dataframe",
              "variable_name": "data",
              "summary": "{\n  \"name\": \"data\",\n  \"rows\": 10,\n  \"fields\": [\n    {\n      \"column\": \"Medication\",\n      \"properties\": {\n        \"dtype\": \"string\",\n        \"num_unique_values\": 10,\n        \"samples\": [\n          \"Antidepressants\",\n          \"Ibuprofen\",\n          \"Insulin\"\n        ],\n        \"semantic_type\": \"\",\n        \"description\": \"\"\n      }\n    },\n    {\n      \"column\": \"Quantity\",\n      \"properties\": {\n        \"dtype\": \"number\",\n        \"std\": 48,\n        \"min\": 50,\n        \"max\": 200,\n        \"num_unique_values\": 10,\n        \"samples\": [\n          90,\n          200,\n          80\n        ],\n        \"semantic_type\": \"\",\n        \"description\": \"\"\n      }\n    }\n  ]\n}"
            }
          },
          "metadata": {},
          "execution_count": 4
        }
      ]
    },
    {
      "cell_type": "code",
      "source": [
        "# Create the plot\n",
        "plt.figure(figsize=(12, 6))\n",
        "sns.barplot(x='Medication', y='Quantity', data=data)\n",
        "\n",
        "# Style and display the plot\n",
        "plt.xticks(rotation=45)\n",
        "plt.xlabel('Medication')\n",
        "plt.ylabel('Quantity')\n",
        "plt.title('Quantity of Medication in Healthcare and Pharmaceuticals')\n",
        "plt.savefig(\"sales_bar.png\")\n",
        "plt.show()"
      ],
      "metadata": {
        "id": "Oa-jMexiWVOw",
        "colab": {
          "base_uri": "https://localhost:8080/",
          "height": 690
        },
        "outputId": "542c3870-fac0-48f8-81a6-3b722249db85"
      },
      "execution_count": null,
      "outputs": [
        {
          "output_type": "display_data",
          "data": {
            "text/plain": [
              "<Figure size 1200x600 with 1 Axes>"
            ],
            "image/png": "[encoded data removed]"
          },
          "metadata": {}
        }
      ]
    },
    {
      "cell_type": "markdown",
      "source": [
        "### Challenge"
      ],
      "metadata": {
        "id": "3scJVn7aVoDS"
      }
    },
    {
      "cell_type": "markdown",
      "source": [
        "Create a bar chart to visualize the Quantity of each Medication in the dataset from the URL: https://afterwork.ai/ds/ch/healthcare_and_pharmaceuticals_i8dv.csv."
      ],
      "metadata": {
        "id": "0RZJV4HGgj0C"
      }
    },
    {
      "cell_type": "code",
      "source": [
        "data = pd.read_csv(\"https://afterwork.ai/ds/ch/healthcare_and_pharmaceuticals_i8dv.csv\")\n",
        "data.head()"
      ],
      "metadata": {
        "id": "OxmyxFqNYbaJ"
      },
      "execution_count": null,
      "outputs": []
    },
    {
      "cell_type": "code",
      "source": [],
      "metadata": {
        "id": "2UrCVGQOVppI"
      },
      "execution_count": null,
      "outputs": []
    },
    {
      "cell_type": "markdown",
      "source": [
        "## 1.2 Line chart"
      ],
      "metadata": {
        "id": "yelgLnAbVql0"
      }
    },
    {
      "cell_type": "markdown",
      "source": [
        "A line chart is a type of chart that displays information as a series of data points called 'markers' connected by straight line segments. This type of chart is commonly used to show trends over time or to compare multiple sets of data.\n",
        "\n"
      ],
      "metadata": {
        "id": "SDwVUtDpguYw"
      }
    },
    {
      "cell_type": "code",
      "source": [
        "# Load the dataset\n",
        "df = pd.read_csv(\"https://afterwork.ai/ds/e/healthcare_and_pharmaceuticals_24yxv.csv\")\n",
        "\n",
        "# Preview the dataset\n",
        "df.head()"
      ],
      "metadata": {
        "id": "_6J9-0Jagwkb"
      },
      "execution_count": null,
      "outputs": []
    },
    {
      "cell_type": "code",
      "source": [
        "# Create a line chart using Seaborn\n",
        "sns.lineplot(x='Year', y='Revenue', data=df)\n",
        "sns.lineplot(x='Year', y='Expenses', data=df)\n",
        "\n",
        "# Add labels and title\n",
        "plt.xlabel('Year')\n",
        "plt.ylabel('Amount')\n",
        "plt.title('Revenue and Expenses Over Time')\n",
        "\n",
        "# Display the line chart\n",
        "plt.show()"
      ],
      "metadata": {
        "id": "oiB-dV5aVql1"
      },
      "execution_count": null,
      "outputs": []
    },
    {
      "cell_type": "markdown",
      "source": [
        "### Challenge"
      ],
      "metadata": {
        "id": "yueowGA0Vql1"
      }
    },
    {
      "cell_type": "markdown",
      "source": [
        "Create a line chart to visualize the 'Number of Patients' over the years from the dataset located at https://afterwork.ai/ds/ch/healthcare_ztlk.csv. Remember to use the 'Year' as the x-axis and 'Number of Patients' as the y-axis."
      ],
      "metadata": {
        "id": "KOLtvyTig8Dx"
      }
    },
    {
      "cell_type": "code",
      "source": [
        "# Load the dataset\n",
        "df = pd.read_csv(\"https://afterwork.ai/ds/ch/healthcare_ztlk.csv\")\n",
        "df.head()"
      ],
      "metadata": {
        "id": "85h0NvnKYjTw"
      },
      "execution_count": null,
      "outputs": []
    },
    {
      "cell_type": "code",
      "source": [
        "# Create a line chart using Seaborn\n",
        "\n",
        "\n",
        "# Add labels and title\n",
        "\n",
        "\n",
        "# Display the line chart\n",
        "\n"
      ],
      "metadata": {
        "id": "VcrLp0BGg70R"
      },
      "execution_count": null,
      "outputs": []
    },
    {
      "cell_type": "markdown",
      "source": [
        "## 1.3 Scatter plot"
      ],
      "metadata": {
        "id": "XRYDlrCFVsZP"
      }
    },
    {
      "cell_type": "markdown",
      "source": [
        "A scatter plot is a type of data visualization that uses dots to represent the values obtained for two different variables - one plotted along the x-axis and the other plotted along the y-axis. The position of each dot on the chart represents the value of the two variables for that data point.\n",
        "\n"
      ],
      "metadata": {
        "id": "cITJAwAfhQj-"
      }
    },
    {
      "cell_type": "code",
      "source": [
        "# Load the dataset\n",
        "df = pd.read_csv(\"https://afterwork.ai/ds/e/healthcare_and_pharmaceuticals_ysm97.csv\")\n",
        "\n",
        "# Preview the dataset\n",
        "df.head()"
      ],
      "metadata": {
        "id": "UHkMdlEBhTgr"
      },
      "execution_count": null,
      "outputs": []
    },
    {
      "cell_type": "code",
      "source": [
        "# Create a scatter plot\n",
        "sns.scatterplot(x='Age', y='Weight', data=df)\n",
        "\n",
        "# Display the plot\n",
        "plt.show()"
      ],
      "metadata": {
        "id": "mPm3MBvQVsZQ"
      },
      "execution_count": null,
      "outputs": []
    },
    {
      "cell_type": "markdown",
      "source": [
        "### Challenge"
      ],
      "metadata": {
        "id": "ueNMLK27VsZR"
      }
    },
    {
      "cell_type": "markdown",
      "source": [
        "Create a scatter plot using the dataset from the URL: https://afterwork.ai/ds/ch/healthcare_and_pharmaceuticals_jfi8.csv. The scatter plot should represent the relationship between Drug Effectiveness and Side Effects."
      ],
      "metadata": {
        "id": "8VKNwVvujkar"
      }
    },
    {
      "cell_type": "code",
      "source": [
        "# Load the dataset\n",
        "df = pd.read_csv(\"https://afterwork.ai/ds/ch/healthcare_and_pharmaceuticals_jfi8.csv\")\n",
        "df.head()"
      ],
      "metadata": {
        "id": "j_-YipigZo3D"
      },
      "execution_count": null,
      "outputs": []
    },
    {
      "cell_type": "code",
      "source": [
        "# Create a scatter plot\n",
        "\n",
        "\n",
        "# Display the plot\n"
      ],
      "metadata": {
        "id": "5GKxZYdrVsZS"
      },
      "execution_count": null,
      "outputs": []
    },
    {
      "cell_type": "markdown",
      "source": [
        "## 1.4 Histogram"
      ],
      "metadata": {
        "id": "ColofM-CVsh3"
      }
    },
    {
      "cell_type": "markdown",
      "source": [
        "A histogram is a type of chart that displays the distribution of a continuous variable. It consists of bars that represent the frequency of data points falling within specific ranges or bins. Histograms are useful for visualizing the shape, center, and spread of a dataset.\n",
        "\n"
      ],
      "metadata": {
        "id": "dDLhc5UXjttD"
      }
    },
    {
      "cell_type": "code",
      "source": [
        "# Load the dataset\n",
        "data = pd.read_csv(\"https://afterwork.ai/ds/e/healthcare_01hqm.csv\")\n",
        "\n",
        "# Preview the dataset\n",
        "data.head()"
      ],
      "metadata": {
        "id": "6UXjllpF7h2Z"
      },
      "execution_count": null,
      "outputs": []
    },
    {
      "cell_type": "code",
      "source": [
        "# Load the dataset\n",
        "data = pd.read_csv(\"https://afterwork.ai/ds/e/healthcare_01hqm.csv\")\n",
        "\n",
        "# Create a histogram of the 'Weight' column\n",
        "sns.histplot(data['Weight'], bins=5)\n",
        "plt.xlabel('Weight')\n",
        "plt.ylabel('Frequency')\n",
        "plt.title('Distribution of Weight')\n",
        "plt.show()"
      ],
      "metadata": {
        "id": "tFvjrdjWVsh4"
      },
      "execution_count": null,
      "outputs": []
    },
    {
      "cell_type": "markdown",
      "source": [
        "### Challenge"
      ],
      "metadata": {
        "id": "rsE6BtY4Vsh5"
      }
    },
    {
      "cell_type": "markdown",
      "source": [
        "Create a histogram to visualize the distribution of ages in the healthcare dataset from https://afterwork.ai/ds/ch/healthcare_g5re.csv."
      ],
      "metadata": {
        "id": "NbwdPGm7o0ez"
      }
    },
    {
      "cell_type": "code",
      "source": [
        "# Load the dataset\n",
        "data = pd.read_csv(\"https://afterwork.ai/ds/ch/healthcare_g5re.csv\")\n",
        "data.head()"
      ],
      "metadata": {
        "id": "AsqMiiEIZyZ6"
      },
      "execution_count": null,
      "outputs": []
    },
    {
      "cell_type": "code",
      "source": [
        "# Create a histogram of the 'Age' column\n"
      ],
      "metadata": {
        "id": "r4PyG-1hVsh5"
      },
      "execution_count": null,
      "outputs": []
    },
    {
      "cell_type": "markdown",
      "source": [
        "## 1.5 Box plot"
      ],
      "metadata": {
        "id": "48Fk7rMNVsrY"
      }
    },
    {
      "cell_type": "markdown",
      "source": [
        "A box plot is a type of chart that displays the distribution of a dataset based on five summary statistics: minimum, first quartile, median, third quartile, and maximum. It is useful for identifying outliers, understanding the spread of the data, and comparing multiple datasets.\n",
        "\n"
      ],
      "metadata": {
        "id": "O9pPI9etp0aF"
      }
    },
    {
      "cell_type": "code",
      "source": [
        "# Import data\n",
        "data = pd.read_csv(\"https://afterwork.ai/ds/e/healthcare_7kni1.csv\")\n",
        "\n",
        "# Preview the dataset\n",
        "data.head()"
      ],
      "metadata": {
        "id": "WQ0llU0qpHc2"
      },
      "execution_count": null,
      "outputs": []
    },
    {
      "cell_type": "code",
      "source": [
        "# Create a plot\n",
        "plt.figure(figsize=(8,6))\n",
        "sns.boxplot(data=data)\n",
        "\n",
        "# Style and display the plot\n",
        "plt.title(\"Box Plot of Healthcare Data\")\n",
        "plt.xlabel(\"Variables\")\n",
        "plt.ylabel(\"Values\")\n",
        "plt.show()"
      ],
      "metadata": {
        "id": "AL68iBPkVsrZ"
      },
      "execution_count": null,
      "outputs": []
    },
    {
      "cell_type": "code",
      "source": [
        "# Create a plot\n",
        "plt.figure(figsize=(8,6))\n",
        "sns.boxplot(x=data['Heart Rate'])\n",
        "\n",
        "# Style and display the plot\n",
        "plt.title(\"Box Plot of Heart Rate\")\n",
        "plt.xlabel(\"Variables\")\n",
        "plt.ylabel(\"Values\")\n",
        "plt.show()"
      ],
      "metadata": {
        "id": "haeewuKCp428"
      },
      "execution_count": null,
      "outputs": []
    },
    {
      "cell_type": "markdown",
      "source": [
        "### Challenge"
      ],
      "metadata": {
        "id": "es7XHB2SVsra"
      }
    },
    {
      "cell_type": "markdown",
      "source": [
        "Create a box plot to visualize the distribution of the 'Income' data from the dataset located at https://afterwork.ai/ds/ch/healthcare_zthb.csv."
      ],
      "metadata": {
        "id": "75yKRxwcpjUj"
      }
    },
    {
      "cell_type": "code",
      "source": [
        "# Import data\n",
        "data = pd.read_csv(\"https://afterwork.ai/ds/ch/healthcare_zthb.csv\")\n",
        "data.head()"
      ],
      "metadata": {
        "id": "aqN8HHWTZ48d"
      },
      "execution_count": null,
      "outputs": []
    },
    {
      "cell_type": "code",
      "source": [
        "# Create a plot\n",
        "\n",
        "\n",
        "# Style and display the plot\n"
      ],
      "metadata": {
        "id": "R_opzMxPVsra"
      },
      "execution_count": null,
      "outputs": []
    },
    {
      "cell_type": "markdown",
      "source": [
        "## 1.6 Pair plot"
      ],
      "metadata": {
        "id": "xlLkQ3M4Vs23"
      }
    },
    {
      "cell_type": "markdown",
      "source": [
        "A pair plot is a grid of scatterplots that shows the relationship between every possible pair of variables in a dataset. This allows us to quickly visualize the relationships and correlations between multiple variables at once.\n",
        "\n"
      ],
      "metadata": {
        "id": "Y95_JkSGqTxz"
      }
    },
    {
      "cell_type": "code",
      "source": [
        "# Load the dataset\n",
        "data = pd.read_csv(\"https://afterwork.ai/ds/e/healthcare_hyqd0.csv\")\n",
        "\n",
        "# Preview the dataset\n",
        "data.head()"
      ],
      "metadata": {
        "id": "ABSf1l4vq-Gb"
      },
      "execution_count": null,
      "outputs": []
    },
    {
      "cell_type": "code",
      "source": [
        "# Create a pair plot\n",
        "sns.pairplot(data)\n",
        "\n",
        "# Style and display the plot\n",
        "plt.show()"
      ],
      "metadata": {
        "id": "WGj7z6MCVs23"
      },
      "execution_count": null,
      "outputs": []
    },
    {
      "cell_type": "markdown",
      "source": [
        "### Challenge"
      ],
      "metadata": {
        "id": "KpfGA9vDVs23"
      }
    },
    {
      "cell_type": "markdown",
      "source": [
        "Create a pair plot to visualize the relationships and correlations between every possible pair of variables in the healthcare dataset from the URL: https://afterwork.ai/ds/ch/healthcare_52wa.csv."
      ],
      "metadata": {
        "id": "nnxgUd_pqu1s"
      }
    },
    {
      "cell_type": "code",
      "source": [
        "# load the dataset\n",
        "data = pd.read_csv(\"https://afterwork.ai/ds/ch/healthcare_52wa.csv\")\n",
        "data.head()"
      ],
      "metadata": {
        "id": "SVvYIK9GaAN4"
      },
      "execution_count": null,
      "outputs": []
    },
    {
      "cell_type": "code",
      "source": [
        "# create a pair plot\n",
        "\n",
        "\n",
        "# style and display the plot\n"
      ],
      "metadata": {
        "id": "vNaIjupcVs24"
      },
      "execution_count": null,
      "outputs": []
    },
    {
      "cell_type": "markdown",
      "source": [
        "## 1.7 Heatmap"
      ],
      "metadata": {
        "id": "MKDRT6e2VtC5"
      }
    },
    {
      "cell_type": "markdown",
      "source": [
        "Creating a heatmap involves representing data values in a matrix format using colors. Heatmaps are useful for identifying patterns and trends in large datasets, making it easier to interpret complex information at a glance.\n",
        "\n"
      ],
      "metadata": {
        "id": "s__cJvlXrIPD"
      }
    },
    {
      "cell_type": "code",
      "source": [
        "# Import data\n",
        "data = pd.read_csv(\"https://afterwork.ai/ds/e/healthcare_03kud.csv\")\n",
        "\n",
        "# Preview the dataset\n",
        "data.head()"
      ],
      "metadata": {
        "id": "hSwRq7O2rNX7"
      },
      "execution_count": null,
      "outputs": []
    },
    {
      "cell_type": "code",
      "source": [
        "# Select numerical columns\n",
        "numerical_data = data.select_dtypes(include=['float64', 'int64'])\n",
        "\n",
        "# Exclude Patient_ID\n",
        "numerical_data = numerical_data.drop(columns=['Patient_ID'], )\n",
        "\n",
        "# Preview the numerical data\n",
        "numerical_data.head()"
      ],
      "metadata": {
        "id": "FK0qNSqUrmBB"
      },
      "execution_count": null,
      "outputs": []
    },
    {
      "cell_type": "code",
      "source": [
        " # Create a plot\n",
        "plt.figure(figsize=(10, 6))\n",
        "heatmap = sns.heatmap(numerical_data.corr(), annot=True, cmap='coolwarm')\n",
        "\n",
        "# Style and display the plot\n",
        "plt.title('Correlation Heatmap of Healthcare Dataset')\n",
        "plt.show()"
      ],
      "metadata": {
        "id": "0R1fclheVtC6"
      },
      "execution_count": null,
      "outputs": []
    },
    {
      "cell_type": "markdown",
      "source": [
        "### Challenge"
      ],
      "metadata": {
        "id": "R_tldxnmVtC6"
      }
    },
    {
      "cell_type": "markdown",
      "source": [
        "Create a heatmap to visualize the severity of different health conditions in the dataset from the URL: https://afterwork.ai/ds/ch/healthcare_yr8m.csv."
      ],
      "metadata": {
        "id": "YlKkfRnhsghn"
      }
    },
    {
      "cell_type": "code",
      "source": [
        "# Load data\n",
        "data = pd.read_csv(\"https://afterwork.ai/ds/e/healthcare_03kud.csv\")\n",
        "\n",
        "# Select numerical columns\n",
        "numerical_data = data.select_dtypes(include=['float64', 'int64'])\n",
        "\n",
        "# Exclude Patient_ID\n",
        "numerical_data = numerical_data.drop(columns=['Patient_ID'], )\n",
        "\n",
        "numerical_data.head()"
      ],
      "metadata": {
        "id": "1XmddUR1aHmC"
      },
      "execution_count": null,
      "outputs": []
    },
    {
      "cell_type": "code",
      "source": [
        "# Write your code here\n",
        "\n",
        "\n",
        "# Label the chart\n",
        "\n",
        "\n",
        "# style and display the plot\n",
        "\n"
      ],
      "metadata": {
        "id": "8iyvZcsbVtC6"
      },
      "execution_count": null,
      "outputs": []
    },
    {
      "cell_type": "markdown",
      "source": [
        "# 2. Customizing plots"
      ],
      "metadata": {
        "id": "Yk05GEB4Szjb"
      }
    },
    {
      "cell_type": "markdown",
      "source": [
        "## 2.1 Customizing Color Palettes"
      ],
      "metadata": {
        "id": "6ZHwpTM6uMEN"
      }
    },
    {
      "cell_type": "markdown",
      "source": [
        "Customizing color palettes in Seaborn allows us to choose specific colors for our plots, making them more visually appealing and easier to interpret. This is important because color plays a crucial role in data visualization, as it can help differentiate between categories or highlight specific data points."
      ],
      "metadata": {
        "id": "7WKsyXeBuMEq"
      }
    },
    {
      "cell_type": "code",
      "source": [
        "# Import data\n",
        "data = pd.read_csv(\"https://afterwork.ai/ds/e/healthcare_r6ize.csv\")\n",
        "\n",
        "# Preview the dataset\n",
        "data.head()"
      ],
      "metadata": {
        "id": "rmFvDaEhuMEq"
      },
      "execution_count": null,
      "outputs": []
    },
    {
      "cell_type": "code",
      "source": [
        "# Create a plot\n",
        "sns.barplot(x='Diagnosis', y='Age', data=data, palette='Set2', hue='Diagnosis',)\n",
        "\n",
        "# Style and display the plot\n",
        "plt.title('Patient Diagnosis vs Age')\n",
        "plt.xticks(rotation=45)\n",
        "plt.show()"
      ],
      "metadata": {
        "id": "tcSI-HgauMEs"
      },
      "execution_count": null,
      "outputs": []
    },
    {
      "cell_type": "markdown",
      "source": [
        "### Challenge"
      ],
      "metadata": {
        "id": "yT4inUfNuMEs"
      }
    },
    {
      "cell_type": "markdown",
      "source": [
        "Create a scatter plot of weight and height using the dataset from the URL: https://afterwork.ai/ds/e/healthcare_03kud.csv. Customize the color palette of the plot to highlight the different genders in the dataset."
      ],
      "metadata": {
        "id": "94N6nqqDuMEs"
      }
    },
    {
      "cell_type": "code",
      "source": [
        "# import data\n",
        "data = pd.read_csv(\"https://afterwork.ai/ds/e/healthcare_03kud.csv\")\n",
        "data.head()"
      ],
      "metadata": {
        "id": "Wu78DLtOlrmD"
      },
      "execution_count": null,
      "outputs": []
    },
    {
      "cell_type": "code",
      "source": [
        "# create a scatter plot with custom color palette\n",
        "sns.scatterplot(x='Weight', y='Height', data=data, hue='Gender')\n",
        "\n",
        "# style and display the plot\n",
        "plt.title('Healthcare Dataset: Blood Pressure vs Glucose Level')\n",
        "plt.xlabel('Blood Pressure')\n",
        "plt.ylabel('Glucose Level')\n",
        "plt.legend(title='Diagnosis')\n",
        "plt.show()"
      ],
      "metadata": {
        "id": "DVNMAJ9cvsG7"
      },
      "execution_count": null,
      "outputs": []
    },
    {
      "cell_type": "markdown",
      "source": [
        "## 2.2 Adding Labels"
      ],
      "metadata": {
        "id": "rVzrDkOBuc0T"
      }
    },
    {
      "cell_type": "markdown",
      "source": [
        "Adding labels to plots in Seaborn allows us to provide additional information about the data being visualized. This can help viewers better understand the data and make more informed interpretations. Labels can be added to various elements of a plot, such as data points, axes, and titles.\n",
        "\n"
      ],
      "metadata": {
        "id": "AUanHeuxuc0w"
      }
    },
    {
      "cell_type": "code",
      "source": [
        "# Import data\n",
        "data = pd.read_csv(\"https://afterwork.ai/ds/e/healthcare_3n842.csv\")\n",
        "\n",
        "# Preview the data\n",
        "data.head()"
      ],
      "metadata": {
        "id": "7LRfiEhew6ip"
      },
      "execution_count": null,
      "outputs": []
    },
    {
      "cell_type": "code",
      "source": [
        "# Create a plot\n",
        "sns.scatterplot(x='Age', y='Diagnosis', data=data, hue='Gender')\n",
        "\n",
        "# Style and display the plot\n",
        "plt.title('Diagnosis by Age and Gender')\n",
        "plt.xlabel('Age')\n",
        "plt.ylabel('Diagnosis')\n",
        "plt.legend(title='Gender', loc='upper right')\n",
        "plt.show()"
      ],
      "metadata": {
        "id": "g-JfIlhJuc0w"
      },
      "execution_count": null,
      "outputs": []
    },
    {
      "cell_type": "markdown",
      "source": [
        "### Challenge"
      ],
      "metadata": {
        "id": "a7gtAaMuuc0x"
      }
    },
    {
      "cell_type": "markdown",
      "source": [
        "Create a Seaborn plot to visualize the distribution of ages in the healthcare dataset from the URL: https://afterwork.ai/ds/ch/healthcare_qzg4.csv. Add appropriate labels to the plot to provide additional information about the data being visualized."
      ],
      "metadata": {
        "id": "pcXeO-oHuc0x"
      }
    },
    {
      "cell_type": "code",
      "source": [
        "# import data\n",
        "data = pd.read_csv(\"https://afterwork.ai/ds/ch/healthcare_qzg4.csv\")\n",
        "data.head()"
      ],
      "metadata": {
        "id": "KxpZd08bl6L9"
      },
      "execution_count": null,
      "outputs": []
    },
    {
      "cell_type": "code",
      "source": [
        "# create a plot\n",
        "sns.histplot(data['Age'])\n",
        "\n",
        "# style and display the plot\n",
        "plt.title('Distribution of Ages in Healthcare Dataset')\n",
        "\n",
        "# add labels\n",
        "\n",
        "\n",
        "\n",
        "plt.show()"
      ],
      "metadata": {
        "id": "14XBoPMiuc0x"
      },
      "execution_count": null,
      "outputs": []
    },
    {
      "cell_type": "markdown",
      "source": [
        "## 2.3 Adding a grid"
      ],
      "metadata": {
        "id": "aBDK75MOueaR"
      }
    },
    {
      "cell_type": "markdown",
      "source": [
        "Adding a grid to a plot in Seaborn allows us to visually separate the data points and make it easier to interpret the information presented. The grid consists of horizontal and vertical lines that intersect at regular intervals, creating a background structure for the plot.\n",
        "\n"
      ],
      "metadata": {
        "id": "TZjj29aSueau"
      }
    },
    {
      "cell_type": "code",
      "source": [
        "# Import data\n",
        "data = pd.read_csv(\"https://afterwork.ai/ds/e/healthcare_i2znf.csv\")\n",
        "\n",
        "# Preview the dataset\n",
        "data.head()"
      ],
      "metadata": {
        "id": "0zzjFd1Dx1eg"
      },
      "execution_count": null,
      "outputs": []
    },
    {
      "cell_type": "code",
      "source": [
        "# Convert 'Insurance Coverage' column to string type\n",
        "data['Insurance Coverage'] = data['Insurance Coverage'].astype(str)\n",
        "\n",
        "# Remove percentage sign and convert to numeric\n",
        "data['Insurance Coverage'] = data['Insurance Coverage'].str.rstrip('%').astype(float)\n",
        "\n",
        "# Preview the dataset\n",
        "data.head()"
      ],
      "metadata": {
        "id": "O1leINRB0SUw"
      },
      "execution_count": null,
      "outputs": []
    },
    {
      "cell_type": "code",
      "source": [
        "# create a plot\n",
        "sns.set(style=\"whitegrid\")\n",
        "plt.figure(figsize=(10, 6))\n",
        "sns.scatterplot(x=\"Age\", y=\"Insurance Coverage\", data=data)\n",
        "\n",
        "# label the chart\n",
        "plt.title(\"Age vs Insurance Coverage\")\n",
        "\n",
        "# style and display the plot\n",
        "plt.show()"
      ],
      "metadata": {
        "id": "HuHetygiueau"
      },
      "execution_count": null,
      "outputs": []
    },
    {
      "cell_type": "markdown",
      "source": [
        "### Challenge"
      ],
      "metadata": {
        "id": "-P1y7wOgueav"
      }
    },
    {
      "cell_type": "markdown",
      "source": [
        "Create a plot using Seaborn to visualize the Age distribution of patients in the healthcare dataset from the URL: https://afterwork.ai/ds/ch/healthcare_aiyp.csv. Remember to add a grid to the plot to visually separate the data points and make it easier to interpret the information presented."
      ],
      "metadata": {
        "id": "RqCc2e2Bueaw"
      }
    },
    {
      "cell_type": "code",
      "source": [
        "# import data\n",
        "data = pd.read_csv(\"https://afterwork.ai/ds/ch/healthcare_aiyp.csv\")\n",
        "data.head()"
      ],
      "metadata": {
        "id": "kwOTpRxemCmI"
      },
      "execution_count": null,
      "outputs": []
    },
    {
      "cell_type": "code",
      "source": [
        "# create a plot\n",
        "sns.set(style=\"whitegrid\")\n",
        "plt.figure(figsize=(10, 6))\n",
        "sns.histplot(data['Age'])\n",
        "\n",
        "# add grid to the plot\n",
        "\n",
        "\n",
        "# label the chart\n",
        "plt.title(\"Age Distribution of Patients\")\n",
        "\n",
        "# style and display the plot\n",
        "plt.show()"
      ],
      "metadata": {
        "id": "Wthtt_u2ueaw"
      },
      "execution_count": null,
      "outputs": []
    },
    {
      "cell_type": "markdown",
      "source": [
        "# 3. Multiple plots"
      ],
      "metadata": {
        "id": "O3S9HCIO49-_"
      }
    },
    {
      "cell_type": "markdown",
      "source": [
        "## 3.1 Creating subplots"
      ],
      "metadata": {
        "id": "eX0kx36Z49_B"
      }
    },
    {
      "cell_type": "markdown",
      "source": [
        "Creating subplots allows us to display multiple visualizations in a single figure. This helps us compare different aspects of the data or different datasets in a more organized and efficient manner.\n",
        "\n"
      ],
      "metadata": {
        "id": "uV-VUBB949_C"
      }
    },
    {
      "cell_type": "code",
      "source": [
        "# Import data\n",
        "df = pd.read_csv(\"https://afterwork.ai/ds/e/healthcare_hyqd0.csv\")\n",
        "\n",
        "# Preview the data\n",
        "df.head()"
      ],
      "metadata": {
        "id": "Tm7uX4B655Pq"
      },
      "execution_count": null,
      "outputs": []
    },
    {
      "cell_type": "code",
      "source": [
        "# Create a plot\n",
        "fig, axes = plt.subplots(2, 2, figsize=(12, 8))\n",
        "\n",
        "sns.histplot(x='Cholesterol', data=df, ax=axes[0, 0])\n",
        "axes[0, 0].set_title('Cholesterol Distribution')\n",
        "\n",
        "sns.histplot(x='Heart_Rate', data=df, ax=axes[0, 1])\n",
        "axes[0, 1].set_title('Heart_Rate Distribution')\n",
        "axes[0, 1].tick_params(axis='x', rotation=45)\n",
        "\n",
        "sns.histplot(x='Weight', data=df, ax=axes[1, 0])\n",
        "axes[1, 0].set_title('Weight Distribution')\n",
        "axes[1, 0].tick_params(axis='x', rotation=45)\n",
        "\n",
        "sns.histplot(x='Age', data=df, ax=axes[1, 1])\n",
        "axes[1, 1].set_title('Age Distribution')\n",
        "\n",
        "# Style and display the plot\n",
        "plt.tight_layout()"
      ],
      "metadata": {
        "id": "9ZB4XGlo49_C"
      },
      "execution_count": null,
      "outputs": []
    },
    {
      "cell_type": "markdown",
      "source": [
        "### Challenge"
      ],
      "metadata": {
        "id": "2WJr0cc449_E"
      }
    },
    {
      "cell_type": "markdown",
      "source": [
        "Create subplots to visualize the distribution of 'Age' and 'Income' in the healthcare dataset from the URL: https://afterwork.ai/ds/ch/healthcare_9hcm.csv.\n"
      ],
      "metadata": {
        "id": "9ivz4iwv49_F"
      }
    },
    {
      "cell_type": "code",
      "source": [
        "# Import data\n",
        "df = pd.read_csv(\"https://afterwork.ai/ds/ch/healthcare_9hcm.csv\")\n",
        "df.head()"
      ],
      "metadata": {
        "id": "tBMZj352mfZF"
      },
      "execution_count": null,
      "outputs": []
    },
    {
      "cell_type": "code",
      "source": [
        "# Create the plot\n",
        "# Write your code here\n",
        "\n",
        "\n",
        "# Write your code here\n",
        "\n",
        "\n",
        "# Write your code here\n",
        "\n",
        "\n",
        "# Style and display the plot\n",
        "# Write your code here\n",
        "plt.show()"
      ],
      "metadata": {
        "id": "TzbZMjT249_F"
      },
      "execution_count": null,
      "outputs": []
    }
  ]
}