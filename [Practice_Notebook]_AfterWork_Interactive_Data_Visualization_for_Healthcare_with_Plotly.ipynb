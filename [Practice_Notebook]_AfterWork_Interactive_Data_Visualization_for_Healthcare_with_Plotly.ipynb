{
  "cells": [
    {
      "cell_type": "markdown",
      "metadata": {
        "id": "view-in-github",
        "colab_type": "text"
      },
      "source": [
        "<a href=\"https://colab.research.google.com/github/Odero254/intro_to_github/blob/main/%5BPractice_Notebook%5D_AfterWork_Interactive_Data_Visualization_for_Healthcare_with_Plotly.ipynb\" target=\"_parent\"><img src=\"https://colab.research.google.com/assets/colab-badge.svg\" alt=\"Open In Colab\"/></a>"
      ]
    },
    {
      "cell_type": "markdown",
      "metadata": {
        "id": "oK9vGCn6pfmJ"
      },
      "source": [
        "# [Practice Notebook] AfterWork: Interactive Data Visualization for Healthcare with Plotly"
      ]
    },
    {
      "cell_type": "markdown",
      "metadata": {
        "id": "dmuwHKiVpi7g"
      },
      "source": [
        "# Pre-requisite"
      ]
    },
    {
      "cell_type": "code",
      "execution_count": null,
      "metadata": {
        "id": "azGHiyJJpZnR"
      },
      "outputs": [],
      "source": [
        "# Import the Pandas library for data manipulation\n",
        "import pandas as pd\n",
        "\n",
        "# Import the Plotly to create interactive data visualizations\n",
        "import plotly.express as px"
      ]
    },
    {
      "cell_type": "markdown",
      "metadata": {
        "id": "lpxJiEJRpsHD"
      },
      "source": [
        "# 1. Bar chart"
      ]
    },
    {
      "cell_type": "markdown",
      "metadata": {
        "id": "nRO3EIEkrLCf"
      },
      "source": [
        "A bar chart is a type of chart that represents data with rectangular bars. The length of each bar is proportional to the value it represents. Bar charts are useful for comparing different categories of data and showing trends over time.\n",
        "\n"
      ]
    },
    {
      "cell_type": "code",
      "execution_count": null,
      "metadata": {
        "id": "AofDhejWqmjA"
      },
      "outputs": [],
      "source": [
        "# Import the data\n",
        "data = pd.read_csv(\"https://afterwork.ai/ds/e/healthcare_sector_a8wk0.csv\")\n",
        "\n",
        "# Preview the dataset\n",
        "data.head()"
      ]
    },
    {
      "cell_type": "code",
      "execution_count": null,
      "metadata": {
        "id": "8TrmsEepprWS"
      },
      "outputs": [],
      "source": [
        "# Create the plot\n",
        "fig = px.bar(data,\n",
        "             x='Hospital',\n",
        "             y='Patients',\n",
        "             title='Patients in Different Hospitals')\n",
        "\n",
        "# Display the plot\n",
        "fig.show()"
      ]
    },
    {
      "cell_type": "markdown",
      "metadata": {
        "id": "ldf4rbyopuiv"
      },
      "source": [
        "## Challenge"
      ]
    },
    {
      "cell_type": "markdown",
      "metadata": {
        "id": "4w2YQ7n1rIGU"
      },
      "source": [
        "Create a bar chart using the dataset from the URL: https://afterwork.ai/ds/ch/healthcare_sector_qh2o.csv. The bar chart should represent the 'Number of Patients' for each 'Condition'."
      ]
    },
    {
      "cell_type": "code",
      "source": [
        "# Import the data\n",
        "data = pd.read_csv(\"https://afterwork.ai/ds/ch/healthcare_sector_qh2o.csv\")\n",
        "data.head()"
      ],
      "metadata": {
        "id": "Yrw-yjls6rvp"
      },
      "execution_count": null,
      "outputs": []
    },
    {
      "cell_type": "code",
      "execution_count": null,
      "metadata": {
        "id": "kAmavREPpvsQ"
      },
      "outputs": [],
      "source": [
        "# Create the plot\n",
        "\n",
        "\n",
        "# Display the plot\n"
      ]
    },
    {
      "cell_type": "markdown",
      "metadata": {
        "id": "SSeyYEHwpwmf"
      },
      "source": [
        "# 2. Line chart"
      ]
    },
    {
      "cell_type": "markdown",
      "metadata": {
        "id": "pUJbwGqdrTvM"
      },
      "source": [
        "A line chart is a type of chart that displays information as a series of data points connected by straight line segments. Line charts are commonly used to show trends over time or to compare multiple sets of data.\n",
        "\n"
      ]
    },
    {
      "cell_type": "code",
      "execution_count": null,
      "metadata": {
        "id": "3h95D0tCr42Z"
      },
      "outputs": [],
      "source": [
        "# Import the data\n",
        "df = pd.read_csv(\"https://afterwork.ai/ds/e/healthcare_sector_1exci.csv\")\n",
        "\n",
        "# Preview the data\n",
        "df.head()"
      ]
    },
    {
      "cell_type": "code",
      "execution_count": null,
      "metadata": {
        "id": "814yQAaJrWkM"
      },
      "outputs": [],
      "source": [
        "# Create the plot\n",
        "fig = px.line(df,\n",
        "              x='Year',\n",
        "              y='Number of Patients',\n",
        "              markers=True,\n",
        "              title='Number of Patients over the Years')\n",
        "# Label the axes\n",
        "fig.update_layout(xaxis_title='Year', yaxis_title='Number of Patients')\n",
        "\n",
        "# Display the plot\n",
        "fig.show()"
      ]
    },
    {
      "cell_type": "markdown",
      "metadata": {
        "id": "KHuLKjT2pwmg"
      },
      "source": [
        "## Challenge"
      ]
    },
    {
      "cell_type": "markdown",
      "metadata": {
        "id": "7bNb7bu9sL-E"
      },
      "source": [
        "Create a line chart using the dataset from the URL: https://afterwork.ai/ds/ch/healthcare_sector_ozrl.csv to visualize the trend of Revenue over the months. Remember to label the x-axis with 'Month' and the y-axis with 'Revenue'."
      ]
    },
    {
      "cell_type": "code",
      "source": [
        "# Import the data\n",
        "df = pd.read_csv(\"https://afterwork.ai/ds/ch/healthcare_sector_ozrl.csv\")\n",
        "df.head()"
      ],
      "metadata": {
        "id": "wWZR5Hur61z3"
      },
      "execution_count": null,
      "outputs": []
    },
    {
      "cell_type": "code",
      "execution_count": null,
      "metadata": {
        "id": "2n6lVK0jpwmg"
      },
      "outputs": [],
      "source": [
        "# Create the plot\n",
        "\n",
        "\n",
        "# Label the axes\n",
        "\n",
        "\n",
        "# Style and display the plot\n"
      ]
    },
    {
      "cell_type": "markdown",
      "metadata": {
        "id": "5dG7F9iNpwwE"
      },
      "source": [
        "# 3. Histogram"
      ]
    },
    {
      "cell_type": "markdown",
      "metadata": {
        "id": "vQBIxHmYs1R7"
      },
      "source": [
        "A histogram is a type of chart that displays the distribution of a continuous variable. It consists of a series of bars, where the height of each bar represents the frequency of data within a specific range.\n",
        "\n"
      ]
    },
    {
      "cell_type": "code",
      "execution_count": null,
      "metadata": {
        "id": "32TOZkTss97v"
      },
      "outputs": [],
      "source": [
        "# Import the data\n",
        "data = pd.read_csv(\"https://afterwork.ai/ds/e/healthcare_sector_5n91o.csv\")\n",
        "\n",
        "# Preview the dataset\n",
        "data.head()"
      ]
    },
    {
      "cell_type": "code",
      "execution_count": null,
      "metadata": {
        "id": "1E56stOkpwwF"
      },
      "outputs": [],
      "source": [
        "# Create the plot\n",
        "fig = px.histogram(data,\n",
        "                   x=\"Age\",\n",
        "                   nbins=10)\n",
        "\n",
        "# Display the plot\n",
        "fig.show()"
      ]
    },
    {
      "cell_type": "markdown",
      "metadata": {
        "id": "shb_K6NcpwwF"
      },
      "source": [
        "## Challenge"
      ]
    },
    {
      "cell_type": "markdown",
      "metadata": {
        "id": "dsJEw_UytKt3"
      },
      "source": [
        "Create a histogram to display the distribution of ages from the dataset located at https://afterwork.ai/ds/ch/healthcare_sector_l9ao.csv."
      ]
    },
    {
      "cell_type": "code",
      "source": [
        "# Import the data\n",
        "df = pd.read_csv(\"https://afterwork.ai/ds/ch/healthcare_sector_ozrl.csv\")\n",
        "df.head()"
      ],
      "metadata": {
        "id": "tFmXicBO7F1a"
      },
      "execution_count": null,
      "outputs": []
    },
    {
      "cell_type": "code",
      "execution_count": null,
      "metadata": {
        "id": "kWPvsMWgpwwG"
      },
      "outputs": [],
      "source": [
        "# Create the plot\n",
        "\n",
        "\n",
        "# Label the axes\n",
        "\n",
        "\n",
        "# Style and display the plot\n",
        "\n"
      ]
    },
    {
      "cell_type": "markdown",
      "metadata": {
        "id": "GwIUj4DFpw6Y"
      },
      "source": [
        "# 4. Scatter plot"
      ]
    },
    {
      "cell_type": "markdown",
      "metadata": {
        "id": "bxiGHgGct7Or"
      },
      "source": [
        "A scatter plot is a type of data visualization that uses dots to represent the values obtained for two different variables - one plotted along the x-axis and the other along the y-axis. The position of each dot on the chart represents the value of the two variables for that data point. Scatter plots are useful for identifying relationships between variables, detecting outliers, and visualizing patterns in the data.\n",
        "\n"
      ]
    },
    {
      "cell_type": "code",
      "execution_count": null,
      "metadata": {
        "id": "6xrw9HYQtsKH"
      },
      "outputs": [],
      "source": [
        "# Import the data\n",
        "data = pd.read_csv(\"https://afterwork.ai/ds/e/healthcare_sector_ordxy.csv\")\n",
        "\n",
        "# Preview the data\n",
        "data.head()"
      ]
    },
    {
      "cell_type": "code",
      "execution_count": null,
      "metadata": {
        "id": "0rv7I5Qcpw6Y"
      },
      "outputs": [],
      "source": [
        "# Create the plot\n",
        "fig = px.scatter(data,\n",
        "                 x='Cholesterol_Level',\n",
        "                 y='Blood_Pressure',\n",
        "                 size='Age',\n",
        "                 title='Healthcare Sector Scatter Plot')\n",
        "\n",
        "# Display the plot\n",
        "fig.show()"
      ]
    },
    {
      "cell_type": "markdown",
      "metadata": {
        "id": "3v3zDAScpw6Z"
      },
      "source": [
        "## Challenge"
      ]
    },
    {
      "cell_type": "markdown",
      "metadata": {
        "id": "ogxTBqtluZNb"
      },
      "source": [
        "Create a scatter plot using the 'Age' and 'Income' variables from the dataset located at https://afterwork.ai/ds/ch/healthcare_sector_6sk1.csv."
      ]
    },
    {
      "cell_type": "code",
      "source": [
        "# Load the dataset\n",
        "data = pd.read_csv(\"https://afterwork.ai/ds/ch/healthcare_sector_6sk1.csv\")\n",
        "data.head()"
      ],
      "metadata": {
        "id": "V7g2knfs7N72"
      },
      "execution_count": null,
      "outputs": []
    },
    {
      "cell_type": "code",
      "execution_count": null,
      "metadata": {
        "id": "8x1xM8-Apw6Z"
      },
      "outputs": [],
      "source": [
        "# Create the scatter plot\n",
        "\n",
        "\n",
        "# Display the plot\n"
      ]
    },
    {
      "cell_type": "markdown",
      "metadata": {
        "id": "nJig0ULKpxCT"
      },
      "source": [
        "# 5. Pie chart"
      ]
    },
    {
      "cell_type": "markdown",
      "metadata": {
        "id": "QRwAtoDKwBui"
      },
      "source": [
        "A pie chart is a circular statistical graphic that is divided into slices to illustrate numerical proportions. Each slice represents a proportion of the whole, with the size of the slice corresponding to the percentage it represents.\n",
        "\n"
      ]
    },
    {
      "cell_type": "code",
      "execution_count": null,
      "metadata": {
        "id": "7V9Uppvru8G4"
      },
      "outputs": [],
      "source": [
        "# Import the data\n",
        "data = pd.read_csv(\"https://afterwork.ai/ds/e/healthcare_sector_kvpdu.csv\")\n",
        "\n",
        "# Display the data\n",
        "data"
      ]
    },
    {
      "cell_type": "code",
      "execution_count": null,
      "metadata": {
        "id": "m5TBv1GfpxCT"
      },
      "outputs": [],
      "source": [
        "# Create the plot\n",
        "fig = px.pie(data,\n",
        "             names='Gender',\n",
        "             values='Income',\n",
        "             title='Income Distribution in Healthcare Sector')\n",
        "\n",
        "# Display the plot\n",
        "fig.show()"
      ]
    },
    {
      "cell_type": "markdown",
      "metadata": {
        "id": "UTPLqkaLpxCT"
      },
      "source": [
        "## Challenge"
      ]
    },
    {
      "cell_type": "markdown",
      "metadata": {
        "id": "5J3wTZvOxt1C"
      },
      "source": [
        "Create a pie chart to visualize the distribution of conditions among patients in the healthcare sector using the dataset from the URL: https://afterwork.ai/ds/ch/healthcare_sector_jfnh.csv. Remember that each slice of the pie chart should represent a proportion of the whole based on the 'Number of Patients' column."
      ]
    },
    {
      "cell_type": "code",
      "source": [
        "# Import the data\n",
        "data = pd.read_csv(\"https://afterwork.ai/ds/ch/healthcare_sector_jfnh.csv\")\n",
        "data.head()"
      ],
      "metadata": {
        "id": "Zg7TCIci76OA"
      },
      "execution_count": null,
      "outputs": []
    },
    {
      "cell_type": "code",
      "execution_count": null,
      "metadata": {
        "id": "7gpXdO3WpxCU"
      },
      "outputs": [],
      "source": [
        "# Create the plot\n",
        "\n",
        "\n",
        "# Display the plot\n"
      ]
    },
    {
      "cell_type": "markdown",
      "metadata": {
        "id": "4YYXpsTmpxLE"
      },
      "source": [
        "# 6. Bubble chart"
      ]
    },
    {
      "cell_type": "markdown",
      "metadata": {
        "id": "aHbYDoPLx0og"
      },
      "source": [
        "A bubble chart is a type of chart that displays data points as bubbles, where the size of each bubble represents a third numerical value. This allows us to visualize three dimensions of data in a two-dimensional plot.\n",
        "\n"
      ]
    },
    {
      "cell_type": "code",
      "execution_count": null,
      "metadata": {
        "id": "4ygWeKG4x4G9"
      },
      "outputs": [],
      "source": [
        "# Import the data\n",
        "data = pd.read_csv(\"https://afterwork.ai/ds/e/healthcare_sector_n0bx1.csv\")\n",
        "\n",
        "# Preview the dataset\n",
        "data.head()"
      ]
    },
    {
      "cell_type": "code",
      "execution_count": null,
      "metadata": {
        "id": "d8VBXSJwpxLF"
      },
      "outputs": [],
      "source": [
        "# Create the plot\n",
        "fig = px.scatter(data, x='Age',\n",
        "                 y='Days_in_Hospital',\n",
        "                 size='Days_in_Hospital',\n",
        "                 color='Gender',\n",
        "                 hover_name='Patient_Name',\n",
        "                 title='Healthcare Sector Bubble Chart')\n",
        "\n",
        "# Display the plot\n",
        "fig.show()"
      ]
    },
    {
      "cell_type": "markdown",
      "metadata": {
        "id": "WdRLg536pxLF"
      },
      "source": [
        "## Challenge"
      ]
    },
    {
      "cell_type": "markdown",
      "source": [
        "Create a bubble chart using the dataset from the URL: https://afterwork.ai/ds/ch/health_resources_yfjs.csv. Display the 'Number of Hospitals' on the x-axis, 'Number of Doctors' on the y-axis, and use the size of the bubbles to represent the 'Number of Hospitals' of each location."
      ],
      "metadata": {
        "id": "NkCtWweblFHI"
      }
    },
    {
      "cell_type": "code",
      "source": [
        "# Import the dataset\n",
        "data = pd.read_csv(\"https://afterwork.ai/ds/ch/health_resources_yfjs.csv\")\n",
        "data.head()"
      ],
      "metadata": {
        "id": "eGB2jopd8DlG"
      },
      "execution_count": null,
      "outputs": []
    },
    {
      "cell_type": "code",
      "execution_count": null,
      "metadata": {
        "id": "yflWT_OTpxLG"
      },
      "outputs": [],
      "source": [
        "# Create the plot\n",
        "\n",
        "\n",
        "# Display the plot\n",
        "\n"
      ]
    },
    {
      "cell_type": "markdown",
      "metadata": {
        "id": "AbUvMc0XpxT4"
      },
      "source": [
        "# 7. Box plot"
      ]
    },
    {
      "cell_type": "markdown",
      "source": [
        "A box plot is a graphical representation of the distribution of a dataset based on five key summary statistics: minimum, first quartile, median, third quartile, and maximum. It is useful for visualizing the spread and skewness of the data, as well as identifying outliers.\n",
        "\n"
      ],
      "metadata": {
        "id": "Vwz4BmP5l7uM"
      }
    },
    {
      "cell_type": "code",
      "source": [
        "# Loading the dataset\n",
        "data = pd.read_csv(\"https://afterwork.ai/ds/e/healthcare_sector_dkvax.csv\")\n",
        "\n",
        "# Previewing the datas\n",
        "data.head()"
      ],
      "metadata": {
        "id": "lCE7MHLtlx7s"
      },
      "execution_count": null,
      "outputs": []
    },
    {
      "cell_type": "code",
      "execution_count": null,
      "metadata": {
        "id": "nVbS1wRipxT5"
      },
      "outputs": [],
      "source": [
        "# Create the plot\n",
        "fig = px.box(data,\n",
        "             y=[\"Age\", \"Heart Rate\", \"Blood Pressure\"],\n",
        "             title=\"Box Plot of Healthcare Data\")\n",
        "\n",
        "# Display the plot\n",
        "fig.show()"
      ]
    },
    {
      "cell_type": "markdown",
      "metadata": {
        "id": "PG9oWD0CpxT5"
      },
      "source": [
        "## Challenge"
      ]
    },
    {
      "cell_type": "markdown",
      "source": [
        "\n",
        "Create a box plot to visualize the distribution of the 'Income' data from the dataset located at https://afterwork.ai/ds/ch/healthcare_sector_qg5u.csv"
      ],
      "metadata": {
        "id": "kHaHDSoFmVNZ"
      }
    },
    {
      "cell_type": "code",
      "source": [
        "# Load the dataset\n",
        "data = pd.read_csv(\"https://afterwork.ai/ds/ch/healthcare_sector_qg5u.csv\")\n",
        "data.head()"
      ],
      "metadata": {
        "id": "jQt3lOSi8LTG"
      },
      "execution_count": null,
      "outputs": []
    },
    {
      "cell_type": "code",
      "execution_count": null,
      "metadata": {
        "id": "cMunrU7BpxT5"
      },
      "outputs": [],
      "source": [
        "# Create the box plot for the 'Income' data\n",
        "\n",
        "\n",
        "# Display the plot\n"
      ]
    }
  ],
  "metadata": {
    "colab": {
      "toc_visible": true,
      "provenance": [],
      "collapsed_sections": [
        "dmuwHKiVpi7g",
        "lpxJiEJRpsHD",
        "ldf4rbyopuiv",
        "SSeyYEHwpwmf",
        "KHuLKjT2pwmg",
        "5dG7F9iNpwwE",
        "shb_K6NcpwwF",
        "GwIUj4DFpw6Y",
        "3v3zDAScpw6Z",
        "nJig0ULKpxCT",
        "UTPLqkaLpxCT",
        "4YYXpsTmpxLE",
        "WdRLg536pxLF",
        "AbUvMc0XpxT4",
        "PG9oWD0CpxT5"
      ],
      "include_colab_link": true
    },
    "kernelspec": {
      "display_name": "Python 3",
      "name": "python3"
    },
    "language_info": {
      "name": "python"
    }
  },
  "nbformat": 4,
  "nbformat_minor": 0
}