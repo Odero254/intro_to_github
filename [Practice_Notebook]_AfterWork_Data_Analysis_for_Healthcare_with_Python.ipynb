{
  "nbformat": 4,
  "nbformat_minor": 0,
  "metadata": {
    "colab": {
      "provenance": [],
      "collapsed_sections": [
        "72BjwWUJxrjh",
        "51sV9obRxth9",
        "tquu6yaOxxX6",
        "VaBqWcqqx6c0",
        "JAxQ4FROyCjt",
        "TwA1bfIuyCju",
        "nRge-GRZyCjv",
        "fXEx6Lq9yNkG",
        "BS9PLAedyNkH",
        "iMury-J4yQl_",
        "HdGcG_t7yQmA",
        "dlD4GqfsyXKd",
        "z-Q858j-yXKe",
        "QPqooY7hybfM",
        "omrFyD13ybfN",
        "lPzx6HHSybfN",
        "QVE8c_eWybfO",
        "unAsxhysybfd",
        "VdxceCrpyqoM",
        "FtVbMaRQyqoZ",
        "bcLnOs9Kyqoa",
        "9UoSZkxiyqoa",
        "DK-tA7enyqob",
        "ppYXeViNy1oi",
        "Qgw2210hy1o2",
        "bS-V2D_Ey1o2",
        "-8icXUBUy1o3",
        "je9fuy79y_v4",
        "8ZLKvYe7y_wI",
        "Xd_KAN1ly_wI",
        "EhanmS8Fy_wK",
        "CH_7-Hzty_wK",
        "BM9G6j4XzZpg",
        "1XzA1TsLzZpx",
        "G4aRBZjpzS5b",
        "QsrIQX7wzS5m",
        "JQtRwFCQzS5n",
        "47UQuR0WzS5n",
        "LMvifH5pzS5n"
      ],
      "toc_visible": true,
      "include_colab_link": true
    },
    "kernelspec": {
      "name": "python3",
      "display_name": "Python 3"
    },
    "language_info": {
      "name": "python"
    }
  },
  "cells": [
    {
      "cell_type": "markdown",
      "metadata": {
        "id": "view-in-github",
        "colab_type": "text"
      },
      "source": [
        "<a href=\"https://colab.research.google.com/github/Odero254/intro_to_github/blob/main/%5BPractice_Notebook%5D_AfterWork_Data_Analysis_for_Healthcare_with_Python.ipynb\" target=\"_parent\"><img src=\"https://colab.research.google.com/assets/colab-badge.svg\" alt=\"Open In Colab\"/></a>"
      ]
    },
    {
      "cell_type": "markdown",
      "source": [
        "# [Practice Notebook] AfterWork: Data Analysis for Healthcare with Python"
      ],
      "metadata": {
        "id": "6uMKSJYNxnbZ"
      }
    },
    {
      "cell_type": "markdown",
      "source": [
        "## Pre-requisite"
      ],
      "metadata": {
        "id": "72BjwWUJxrjh"
      }
    },
    {
      "cell_type": "code",
      "execution_count": null,
      "metadata": {
        "id": "Duaez0AVxcUP"
      },
      "outputs": [],
      "source": [
        "# We import the Pandas library for data manipulation\n",
        "import pandas as pd"
      ]
    },
    {
      "cell_type": "markdown",
      "source": [
        "## 1. Importing Data"
      ],
      "metadata": {
        "id": "51sV9obRxth9"
      }
    },
    {
      "cell_type": "markdown",
      "source": [
        "### 1.1 Importing data from a CSV file"
      ],
      "metadata": {
        "id": "tquu6yaOxxX6"
      }
    },
    {
      "cell_type": "markdown",
      "source": [
        "Reading CSV files in Python using Pandas allows us to import tabular data from a CSV file into a DataFrame. This is important because CSV files are a common format for storing data and being able to read them into a DataFrame allows us to easily manipulate and analyze the data using Pandas."
      ],
      "metadata": {
        "id": "fDHDQ-RQx4wA"
      }
    },
    {
      "cell_type": "code",
      "source": [
        "df = pd.read_csv(\"https://archive.org/download/dsheaph/healthcare_and_pharmaceuticals_at35.csv\")\n",
        "df"
      ],
      "metadata": {
        "id": "7M1F2Mlmx6CH"
      },
      "execution_count": null,
      "outputs": []
    },
    {
      "cell_type": "markdown",
      "source": [
        "**Explanation**: We import the pandas library and alias it as pd. We then store the URL of a CSV file in a variable called url. Next, we use the pd.read_csv() function to read the data from the CSV file located at the specified URL and store it in a DataFrame called df. Finally, we print out the contents of the DataFrame df."
      ],
      "metadata": {
        "id": "r5djaAw10VGD"
      }
    },
    {
      "cell_type": "markdown",
      "source": [
        "#### <font color=\"green\">Challenge</font>"
      ],
      "metadata": {
        "id": "VaBqWcqqx6c0"
      }
    },
    {
      "cell_type": "markdown",
      "source": [
        "Read the CSV file from the following URL: https://archive.org/download/dsheaph/healthcare_and_pharmaceuticals_qf6m.csv using Pandas in Python."
      ],
      "metadata": {
        "id": "w1nOivfd0crY"
      }
    },
    {
      "cell_type": "code",
      "source": [
        "# Write your code here\n"
      ],
      "metadata": {
        "id": "imsNvqxoyA8x"
      },
      "execution_count": null,
      "outputs": []
    },
    {
      "cell_type": "markdown",
      "source": [
        "## 2. Data Exploration"
      ],
      "metadata": {
        "id": "JAxQ4FROyCjt"
      }
    },
    {
      "cell_type": "markdown",
      "source": [
        "### 2.1 Getting the first five records"
      ],
      "metadata": {
        "id": "TwA1bfIuyCju"
      }
    },
    {
      "cell_type": "markdown",
      "source": [
        "Getting the first 5 records in a dataset allows us to quickly view a subset of the data and understand the initial patterns and trends. This concept is important because it helps us to get a quick overview of the dataset and make informed decisions on further data analysis."
      ],
      "metadata": {
        "id": "4PEe4GZdyCju"
      }
    },
    {
      "cell_type": "code",
      "source": [
        "# Load the dataset\n",
        "df = pd.read_csv(\"https://archive.org/download/dsheaph/healthcare_and_pharmaceuticals_var2.csv\")\n",
        "\n",
        "# Get the first 5 records\n",
        "df.head()"
      ],
      "metadata": {
        "id": "ZuiwtN13yCjv"
      },
      "execution_count": null,
      "outputs": []
    },
    {
      "cell_type": "markdown",
      "source": [
        "#### <font color=\"green\">Challenge</font>"
      ],
      "metadata": {
        "id": "nRge-GRZyCjv"
      }
    },
    {
      "cell_type": "markdown",
      "source": [
        "Write a Python program that retrieves the first 5 records from the dataset located at https://archive.org/download/dsheaph/healthcare_and_pharmaceuticals_89ui.csv using Pandas. Remember to use the head() function to display the subset of data."
      ],
      "metadata": {
        "id": "ZHB_4c6z02qz"
      }
    },
    {
      "cell_type": "code",
      "source": [
        "# Write your code here\n"
      ],
      "metadata": {
        "id": "wGrL8Om1yCjv"
      },
      "execution_count": null,
      "outputs": []
    },
    {
      "cell_type": "markdown",
      "source": [
        "### 2.2 Getting the last five records"
      ],
      "metadata": {
        "id": "fXEx6Lq9yNkG"
      }
    },
    {
      "cell_type": "markdown",
      "source": [
        "Getting the last 5 records in a dataset allows us to quickly view the most recent data entries. This can be useful for tracking trends, monitoring changes over time, or identifying outliers at the end of a dataset.\n",
        "\n"
      ],
      "metadata": {
        "id": "IDFNX4mcyNkG"
      }
    },
    {
      "cell_type": "code",
      "source": [
        "# Load the dataset from the URL\n",
        "df = pd.read_csv(\"https://archive.org/download/dsheaph/healthcare_and_pharmaceuticals_lsonf.csv\")\n",
        "\n",
        "# Get the last 5 records\n",
        "df.tail()"
      ],
      "metadata": {
        "id": "NUO9faVOyNkH"
      },
      "execution_count": null,
      "outputs": []
    },
    {
      "cell_type": "markdown",
      "source": [
        "#### <font color=\"green\">Challenge</font>"
      ],
      "metadata": {
        "id": "BS9PLAedyNkH"
      }
    },
    {
      "cell_type": "markdown",
      "source": [
        "Write a Python program that retrieves the last 5 records from the dataset located at https://archive.org/download/dsheaph/healthcare_and_pharmaceuticals_31hs.csv. Remember to use Pandas to read in the CSV file and select the last 5 rows of the dataset."
      ],
      "metadata": {
        "id": "0V3Lb4aV1iMN"
      }
    },
    {
      "cell_type": "code",
      "source": [
        "# Write your code here\n"
      ],
      "metadata": {
        "id": "ZoZwP6UsyNkH"
      },
      "execution_count": null,
      "outputs": []
    },
    {
      "cell_type": "markdown",
      "source": [
        "### 2.3 Getting a random sample"
      ],
      "metadata": {
        "id": "iMury-J4yQl_"
      }
    },
    {
      "cell_type": "markdown",
      "source": [
        "Getting a random sample entails the selecting of a subset of data from a larger dataset in a random manner. This is important in healthcare data analysis as it helps us to avoid bias and ensure that our analysis is representative of the entire population."
      ],
      "metadata": {
        "id": "grZcYwXvyQl_"
      }
    },
    {
      "cell_type": "code",
      "source": [
        "# Load the dataset\n",
        "df = pd.read_csv(\"https://archive.org/download/dsheaph/healthcare_and_pharmaceuticals_h3od.csv\")\n",
        "\n",
        "# Get a random sample of 5 rows from the dataset\n",
        "df.sample(5)"
      ],
      "metadata": {
        "id": "cIB_skwoyQmA"
      },
      "execution_count": null,
      "outputs": []
    },
    {
      "cell_type": "markdown",
      "source": [
        "#### <font color=\"green\">Challenge</font>"
      ],
      "metadata": {
        "id": "HdGcG_t7yQmA"
      }
    },
    {
      "cell_type": "markdown",
      "source": [
        "Get a random sample of 3 patients from the healthcare dataset located at https://archive.org/download/dsheaph/healthcare_and_pharmaceuticals_g7av.csv."
      ],
      "metadata": {
        "id": "cGFZs5iw2TA3"
      }
    },
    {
      "cell_type": "code",
      "source": [
        "# Write your code here\n"
      ],
      "metadata": {
        "id": "8KAH0I7vyQmA"
      },
      "execution_count": null,
      "outputs": []
    },
    {
      "cell_type": "markdown",
      "source": [
        "### 2.4 Getting the size the dataset"
      ],
      "metadata": {
        "id": "dlD4GqfsyXKd"
      }
    },
    {
      "cell_type": "markdown",
      "source": [
        "Getting the size of the dataset in Python using Pandas allows us to determine the number of rows and columns in our dataset. This information is crucial for understanding the scope of our data and for performing various data manipulation and analysis tasks.\n",
        "\n"
      ],
      "metadata": {
        "id": "BveFKCxYyXKe"
      }
    },
    {
      "cell_type": "code",
      "source": [
        "# Load the dataset\n",
        "df = pd.read_csv(\"https://archive.org/download/dsheaph/healthcare_and_pharmaceuticals_yci7.csv\")\n",
        "\n",
        "# Preview the first 5 records\n",
        "df.head()"
      ],
      "metadata": {
        "id": "f7TRf6SFyXKe"
      },
      "execution_count": null,
      "outputs": []
    },
    {
      "cell_type": "code",
      "source": [
        "# Get the size of the dataset\n",
        "num_rows = df.shape[0]\n",
        "num_cols = df.shape[1]\n",
        "\n",
        "print(\"Number of rows:\", num_rows)\n",
        "print(\"Number of columns:\", num_cols)"
      ],
      "metadata": {
        "id": "WBmmjnfI3A2C"
      },
      "execution_count": null,
      "outputs": []
    },
    {
      "cell_type": "markdown",
      "source": [
        "#### <font color=\"green\">Challenge</font>"
      ],
      "metadata": {
        "id": "z-Q858j-yXKe"
      }
    },
    {
      "cell_type": "markdown",
      "source": [
        "Write a Python program to get the size of the dataset in Python using Pandas. Use the dataset from the URL: https://archive.org/download/dsheaph/healthcare_and_pharmaceuticals_iofz.csv."
      ],
      "metadata": {
        "id": "jLpW54AL2scs"
      }
    },
    {
      "cell_type": "code",
      "source": [
        "# Write your code here\n"
      ],
      "metadata": {
        "id": "8FEzUAssyXKe"
      },
      "execution_count": null,
      "outputs": []
    },
    {
      "cell_type": "markdown",
      "source": [
        "## 3. Selecting Columns"
      ],
      "metadata": {
        "id": "QPqooY7hybfM"
      }
    },
    {
      "cell_type": "markdown",
      "source": [
        "### 3.1 Selecting one column"
      ],
      "metadata": {
        "id": "omrFyD13ybfN"
      }
    },
    {
      "cell_type": "markdown",
      "source": [
        "Selecting one column entails extracting specific data from a dataset by choosing only the columns that are relevant to our analysis. This can help us focus on the necessary information and simplify our data manipulation process.\n",
        "\n"
      ],
      "metadata": {
        "id": "j9oNq98gybfN"
      }
    },
    {
      "cell_type": "code",
      "source": [
        "# Load the dataset\n",
        "df = pd.read_csv(\"https://archive.org/download/dsheaph/healthcare_and_pharmaceuticals_1ucdp.csv\")\n",
        "\n",
        "# Preview the first 5 records\n",
        "df.head()"
      ],
      "metadata": {
        "id": "zMSYrLaSybfN"
      },
      "execution_count": null,
      "outputs": []
    },
    {
      "cell_type": "code",
      "source": [
        "# Selecting the 'Diagnosis' column\n",
        "df[[\"Diagnosis\"]]"
      ],
      "metadata": {
        "id": "_s37QLou3MIg"
      },
      "execution_count": null,
      "outputs": []
    },
    {
      "cell_type": "markdown",
      "source": [
        "#### <font color=\"green\">Challenge</font>"
      ],
      "metadata": {
        "id": "lPzx6HHSybfN"
      }
    },
    {
      "cell_type": "markdown",
      "source": [
        "Select the 'Medication' column from the dataset located at https://archive.org/download/dsheaph/healthcare_and_pharmaceuticals_q21i.csv"
      ],
      "metadata": {
        "id": "-7Szoq7x3eDL"
      }
    },
    {
      "cell_type": "code",
      "source": [
        "# Write your code here\n"
      ],
      "metadata": {
        "id": "3Qd67TfFybfO"
      },
      "execution_count": null,
      "outputs": []
    },
    {
      "cell_type": "code",
      "source": [
        "# Write your code here\n"
      ],
      "metadata": {
        "id": "Agx311Wh3TI3"
      },
      "execution_count": null,
      "outputs": []
    },
    {
      "cell_type": "markdown",
      "source": [
        "### 3.2 Selecting multiple columns"
      ],
      "metadata": {
        "id": "QVE8c_eWybfO"
      }
    },
    {
      "cell_type": "markdown",
      "source": [
        "Selecting multiple columns from a pandas Dataframe allows us to extract specific sets of data that are relevant to our analysis. This approach helps us focus on the necessary information and streamline our data processing tasks.\n",
        "\n"
      ],
      "metadata": {
        "id": "KTdH6EwJybfO"
      }
    },
    {
      "cell_type": "code",
      "source": [
        "# Load the dataset\n",
        "df = pd.read_csv(\"https://archive.org/download/dsheaph/healthcare_and_pharmaceuticals_hdxuo.csv\")\n",
        "\n",
        "# Preview the first 5 records\n",
        "df.head()"
      ],
      "metadata": {
        "id": "HhyjuBSaybfc"
      },
      "execution_count": null,
      "outputs": []
    },
    {
      "cell_type": "code",
      "source": [
        "# Select multiple columns\n",
        "selected_columns = df[['Name', 'Age', 'Diagnosis', 'Medication']]\n",
        "selected_columns"
      ],
      "metadata": {
        "id": "EWnCnQ9O3WzU"
      },
      "execution_count": null,
      "outputs": []
    },
    {
      "cell_type": "markdown",
      "source": [
        "#### <font color=\"green\">Challenge</font>"
      ],
      "metadata": {
        "id": "unAsxhysybfd"
      }
    },
    {
      "cell_type": "markdown",
      "source": [
        "Select the 'Medication' and 'Quantity' columns from the dataset located at https://archive.org/download/dsheaph/healthcare_and_pharmaceuticals_cvt3.csv."
      ],
      "metadata": {
        "id": "eFijTN4j343M"
      }
    },
    {
      "cell_type": "code",
      "source": [
        "# Write your code here\n"
      ],
      "metadata": {
        "id": "TZiXteCaybfd"
      },
      "execution_count": null,
      "outputs": []
    },
    {
      "cell_type": "markdown",
      "source": [
        "## 4. Filtering"
      ],
      "metadata": {
        "id": "VdxceCrpyqoM"
      }
    },
    {
      "cell_type": "markdown",
      "source": [
        "### 4.1 Filtering using one condition"
      ],
      "metadata": {
        "id": "FtVbMaRQyqoZ"
      }
    },
    {
      "cell_type": "markdown",
      "source": [
        "Filtering by one condition involves extracting specific rows from a dataset that meet a certain criteria. This is important for data analysis as it helps us focus on the data that is relevant to our analysis and make informed decisions based on that data.\n",
        "\n"
      ],
      "metadata": {
        "id": "5w5M4ff3yqoZ"
      }
    },
    {
      "cell_type": "code",
      "source": [
        "# Load the dataset\n",
        "df = pd.read_csv(\"https://archive.org/download/dsheaph/healthcare_and_pharmaceuticals_8qgmw.csv\")\n",
        "\n",
        "# Preview the first 5 records\n",
        "df.head()"
      ],
      "metadata": {
        "id": "BRQDNfBGyqoZ"
      },
      "execution_count": null,
      "outputs": []
    },
    {
      "cell_type": "code",
      "source": [
        "# Filter the dataset by patients with Full insurance coverage\n",
        "filtered_df = df[df['Insurance Coverage'] == 'Full']\n",
        "\n",
        "# Display the filtered dataset\n",
        "filtered_df"
      ],
      "metadata": {
        "id": "pRgqFLBo3a26"
      },
      "execution_count": null,
      "outputs": []
    },
    {
      "cell_type": "markdown",
      "source": [
        "#### <font color=\"green\">Challenge</font>"
      ],
      "metadata": {
        "id": "bcLnOs9Kyqoa"
      }
    },
    {
      "cell_type": "markdown",
      "source": [
        "Filter the dataset from the URL: https://archive.org/download/dsheaph/healthcare_and_pharmaceuticals_ia6t.csv to only include patients who are taking medication for Hypertension. Remember to use the 'Diagnosis' column to filter the data.\n"
      ],
      "metadata": {
        "id": "m6Jldd8X4Zic"
      }
    },
    {
      "cell_type": "code",
      "source": [
        "# Write your code here\n"
      ],
      "metadata": {
        "id": "Z6eVrGcgyqoa"
      },
      "execution_count": null,
      "outputs": []
    },
    {
      "cell_type": "markdown",
      "source": [
        "### 4.2 Filtering using multiple conditions"
      ],
      "metadata": {
        "id": "9UoSZkxiyqoa"
      }
    },
    {
      "cell_type": "markdown",
      "source": [
        "Filtering by multiple conditions allows us to subset our data based on more than one criteria. This is important when we want to narrow down our dataset to only include rows that meet multiple conditions at the same time.\n",
        "\n"
      ],
      "metadata": {
        "id": "EQ6OQr-eyqoa"
      }
    },
    {
      "cell_type": "code",
      "source": [
        "# Load the dataset\n",
        "df = pd.read_csv(\"https://archive.org/download/dsheaph/healthcare_and_pharmaceuticals_7mdy9.csv\")\n",
        "\n",
        "# Preview the first 5 records\n",
        "df.head()"
      ],
      "metadata": {
        "id": "UimeaFVEyqoa"
      },
      "execution_count": null,
      "outputs": []
    },
    {
      "cell_type": "code",
      "source": [
        "# Filter the dataset by multiple conditions\n",
        "filtered_df = df[(df['Age'] > 40) & (df['Diagnosis'] == 'Hypertension')]\n",
        "\n",
        "# Display the filtered dataset\n",
        "filtered_df"
      ],
      "metadata": {
        "id": "5glpACWt3eFg"
      },
      "execution_count": null,
      "outputs": []
    },
    {
      "cell_type": "markdown",
      "source": [
        "#### <font color=\"green\">Challenge</font>"
      ],
      "metadata": {
        "id": "DK-tA7enyqob"
      }
    },
    {
      "cell_type": "markdown",
      "source": [
        "Filter the dataset from https://archive.org/download/dsheaph/healthcare_and_pharmaceuticals_rnuv.csv to only include rows where the Quantity is greater than 50 and the Prescription is 'Yes'."
      ],
      "metadata": {
        "id": "V7USdpbW48-W"
      }
    },
    {
      "cell_type": "code",
      "source": [
        "# Write your code here\n"
      ],
      "metadata": {
        "id": "TWXTiwWMyqob"
      },
      "execution_count": null,
      "outputs": []
    },
    {
      "cell_type": "markdown",
      "source": [
        "## 5. Sorting"
      ],
      "metadata": {
        "id": "ppYXeViNy1oi"
      }
    },
    {
      "cell_type": "markdown",
      "source": [
        "### 5.1 Sorting in ascending order"
      ],
      "metadata": {
        "id": "Qgw2210hy1o2"
      }
    },
    {
      "cell_type": "markdown",
      "source": [
        "Sorting records in ascending order allows us to organize our data in a specific order based on a certain column. This is important for analyzing data and making it easier to identify patterns and trends."
      ],
      "metadata": {
        "id": "REQq7Lkhy1o2"
      }
    },
    {
      "cell_type": "code",
      "source": [
        "# Load the dataset from the URL\n",
        "df = pd.read_csv(\"https://archive.org/download/dsheaph/healthcare_and_pharmaceuticals_zuya1.csv\")\n",
        "\n",
        "# Preview the first 5 records\n",
        "df.head()"
      ],
      "metadata": {
        "id": "7Rns3cxay1o2"
      },
      "execution_count": null,
      "outputs": []
    },
    {
      "cell_type": "code",
      "source": [
        "# Sort the records in ascending order based on the 'Age' column\n",
        "df_sorted = df.sort_values(by='Age')\n",
        "\n",
        "# Display the sorted records\n",
        "df_sorted"
      ],
      "metadata": {
        "id": "JV6WGt9W3kvI"
      },
      "execution_count": null,
      "outputs": []
    },
    {
      "cell_type": "markdown",
      "source": [
        "#### <font color=\"green\">Challenge</font>"
      ],
      "metadata": {
        "id": "bS-V2D_Ey1o2"
      }
    },
    {
      "cell_type": "markdown",
      "source": [
        "Sort the records in the dataset from https://archive.org/download/dsheaph/healthcare_and_pharmaceuticals_i0zl.csv in ascending order based on the 'Age' column using Pandas in Python.\n"
      ],
      "metadata": {
        "id": "8p7UtAoi5cPy"
      }
    },
    {
      "cell_type": "code",
      "source": [
        "# Write your code here\n"
      ],
      "metadata": {
        "id": "QrezfA_ky1o3"
      },
      "execution_count": null,
      "outputs": []
    },
    {
      "cell_type": "markdown",
      "source": [
        "### 5.2 Sorting in descending order"
      ],
      "metadata": {
        "id": "-8icXUBUy1o3"
      }
    },
    {
      "cell_type": "markdown",
      "source": [
        "Sorting records in descending order allows us to arrange data in a specific column from highest to lowest values. This is important for analyzing data in a meaningful way and identifying trends or outliers more easily."
      ],
      "metadata": {
        "id": "LmbPESb1y1o3"
      }
    },
    {
      "cell_type": "code",
      "source": [
        "# Load the dataset\n",
        "df = pd.read_csv(\"https://archive.org/download/dsheaph/healthcare_and_pharmaceuticals_uadqe.csv\")\n",
        "\n",
        "# Preview the first 5 records\n",
        "df.head()"
      ],
      "metadata": {
        "id": "wyMwFKgKy1o3"
      },
      "execution_count": null,
      "outputs": []
    },
    {
      "cell_type": "code",
      "source": [
        "# Sort records in descending order based on Admission Date\n",
        "df_sorted = df.sort_values(by='Admission Date', ascending=False)\n",
        "\n",
        "# Display the sorted records\n",
        "df_sorted"
      ],
      "metadata": {
        "id": "vlaXkYcW3oTo"
      },
      "execution_count": null,
      "outputs": []
    },
    {
      "cell_type": "markdown",
      "source": [
        "#### <font color=\"green\">Challenge</font>"
      ],
      "metadata": {
        "id": "zrB-_t6ty1o3"
      }
    },
    {
      "cell_type": "markdown",
      "source": [
        "Sort the records in descending order based on the 'Income' column in the dataset from https://archive.org/download/dsheaph/healthcare_and_pharmaceuticals_345f.csv using Pandas in Python."
      ],
      "metadata": {
        "id": "gN8pPBUZ52wM"
      }
    },
    {
      "cell_type": "code",
      "source": [
        "# Write your code here\n"
      ],
      "metadata": {
        "id": "g0V8cxwTy1o3"
      },
      "execution_count": null,
      "outputs": []
    },
    {
      "cell_type": "code",
      "source": [
        "# Write your code here\n"
      ],
      "metadata": {
        "id": "TfOngmzR3s9b"
      },
      "execution_count": null,
      "outputs": []
    },
    {
      "cell_type": "markdown",
      "source": [
        "## 6. Aggregate Functions"
      ],
      "metadata": {
        "id": "je9fuy79y_v4"
      }
    },
    {
      "cell_type": "markdown",
      "source": [
        "### 6.1 Calculating averages with AVG"
      ],
      "metadata": {
        "id": "8ZLKvYe7y_wI"
      }
    },
    {
      "cell_type": "markdown",
      "source": [
        "Calculating averages with AVG based on aggregate functions allows us to find the average value of a specific column in a dataset. This is important in healthcare data analysis as it helps us understand the central tendency of a particular variable, such as patient age or blood pressure.\n",
        "\n"
      ],
      "metadata": {
        "id": "jUfPIIHHy_wI"
      }
    },
    {
      "cell_type": "code",
      "source": [
        "# Load the dataset\n",
        "df = pd.read_csv(\"https://archive.org/download/dsheaph/healthcare_and_pharmaceuticals_vyu2.csv\")\n",
        "\n",
        "# Preview the first 5 records\n",
        "df.head()"
      ],
      "metadata": {
        "id": "sdT5Bli9y_wI"
      },
      "execution_count": null,
      "outputs": []
    },
    {
      "cell_type": "code",
      "source": [
        "# Calculate the average price of medications\n",
        "avg_price = df['Price'].mean()\n",
        "\n",
        "avg_price"
      ],
      "metadata": {
        "id": "d2YHzR7_3wuK"
      },
      "execution_count": null,
      "outputs": []
    },
    {
      "cell_type": "markdown",
      "source": [
        "#### <font color=\"green\">Challenge</font>"
      ],
      "metadata": {
        "id": "Xd_KAN1ly_wI"
      }
    },
    {
      "cell_type": "markdown",
      "source": [
        "Calculate the average price of medications in the dataset from https://archive.org/download/dsheaph/healthcare_and_pharmaceuticals_si65.csv using Python and Pandas.\n"
      ],
      "metadata": {
        "id": "X8DLiWnZ6zQ9"
      }
    },
    {
      "cell_type": "code",
      "source": [
        "# Write your code here\n"
      ],
      "metadata": {
        "id": "lWN3vW8ty_wK"
      },
      "execution_count": null,
      "outputs": []
    },
    {
      "cell_type": "markdown",
      "source": [
        "### 6.2 Finding maximum values with MAX"
      ],
      "metadata": {
        "id": "EhanmS8Fy_wK"
      }
    },
    {
      "cell_type": "markdown",
      "source": [
        "Finding maximum values with MAX based on aggregate functions allows us to identify the highest value in a dataset. This is important for analyzing healthcare data to determine the maximum value of a specific variable, such as patient age or blood pressure."
      ],
      "metadata": {
        "id": "dV0yeJR8y_wK"
      }
    },
    {
      "cell_type": "code",
      "source": [
        "# Load the dataset\n",
        "df = pd.read_csv(\"https://archive.org/download/dsheaph/healthcare_and_pharmaceuticals_4scx0.csv\")\n",
        "\n",
        "# Preview the first 5 records\n",
        "df.head()"
      ],
      "metadata": {
        "id": "bjen3CMxy_wK"
      },
      "execution_count": null,
      "outputs": []
    },
    {
      "cell_type": "code",
      "source": [
        "# Extract the maximum value of Age\n",
        "max_age = df['Age'].max()\n",
        "\n",
        "# Extract the maximum value of Weight\n",
        "max_weight = df['Weight'].max()\n",
        "\n",
        "print(\"Maximum Age:\", max_age)\n",
        "print(\"Maximum Weight:\", max_weight)"
      ],
      "metadata": {
        "id": "VBZxbeUZ313I"
      },
      "execution_count": null,
      "outputs": []
    },
    {
      "cell_type": "markdown",
      "source": [
        "#### <font color=\"green\">Challenge</font>"
      ],
      "metadata": {
        "id": "CH_7-Hzty_wK"
      }
    },
    {
      "cell_type": "markdown",
      "source": [
        "Find the maximum price of medication in the dataset from https://archive.org/download/dsheaph/healthcare_and_pharmaceuticals_of23.csv using the MAX function.\n",
        "*italicized text*"
      ],
      "metadata": {
        "id": "HzR4qKfz70Hm"
      }
    },
    {
      "cell_type": "code",
      "source": [
        "# Write your code here\n"
      ],
      "metadata": {
        "id": "lepT8rHHy_wL"
      },
      "execution_count": null,
      "outputs": []
    },
    {
      "cell_type": "markdown",
      "source": [
        "### 6.3 Summarizing data with COUNT"
      ],
      "metadata": {
        "id": "BM9G6j4XzZpg"
      }
    },
    {
      "cell_type": "markdown",
      "source": [
        "Counting data with COUNT based on aggregate functions allows us to summarize the number of occurrences of a specific value in a dataset. This is important for understanding the distribution of data and identifying patterns or outliers."
      ],
      "metadata": {
        "id": "H8VdetRQzZpw"
      }
    },
    {
      "cell_type": "code",
      "source": [
        "# Load the dataset\n",
        "df = pd.read_csv(\"https://archive.org/download/dsheaph/healthcare_and_pharmaceuticals_543rg.csv\")\n",
        "\n",
        "# Preview the first 5 records\n",
        "df.head()"
      ],
      "metadata": {
        "id": "kP3RsWBGzZpx"
      },
      "execution_count": null,
      "outputs": []
    },
    {
      "cell_type": "code",
      "source": [
        "# Count the number of patients by Diagnosis\n",
        "diagnosis_count = df['Diagnosis'].value_counts()\n",
        "print(diagnosis_count)"
      ],
      "metadata": {
        "id": "Q6PN-UjFvUhc"
      },
      "execution_count": null,
      "outputs": []
    },
    {
      "cell_type": "markdown",
      "source": [
        "#### <font color=\"green\">Challenge</font>"
      ],
      "metadata": {
        "id": "1XzA1TsLzZpx"
      }
    },
    {
      "cell_type": "markdown",
      "source": [
        "Count the number of medications in the dataset from https://archive.org/download/dsheaph/healthcare_and_pharmaceuticals_jg53.csv.\n"
      ],
      "metadata": {
        "id": "7CrvcD-s8NmH"
      }
    },
    {
      "cell_type": "code",
      "source": [
        "# Write your code here\n"
      ],
      "metadata": {
        "id": "UKI_HE7bzZpx"
      },
      "execution_count": null,
      "outputs": []
    },
    {
      "cell_type": "markdown",
      "source": [
        "## 7. Grouping"
      ],
      "metadata": {
        "id": "G4aRBZjpzS5b"
      }
    },
    {
      "cell_type": "markdown",
      "source": [
        "### 7.1 Grouping by one column and aggregating"
      ],
      "metadata": {
        "id": "QsrIQX7wzS5m"
      }
    },
    {
      "cell_type": "markdown",
      "source": [
        "Grouping by multiple columns and aggregating allows us to group our data based on multiple columns and perform aggregate functions on those groups. This is useful when we want to analyze our data at a more granular level and understand patterns within different groups."
      ],
      "metadata": {
        "id": "Qdc-9-YtzS5m"
      }
    },
    {
      "cell_type": "code",
      "source": [
        "# Load the dataset\n",
        "df = pd.read_csv(\"https://archive.org/download/dsheaph/healthcare_and_pharmaceuticals_ilqbr.csv\")\n",
        "\n",
        "# Preview the first 5 records\n",
        "df.head()"
      ],
      "metadata": {
        "id": "v_nCpXb_zS5n"
      },
      "execution_count": null,
      "outputs": []
    },
    {
      "cell_type": "code",
      "source": [
        "# Group by 'Medication' column and aggregate using sum\n",
        "grouped_df = df.groupby('Medication').agg({'Quantity': 'sum'})\n",
        "\n",
        "grouped_df"
      ],
      "metadata": {
        "id": "NVSa1jiP4DXa"
      },
      "execution_count": null,
      "outputs": []
    },
    {
      "cell_type": "markdown",
      "source": [
        "#### <font color=\"green\">Challenge</font>"
      ],
      "metadata": {
        "id": "JQtRwFCQzS5n"
      }
    },
    {
      "cell_type": "markdown",
      "source": [
        "Group the 'Healthcare and Pharmaceuticals' dataset from https://archive.org/download/dsheaph/healthcare_and_pharmaceuticals_ohsn.csv by the 'Category' column and calculate the total quantity of medications in each category using the sum() function."
      ],
      "metadata": {
        "id": "62sQaxZu9Qe8"
      }
    },
    {
      "cell_type": "code",
      "source": [
        "# Write your code here\n"
      ],
      "metadata": {
        "id": "roY48ZxfzS5n"
      },
      "execution_count": null,
      "outputs": []
    },
    {
      "cell_type": "markdown",
      "source": [
        "### 7.2 Grouping by multiple columns and aggregating"
      ],
      "metadata": {
        "id": "47UQuR0WzS5n"
      }
    },
    {
      "cell_type": "markdown",
      "source": [
        "Grouping by multiple columns and aggregating allows us to group our data based on multiple columns and perform aggregate functions on the grouped data. This is important for analyzing healthcare data as it helps us to summarize and extract insights from complex datasets.\n",
        "\n"
      ],
      "metadata": {
        "id": "r8nje9iVzS5n"
      }
    },
    {
      "cell_type": "code",
      "source": [
        "# Load the dataset\n",
        "df = pd.read_csv(\"https://archive.org/download/healthcare_and_pharmaceuticals_xih8u/healthcare_and_pharmaceuticals_xih8u.csv\")\n",
        "\n",
        "# Preview the first 5 records\n",
        "df.head()"
      ],
      "metadata": {
        "id": "FznKZgi1zS5n"
      },
      "execution_count": null,
      "outputs": []
    },
    {
      "cell_type": "code",
      "source": [
        "# Group by Gender and Diagnosis columns and calculate the average Age for each group\n",
        "grouped_data = df.groupby(['Gender', 'Diagnosis'])['Age'].mean().reset_index()\n",
        "\n",
        "# Display the grouped data\n",
        "grouped_data"
      ],
      "metadata": {
        "id": "fSifhHqk4LvY"
      },
      "execution_count": null,
      "outputs": []
    },
    {
      "cell_type": "markdown",
      "source": [
        "#### <font color=\"green\">Challenge</font>"
      ],
      "metadata": {
        "id": "LMvifH5pzS5n"
      }
    },
    {
      "cell_type": "markdown",
      "source": [
        "Group the healthcare and pharmaceutical dataset from http://localhost:8000/ds/ch/healthcare_and_pharmaceuticals_2flr.csv by 'Medication' and 'Quantity', then calculate the total 'Price' for each group."
      ],
      "metadata": {
        "id": "nJ6E1Ux09yn_"
      }
    },
    {
      "cell_type": "code",
      "source": [
        "# Write your code here\n"
      ],
      "metadata": {
        "id": "xAGpopL0zS5o"
      },
      "execution_count": null,
      "outputs": []
    }
  ]
}