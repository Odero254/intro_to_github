{
  "nbformat": 4,
  "nbformat_minor": 0,
  "metadata": {
    "colab": {
      "provenance": [],
      "collapsed_sections": [
        "VERsSVgR2rUa",
        "jTt5jCW-3u_k",
        "Psqa9vlt3EJd",
        "Zl7O5Gra5CGU",
        "XtXv7RD43ER0",
        "p3-KMwIR5D2Y",
        "YbTGSLT2vTtY",
        "T4pVQNYwvTtc",
        "Ab4MSiR65RFe",
        "A4zeMaJ65RFg",
        "vfRB4BdG5RFi",
        "1As3RSmo5RFj",
        "bpCAcK5_5RFl",
        "Hrq-npya80TR",
        "mwBZINnB04vQ",
        "yIEglDgS80To",
        "rzgOI1-l4ZSF",
        "gmZG4zKF4ZSs",
        "45uiQUHh44MG",
        "4dNN5qdF44MZ",
        "VoXwAFK_95RB",
        "2iq2N27D95RQ",
        "8nXQHSzg8np9",
        "h1E9qi8D8nqT",
        "eorGYUpv8nqV",
        "Ld9EHTZe8nqV",
        "caJPCtRJ8nqX",
        "bdaeX2K_8nqX",
        "sTNPzwAT8nqY",
        "NddmM80U_GSE",
        "FG_ONlBG_GSV",
        "cZOgpLAJDNp4",
        "NYdSjvjLDNqH",
        "vfN9UpMLDNqJ",
        "46VSToaGDNqL",
        "0qOlwdzyDNqM",
        "Kj1Zl_DpDNqN",
        "JwDBF6UvDNqR",
        "MYYZhE8iDNqS",
        "2dyxAPP1DNqU",
        "TftmcILkOX9V",
        "8KYNvOawOX9x",
        "UBXrP2v2Q69c",
        "-zyey7vRQ69e",
        "mKjWwPfBQ69j",
        "TsFbYtMfQ69k",
        "KA0lK59jQ69l",
        "HkIFy0hjQ69m",
        "qm_3HEuoQ69n"
      ],
      "toc_visible": true,
      "include_colab_link": true
    },
    "kernelspec": {
      "name": "python3",
      "display_name": "Python 3"
    },
    "language_info": {
      "name": "python"
    }
  },
  "cells": [
    {
      "cell_type": "markdown",
      "metadata": {
        "id": "view-in-github",
        "colab_type": "text"
      },
      "source": [
        "<a href=\"https://colab.research.google.com/github/Odero254/intro_to_github/blob/main/%5BPractice_Notebook%5D_AfterWork_Python_Fundamentals_for_Healthcare.ipynb\" target=\"_parent\"><img src=\"https://colab.research.google.com/assets/colab-badge.svg\" alt=\"Open In Colab\"/></a>"
      ]
    },
    {
      "cell_type": "markdown",
      "source": [
        "# [Practice Notebook] AfterWork: Python Fundamentals for Healthcare"
      ],
      "metadata": {
        "id": "LRpJckxp2due"
      }
    },
    {
      "cell_type": "markdown",
      "source": [
        "## 1. Introduction to Python syntax"
      ],
      "metadata": {
        "id": "vHVHPUmA2oZk"
      }
    },
    {
      "cell_type": "markdown",
      "source": [
        "### 1.1 Variables and Data Types"
      ],
      "metadata": {
        "id": "VERsSVgR2rUa"
      }
    },
    {
      "cell_type": "markdown",
      "source": [
        "Variables and data types in Python allow us to store and manipulate different types of information. Variables are used to store data values, while data types define the type of data that can be stored in a variable. This concept is important because it allows us to work with different types of data and perform various operations on them.\n",
        "\n"
      ],
      "metadata": {
        "id": "nctKuA3U3Rum"
      }
    },
    {
      "cell_type": "code",
      "execution_count": null,
      "metadata": {
        "id": "uN2sKHUq2Uzk"
      },
      "outputs": [],
      "source": [
        "# Define variables for patient information\n",
        "patient_name = \"John Doe\"\n",
        "patient_age = 35\n",
        "patient_weight = 70.5\n",
        "patient_blood_type = 'A+'\n",
        "\n",
        "# Display patient information\n",
        "print(\"Patient Name:\", patient_name)\n",
        "print(\"Patient Age:\", patient_age)\n",
        "print(\"Patient Weight:\", patient_weight)\n",
        "print(\"Patient Blood Type:\", patient_blood_type)"
      ]
    },
    {
      "cell_type": "markdown",
      "source": [
        "**Explanation**: We assign the patient's name, age, and diagnosis to variables patient_name, patient_age, and diagnosis respectively. We then use the print() function to display this information to the user. The output will show the patient's name, age, and diagnosis on separate lines.\n",
        "\n"
      ],
      "metadata": {
        "id": "nMbQyLpe3alj"
      }
    },
    {
      "cell_type": "markdown",
      "source": [
        "#### <font color=\"green\">Challenge</font>"
      ],
      "metadata": {
        "id": "jTt5jCW-3u_k"
      }
    },
    {
      "cell_type": "markdown",
      "source": [
        "Create variables to store patient information such as temperature, heart rate, and blood pressure in a healthcare setting. Remember to use appropriate data types such as integers, floats, and strings to represent the different types of data. Make sure to assign values to each variable accordingly."
      ],
      "metadata": {
        "id": "D73fDC-D4Jen"
      }
    },
    {
      "cell_type": "code",
      "source": [
        "# Define variables for patient information\n",
        "patient_temperature = 98.6\n",
        "\n",
        "\n",
        "# Display patient information\n",
        "print(\"Patient Temperature:\", patient_temperature)\n"
      ],
      "metadata": {
        "id": "6jsCnwyt30wv"
      },
      "execution_count": null,
      "outputs": []
    },
    {
      "cell_type": "markdown",
      "source": [
        "### 1.2 Basic Arithmetic Operations"
      ],
      "metadata": {
        "id": "Psqa9vlt3EJd"
      }
    },
    {
      "cell_type": "markdown",
      "source": [
        "Basic arithmetic operations in Python allow us to perform mathematical calculations such as addition, subtraction, multiplication, and division. These operations are fundamental in programming and are used extensively in various applications.\n",
        "\n"
      ],
      "metadata": {
        "id": "oierTP-W4UAP"
      }
    },
    {
      "cell_type": "code",
      "execution_count": null,
      "metadata": {
        "id": "HCymqyY03EJe"
      },
      "outputs": [],
      "source": [
        "# Calculate the total number of patients in a hospital\n",
        "total_patients = 150 + 75\n",
        "print(\"Total number of patients in the hospital:\", total_patients)\n",
        "\n",
        "# Calculate the average dosage of a medication\n",
        "dosage_1 = 25\n",
        "dosage_2 = 30\n",
        "average_dosage = (dosage_1 + dosage_2) / 2\n",
        "print(\"Average dosage of the medication:\", average_dosage)"
      ]
    },
    {
      "cell_type": "markdown",
      "source": [
        "**Explanation**: We calculate the total number of patients in a hospital by adding 150 and 75 together. We then print out the total number of patients in the hospital, which is 225. Next, we calculate the average dosage of a medication by adding two dosages (25 and 30) together and dividing by 2. We print out the average dosage of the medication, which is 27.5."
      ],
      "metadata": {
        "id": "CIpCk6ag4ZqQ"
      }
    },
    {
      "cell_type": "markdown",
      "source": [
        "#### <font color=\"green\">Challenge</font>"
      ],
      "metadata": {
        "id": "Zl7O5Gra5CGU"
      }
    },
    {
      "cell_type": "markdown",
      "source": [
        "Calculate the total cost of medications for a pharmacy. The cost of one medication is $25 and the pharmacy has 50 medications in stock. To calculate the total cost, multiply the cost of one medication by the number of medications in stock."
      ],
      "metadata": {
        "id": "1rJbA9KQ4l2I"
      }
    },
    {
      "cell_type": "code",
      "source": [
        "# Your code goes here\n"
      ],
      "metadata": {
        "id": "UA0oA4BV4pEf"
      },
      "execution_count": null,
      "outputs": []
    },
    {
      "cell_type": "markdown",
      "source": [
        "### 1.3 Printing Output"
      ],
      "metadata": {
        "id": "XtXv7RD43ER0"
      }
    },
    {
      "cell_type": "markdown",
      "source": [
        "Printing output in Python allows us to display information to the user. This is important for providing feedback, displaying results, and communicating with the user.\n",
        "\n"
      ],
      "metadata": {
        "id": "kHYAxfex4yCZ"
      }
    },
    {
      "cell_type": "code",
      "execution_count": null,
      "metadata": {
        "id": "L34Tqtua3ER1"
      },
      "outputs": [],
      "source": [
        "patient_name = \"John Doe\"\n",
        "patient_age = 45\n",
        "diagnosis = \"Hypertension\"\n",
        "\n",
        "print(\"Patient Name:\", patient_name)\n",
        "print(\"Patient Age:\", patient_age)\n",
        "print(\"Diagnosis:\", diagnosis)"
      ]
    },
    {
      "cell_type": "markdown",
      "source": [
        "**Explanation**: We assign the patient's name, age, and diagnosis to variables patient_name, patient_age, and diagnosis respectively. We then use the print() function to display this information to the user. The output will show the patient's name, age, and diagnosis on separate lines."
      ],
      "metadata": {
        "id": "IEGKZ9Uy419K"
      }
    },
    {
      "cell_type": "markdown",
      "source": [
        "#### <font color=\"green\">Challenge</font>"
      ],
      "metadata": {
        "id": "p3-KMwIR5D2Y"
      }
    },
    {
      "cell_type": "markdown",
      "source": [
        "Create a simple program that prints out the medication details for a patient in a healthcare setting. Include the medication name, dosage, and frequency. To print out the medication details, use print() function with the medication name, dosage, and frequency as arguments."
      ],
      "metadata": {
        "id": "9H1RfxG144tJ"
      }
    },
    {
      "cell_type": "code",
      "source": [
        "# Your code goes here\n"
      ],
      "metadata": {
        "id": "elpIdeV049YM"
      },
      "execution_count": null,
      "outputs": []
    },
    {
      "cell_type": "markdown",
      "source": [
        "### 1.4 F-Strings"
      ],
      "metadata": {
        "id": "YbTGSLT2vTtY"
      }
    },
    {
      "cell_type": "markdown",
      "source": [
        "F-Strings in Python allow us to easily format strings by embedding expressions inside curly braces {}. This makes it easier to insert variables and expressions into strings without having to use concatenation or string formatting methods like % or .format(). F-Strings are denoted by placing an 'f' or 'F' before the opening quote of the string."
      ],
      "metadata": {
        "id": "zWVqiZAZvTtZ"
      }
    },
    {
      "cell_type": "code",
      "execution_count": null,
      "metadata": {
        "id": "OT-roorUvTta"
      },
      "outputs": [],
      "source": [
        "patient_name = \"John Doe\"\n",
        "patient_age = 35\n",
        "diagnosis = \"Hypertension\"\n",
        "\n",
        "# Displaying patient information using F-Strings\n",
        "print(f\"Patient Name: {patient_name}\")\n",
        "print(f\"Patient Age: {patient_age}\")\n",
        "print(f\"Diagnosis: {diagnosis}\")"
      ]
    },
    {
      "cell_type": "markdown",
      "source": [
        "**Explanation**: We assign values to variables patient_name, patient_age, and diagnosis. We then use F-Strings to display the patient's name, age, and diagnosis. The output will be: Patient Name: Alice Patient Age: 30 Diagnosis: Hypertension\n",
        "\n"
      ],
      "metadata": {
        "id": "EBou6EPyvTtb"
      }
    },
    {
      "cell_type": "markdown",
      "source": [
        "#### <font color=\"green\">Challenge</font>"
      ],
      "metadata": {
        "id": "T4pVQNYwvTtc"
      }
    },
    {
      "cell_type": "markdown",
      "source": [
        "Create a program that displays the dosage information for a specific medication using F-Strings. Define variables for medication name, dosage amount, and frequency. Then use F-Strings to display the information in a formatted way."
      ],
      "metadata": {
        "id": "2LxoWSQxvTtc"
      }
    },
    {
      "cell_type": "code",
      "source": [
        "# Write your code here\n"
      ],
      "metadata": {
        "id": "FyV4QhMqvTtd"
      },
      "execution_count": null,
      "outputs": []
    },
    {
      "cell_type": "markdown",
      "source": [
        "## 2. Data types and variables"
      ],
      "metadata": {
        "id": "OBJFOIAB5RFR"
      }
    },
    {
      "cell_type": "markdown",
      "source": [
        "### 2.1 Numeric Data Types"
      ],
      "metadata": {
        "id": "Ab4MSiR65RFe"
      }
    },
    {
      "cell_type": "markdown",
      "source": [
        "Numeric data types in Python are used to represent numerical values such as integers, floating-point numbers, and complex numbers. These data types allow us to perform mathematical operations and calculations in our programs."
      ],
      "metadata": {
        "id": "9KSiE2aO5RFe"
      }
    },
    {
      "cell_type": "code",
      "execution_count": null,
      "metadata": {
        "id": "QxL9bojA5RFf"
      },
      "outputs": [],
      "source": [
        "# Calculate the total number of pills needed for a patient's prescription\n",
        "num_pills_per_day = 2\n",
        "num_days = 10\n",
        "total_pills_needed = num_pills_per_day * num_days\n",
        "\n",
        "print(\"Total pills needed for the prescription:\", total_pills_needed)"
      ]
    },
    {
      "cell_type": "markdown",
      "source": [
        "**Explanation**: We calculate the total number of pills needed for a patient's prescription by multiplying the number of days by the pills per day. We then print out the total pills needed for the prescription. The output will be \"Total pills needed for the prescription: 14\"."
      ],
      "metadata": {
        "id": "9_-PDbeT5RFg"
      }
    },
    {
      "cell_type": "markdown",
      "source": [
        "#### <font color=\"green\">Challenge</font>"
      ],
      "metadata": {
        "id": "A4zeMaJ65RFg"
      }
    },
    {
      "cell_type": "markdown",
      "source": [
        "Calculate the total cost of a patient's medication based on the price per pill and the total number of pills needed. Use the following information: price per pill = $0.50, total pills needed = 30. To calculate the total cost, multiply the price per pill by the total number of pills needed."
      ],
      "metadata": {
        "id": "ayXDYs0P5RFh"
      }
    },
    {
      "cell_type": "code",
      "source": [
        "# Your code goes here\n"
      ],
      "metadata": {
        "id": "kLFPzacQ5RFh"
      },
      "execution_count": null,
      "outputs": []
    },
    {
      "cell_type": "markdown",
      "source": [
        "### 2.2 String Data Type"
      ],
      "metadata": {
        "id": "vfRB4BdG5RFi"
      }
    },
    {
      "cell_type": "markdown",
      "source": [
        "The string data type in Python is used to represent text data. Strings are sequences of characters enclosed in single or double quotes. We can manipulate and perform operations on strings such as concatenation, slicing, and formatting."
      ],
      "metadata": {
        "id": "bmEUQGTq5RFi"
      }
    },
    {
      "cell_type": "code",
      "execution_count": null,
      "metadata": {
        "id": "dBnmWD6C5RFi"
      },
      "outputs": [],
      "source": [
        "# Define variables for patient information\n",
        "patient_name = \"John Doe\"\n",
        "patient_age = 35\n",
        "patient_blood_type = \"AB+\"\n",
        "\n",
        "# Display patient information\n",
        "print(\"Patient Name: \" + patient_name)\n",
        "print(\"Patient Age: \" + str(patient_age))\n",
        "print(\"Patient Blood Type: \" + patient_blood_type)"
      ]
    },
    {
      "cell_type": "markdown",
      "source": [
        "**Explanation**: We define variables to store patient information such as name, age, and blood type. We use the print() function to display the patient's name, age (converted to a string using str()), and blood type."
      ],
      "metadata": {
        "id": "zbYQ0VSi5RFi"
      }
    },
    {
      "cell_type": "markdown",
      "source": [
        "#### <font color=\"green\">Challenge</font>"
      ],
      "metadata": {
        "id": "1As3RSmo5RFj"
      }
    },
    {
      "cell_type": "markdown",
      "source": [
        "Create a string variable to store the name of a medication and print it along with a description of its purpose. Then, extract the first word from the medication name and print it separately."
      ],
      "metadata": {
        "id": "XizK-D5i5RFk"
      }
    },
    {
      "cell_type": "code",
      "source": [
        "# Your code goes here\n"
      ],
      "metadata": {
        "id": "4_kheQP85RFl"
      },
      "execution_count": null,
      "outputs": []
    },
    {
      "cell_type": "markdown",
      "source": [
        "### 2.3 Boolean Data Type"
      ],
      "metadata": {
        "id": "bpCAcK5_5RFl"
      }
    },
    {
      "cell_type": "markdown",
      "source": [
        "The Boolean data type in Python represents the concept of true or false. It is a fundamental data type that is used to make decisions in our code based on conditions."
      ],
      "metadata": {
        "id": "IvLwruAl5RFl"
      }
    },
    {
      "cell_type": "code",
      "execution_count": null,
      "metadata": {
        "id": "sgR9IB3Z5RFm"
      },
      "outputs": [],
      "source": [
        "patient_has_diabetes = True\n",
        "patient_has_hypertension = False"
      ]
    },
    {
      "cell_type": "markdown",
      "source": [
        "**Explanation**: We set the variables `patient_has_diabetes` and `patient_has_hypertension` to True and False respectively."
      ],
      "metadata": {
        "id": "e_X5QYA35RFm"
      }
    },
    {
      "cell_type": "markdown",
      "source": [
        "#### <font color=\"green\">Challenge</font>"
      ],
      "metadata": {
        "id": "FwJdThxQ5RFm"
      }
    },
    {
      "cell_type": "markdown",
      "source": [
        "### 2.4 List Data Type"
      ],
      "metadata": {
        "id": "Hrq-npya80TR"
      }
    },
    {
      "cell_type": "markdown",
      "source": [
        "#### 2.4.1 Creating a List"
      ],
      "metadata": {
        "id": "mwBZINnB04vQ"
      }
    },
    {
      "cell_type": "markdown",
      "source": [
        "Creating a list allows us to organize and store multiple items in a structured way. Lists are important for keeping track of data, making it easier to access and manipulate information when needed.\n",
        "\n"
      ],
      "metadata": {
        "id": "A7PbP8ij80Tn"
      }
    },
    {
      "cell_type": "code",
      "execution_count": null,
      "metadata": {
        "id": "YqlJ7LLj80Tn"
      },
      "outputs": [],
      "source": [
        "# Creating a list of patient names\n",
        "patient_list = [\"Tom Kesho\", \"Simon Juma\"]\n",
        "\n",
        "# Adding patient names to the list\n",
        "patient_list.append(\"John Doe\")\n",
        "patient_list.append(\"Jane Smith\")\n",
        "patient_list.append(\"Michael Johnson\")\n",
        "\n",
        "# Accessing and modifying items in the list\n",
        "patient_list[1] = \"Emily Davis\""
      ]
    },
    {
      "cell_type": "markdown",
      "source": [
        "**Explanation**: We create a list called patient_list to store patient names. We add three patient names to the list: \"John Doe\", \"Jane Smith\", and \"Michael Johnson\". We then modify the second item in the list to be \"Emily Davis\". Finally, we iterate through the list and print each patient name: \"John Doe\", \"Emily Davis\", \"Michael Johnson\".\n",
        "\n"
      ],
      "metadata": {
        "id": "hL8AHWrx80Tn"
      }
    },
    {
      "cell_type": "markdown",
      "source": [
        "##### <font color=\"green\">Challenge</font>"
      ],
      "metadata": {
        "id": "yIEglDgS80To"
      }
    },
    {
      "cell_type": "markdown",
      "source": [
        "* Create a list of common medical conditions such as 'diabetes', 'hypertension', and 'asthma'.\n",
        "\n",
        "* Start by defining an empty list using square brackets. Then add the medical conditions to the list using the append() method or by directly assigning values to the list."
      ],
      "metadata": {
        "id": "xBSHGC9w80To"
      }
    },
    {
      "cell_type": "code",
      "source": [
        "# Creating a list of common medical conditions\n",
        "\n",
        "\n",
        "# Adding medical conditions to the list\n",
        "\n",
        "# Accessing and modifying items in the list\n",
        "\n"
      ],
      "metadata": {
        "id": "Jko3mZu-80To"
      },
      "execution_count": null,
      "outputs": []
    },
    {
      "cell_type": "markdown",
      "source": [
        "#### 2.4.2 Accessing List Elements"
      ],
      "metadata": {
        "id": "rzgOI1-l4ZSF"
      }
    },
    {
      "cell_type": "markdown",
      "source": [
        "Accessing list elements in Python allows us to retrieve specific values stored in a list. This is important because it allows us to work with individual elements within a list and perform operations on them. To access list elements, we can use the index of the element within square brackets after the list name. For example, if we have a list called 'numbers' containing [1, 2, 3], we can access the first element by using 'numbers[0]'. We can also access elements using negative indices, which count from the end of the list. For example, 'numbers[-1]' would access the last element in the list. Additionally, we can use slicing to access multiple elements at once by specifying a start and end index separated by a colon. For example, 'numbers[1:3]' would return [2, 3]."
      ],
      "metadata": {
        "id": "FpqHy64Q4ZSr"
      }
    },
    {
      "cell_type": "code",
      "execution_count": null,
      "metadata": {
        "id": "_X9Ekrmi4ZSr"
      },
      "outputs": [],
      "source": [
        "# Example: Accessing list elements in the context of Healthcare\n",
        "\n",
        "# Creating a list of patient IDs\n",
        "patient_ids = [101, 102, 103, 104, 105]\n",
        "\n",
        "# Accessing the first element in the list\n",
        "first_patient_id = patient_ids[0]\n",
        "print(first_patient_id)\n",
        "\n",
        "# Accessing the last element in the list using negative index\n",
        "last_patient_id = patient_ids[-1]\n",
        "print(last_patient_id)\n",
        "\n",
        "# Accessing a subset of elements using slicing\n",
        "subset_patient_ids = patient_ids[1:4]\n",
        "print(subset_patient_ids)"
      ]
    },
    {
      "cell_type": "markdown",
      "source": [
        "**Explanation**: We create a list of patient IDs called patient_ids. We access the first element in the list using patient_ids[0] and store it in first_patient_id. When we print first_patient_id, it outputs the first patient ID, which is 101. We access the last element in the list using negative index patient_ids[-1] and store it in last_patient_id. When we print last_patient_id, it outputs the last patient ID, which is 105. We access a subset of elements in the list using slicing patient_ids[1:4] and store it in subset_patient_ids. When we print subset_patient_ids, it outputs a subset of patient IDs [102, 103, 104]."
      ],
      "metadata": {
        "id": "ZGegO1RE4ZSr"
      }
    },
    {
      "cell_type": "markdown",
      "source": [
        "##### <font color=\"green\">Challenge</font>"
      ],
      "metadata": {
        "id": "gmZG4zKF4ZSs"
      }
    },
    {
      "cell_type": "markdown",
      "source": [
        "Given a list of patient ages [25, 30, 35, 40, 45], access the third element in the list and print it out. Then, access the second to last element using negative indexing and print it out as well."
      ],
      "metadata": {
        "id": "341wwY8l4ZSs"
      }
    },
    {
      "cell_type": "code",
      "source": [
        "# Given list of patient ages\n",
        "\n",
        "\n",
        "# Accessing the third element in the list\n",
        "\n",
        "\n",
        "# Accessing the second to last element using negative indexing\n"
      ],
      "metadata": {
        "id": "LZJADKFL4ZSs"
      },
      "execution_count": null,
      "outputs": []
    },
    {
      "cell_type": "markdown",
      "source": [
        "#### 2.4.3 List Operations"
      ],
      "metadata": {
        "id": "45uiQUHh44MG"
      }
    },
    {
      "cell_type": "markdown",
      "source": [
        "Performing list operations in Python allows us to manipulate and work with lists in various ways. This includes adding, removing, sorting, and searching for elements within a list. List operations are important because lists are a fundamental data structure in Python and are commonly used to store collections of items. We can apply list operations when we need to organize and manage data in a structured manner, such as when working with patient records or medical test results."
      ],
      "metadata": {
        "id": "SH1Ju02j44MY"
      }
    },
    {
      "cell_type": "code",
      "execution_count": null,
      "metadata": {
        "id": "tQE-gBAU44MY"
      },
      "outputs": [],
      "source": [
        "# Creating a list of patient names\n",
        "patients = [\"Alice\", \"Bob\", \"Charlie\", \"David\", \"Eve\"]\n",
        "\n",
        "# Adding a new patient to the list\n",
        "patients.append(\"Frank\")\n",
        "\n",
        "# Removing a patient from the list\n",
        "patients.remove(\"Charlie\")\n",
        "\n",
        "# Sorting the list of patients alphabetically\n",
        "patients.sort()\n",
        "\n",
        "# Finding the index of a specific patient in the list\n",
        "index = patients.index(\"David\")\n",
        "\n",
        "# Printing the updated list of patients\n",
        "print(patients)"
      ]
    },
    {
      "cell_type": "markdown",
      "source": [
        "**Explanation**: We create a list of patient names using square brackets and assign it to the variable patients. We then add a new patient named \"Frank\" to the list using the append() method. Next, we remove the patient named \"Charlie\" from the list using the remove() method. We sort the list of patients alphabetically using the sort() method. We find the index of the patient named \"David\" in the list using the index() method and assign it to the variable index. Finally, we print out the sorted list of patients and the index of \"David\". The output is: ``` ['Alice', 'Bob', 'David', 'Eve', 'Frank'] 2 ```\n",
        "\n"
      ],
      "metadata": {
        "id": "67xZTe7V44MZ"
      }
    },
    {
      "cell_type": "markdown",
      "source": [
        "##### <font color=\"green\">Challenge</font>"
      ],
      "metadata": {
        "id": "4dNN5qdF44MZ"
      }
    },
    {
      "cell_type": "markdown",
      "source": [
        "* Perform list operations on a list of patient ages. Create a list of patient ages ranging from 20 to 60, add a new age of 25, remove the age 30, sort the ages in ascending order, and find the index of age 40 in the list.\n",
        "\n",
        "* Hint: Use the append() method to add a new age, the remove() method to remove an age, the sort() method to sort the list, and the index() method to find the index of a specific age."
      ],
      "metadata": {
        "id": "fHtzTLxf44MZ"
      }
    },
    {
      "cell_type": "code",
      "source": [
        "# Creating a list of patient ages\n",
        "\n",
        "\n",
        "# Adding a new age to the list\n",
        "\n",
        "\n",
        "# Removing an age from the list\n",
        "\n",
        "\n",
        "# Sorting the list of patient ages in ascending order\n",
        "\n",
        "\n",
        "# Finding the index of age 40 in the list\n",
        "\n",
        "\n",
        "# Printing the updated list of patient ages\n"
      ],
      "metadata": {
        "id": "M3UFFUq944Ma"
      },
      "execution_count": null,
      "outputs": []
    },
    {
      "cell_type": "markdown",
      "source": [
        "Create two variables to store whether a patient is allergic to penicillin and whether they have a history of heart disease. Print out messages based on these conditions. Remember to use boolean values (True/False) to represent whether the patient is allergic to penicillin and has a history of heart disease."
      ],
      "metadata": {
        "id": "f15Wcf6P5RFn"
      }
    },
    {
      "cell_type": "code",
      "source": [
        "# Your code goes here\n"
      ],
      "metadata": {
        "id": "-I82a__D5RFn"
      },
      "execution_count": null,
      "outputs": []
    },
    {
      "cell_type": "markdown",
      "source": [
        "### 2.5 Tuple Data Type"
      ],
      "metadata": {
        "id": "VoXwAFK_95RB"
      }
    },
    {
      "cell_type": "markdown",
      "source": [
        "A tuple is a data type in Python that is used to store an ordered collection of elements. Tuples are similar to lists, but they are immutable, meaning that once a tuple is created, its elements cannot be changed. Tuples are created by enclosing elements in parentheses and separating them with commas."
      ],
      "metadata": {
        "id": "dqPCHbvp95RP"
      }
    },
    {
      "cell_type": "code",
      "execution_count": null,
      "metadata": {
        "id": "fN2RkQZv95RP"
      },
      "outputs": [],
      "source": [
        "# Creating a tuple to store patient information in healthcare\n",
        "patient_info = ('John Doe', 35, 'Male', '123 Main St')\n",
        "\n",
        "# Displaying the patient information\n",
        "print(\"Patient Information:\")\n",
        "print(\"Name:\", patient_info[0])\n",
        "print(\"Age:\", patient_info[1])\n",
        "print(\"Gender:\", patient_info[2])\n",
        "print(\"Address:\", patient_info[3])"
      ]
    },
    {
      "cell_type": "markdown",
      "source": [
        "**Explanation**: We create a tuple named patient_info to store patient information. We access elements in the tuple using indexing and print them out. We loop through the tuple and print each element. We then unpack the tuple into individual variables for name, age, gender, and address, and print them out. The output for the print statements will display the corresponding values stored in the tuple."
      ],
      "metadata": {
        "id": "hjv7w-Uq95RQ"
      }
    },
    {
      "cell_type": "markdown",
      "source": [
        "#### <font color=\"green\">Challenge</font>"
      ],
      "metadata": {
        "id": "2iq2N27D95RQ"
      }
    },
    {
      "cell_type": "markdown",
      "source": [
        "Create a tuple to store the details of a medication in a pharmaceutical context. Include the medication name, dosage, frequency, and active ingredient. Display each detail separately using indexing. Remember to enclose the elements in parentheses and separate them with commas to create the tuple. Use indexing to access each detail of the medication tuple."
      ],
      "metadata": {
        "id": "5ddZChDL95RR"
      }
    },
    {
      "cell_type": "code",
      "source": [
        "# Your code goes here\n"
      ],
      "metadata": {
        "id": "BqYBnEp-95RR"
      },
      "execution_count": null,
      "outputs": []
    },
    {
      "cell_type": "markdown",
      "source": [
        "### 2.6 Dictionary Data Type"
      ],
      "metadata": {
        "id": "c8CejkLcv5qE"
      }
    },
    {
      "cell_type": "markdown",
      "source": [
        "#### 2.6.1 Creating and Accessing Dictionaries"
      ],
      "metadata": {
        "id": "eTdZpYMly4WK"
      }
    },
    {
      "cell_type": "markdown",
      "source": [
        "Creating and accessing dictionaries in Python allows us to store key-value pairs of data. Dictionaries are unordered collections of items where each item is stored as a key-value pair. This concept is important because dictionaries provide a way to organize and retrieve data efficiently.\n",
        "\n"
      ],
      "metadata": {
        "id": "_F5BLb_-y7ES"
      }
    },
    {
      "cell_type": "code",
      "source": [
        "# Creating a dictionary to store patient information\n",
        "patient_info = {\n",
        "    \"name\": \"John Doe\",\n",
        "    \"age\": 35,\n",
        "    \"gender\": \"Male\",\n",
        "    \"diagnosis\": \"Hypertension\"\n",
        "}\n",
        "\n",
        "# Accessing and printing patient information\n",
        "print(\"Patient Name:\", patient_info[\"name\"])\n",
        "print(\"Patient Age:\", patient_info[\"age\"])\n",
        "print(\"Patient Gender:\", patient_info[\"gender\"])\n",
        "print(\"Diagnosis:\", patient_info[\"diagnosis\"])"
      ],
      "metadata": {
        "id": "dvTj6drtzE-G"
      },
      "execution_count": null,
      "outputs": []
    },
    {
      "cell_type": "markdown",
      "source": [
        "We create a dictionary called patient_info to store information about a patient, including their name, age, gender, and diagnosis. We then access and print out each piece of information stored in the dictionary."
      ],
      "metadata": {
        "id": "5Yc8JJuBzN9y"
      }
    },
    {
      "cell_type": "markdown",
      "source": [
        "##### <font color=\"green\">Challenge</font>"
      ],
      "metadata": {
        "id": "spQwm5_lv5qI"
      }
    },
    {
      "cell_type": "markdown",
      "source": [
        "Create a dictionary to store medication information for a patient including medication name, dosage, frequency, and start date. Access and print the medication details for the patient.\n",
        "Hint: Use key-value pairs to store medication information in the dictionary. Access the details using the keys and print them using print() function."
      ],
      "metadata": {
        "id": "NqyX5tu3v5qJ"
      }
    },
    {
      "cell_type": "code",
      "source": [
        "# Creating a dictionary to store medication information for a patient\n",
        "\n",
        "\n",
        "# Accessing and printing medication information for the patient\n"
      ],
      "metadata": {
        "id": "I_-Cw4frv5qJ"
      },
      "execution_count": null,
      "outputs": []
    },
    {
      "cell_type": "markdown",
      "source": [
        "#### 2.6.2 Modifying and Deleting Dictionary Items"
      ],
      "metadata": {
        "id": "8UzFyDbBzgyj"
      }
    },
    {
      "cell_type": "markdown",
      "source": [
        "Modifying and deleting dictionary items in Python allows us to update or remove specific key-value pairs within a dictionary. This is important because dictionaries are mutable, meaning we can change their contents after they have been created. This concept is useful when we need to update information in a dictionary or remove unnecessary data."
      ],
      "metadata": {
        "id": "oqDO4sR4zgyv"
      }
    },
    {
      "cell_type": "code",
      "source": [
        "# Creating a dictionary of patient information\n",
        "patient_info = {\n",
        "    'name': 'John Doe',\n",
        "    'age': 35,\n",
        "    'gender': 'Male',\n",
        "    'diagnosis': 'Hypertension'\n",
        "}\n",
        "\n",
        "# Modifying the 'diagnosis' key in the dictionary\n",
        "patient_info['diagnosis'] = 'Diabetes'\n",
        "\n",
        "# Deleting the 'age' key from the dictionary\n",
        "del patient_info['age']\n",
        "\n",
        "print(patient_info)"
      ],
      "metadata": {
        "id": "2MQxTg5Zzgyv"
      },
      "execution_count": null,
      "outputs": []
    },
    {
      "cell_type": "markdown",
      "source": [
        "**Explanation**: We create a dictionary called patient_info with keys 'name', 'age', 'gender', and 'diagnosis' storing information about a patient. We then update the value of the 'diagnosis' key to 'Diabetes' and delete the 'age' key from the dictionary. When we print out the modified dictionary, it outputs {'name': 'John Doe', 'gender': 'Male', 'diagnosis': 'Diabetes'}."
      ],
      "metadata": {
        "id": "PxVwBCyazgyv"
      }
    },
    {
      "cell_type": "markdown",
      "source": [
        "##### <font color=\"green\">Challenge</font>"
      ],
      "metadata": {
        "id": "sjNrPylKzgyw"
      }
    },
    {
      "cell_type": "markdown",
      "source": [
        "Update the medication dosage for a patient in the following dictionary: patient_medication = {'name': 'Jane Smith', 'medication': 'Aspirin', 'dosage': '100mg'} to '200mg'. Then, remove the 'medication' key from the dictionary."
      ],
      "metadata": {
        "id": "Gczw_8YKzgyw"
      }
    },
    {
      "cell_type": "code",
      "source": [
        "# Updating the medication dosage for a patient\n",
        "patient_medication = {'name': 'Jane Smith', 'medication': 'Aspirin', 'dosage': '100mg'}\n",
        "\n",
        "# Update the dictionary\n",
        "\n",
        "\n",
        "# Removing the 'medication' key from the dictionary\n",
        "\n"
      ],
      "metadata": {
        "id": "Im4B-UPizgyw"
      },
      "execution_count": null,
      "outputs": []
    },
    {
      "cell_type": "markdown",
      "source": [
        "## 3. Working with functions"
      ],
      "metadata": {
        "id": "8nXQHSzg8np9"
      }
    },
    {
      "cell_type": "markdown",
      "source": [
        "### 3.1 Defining functions"
      ],
      "metadata": {
        "id": "h1E9qi8D8nqT"
      }
    },
    {
      "cell_type": "markdown",
      "source": [
        " When we define a function, we are essentially creating a block of code that performs a specific task. We can then call this function whenever we need to execute that task, without having to rewrite the same code multiple times. This is especially useful when we have a set of instructions that we need to repeat throughout our program. For example, if we have a calculation that we need to perform multiple times, we can define a function to handle that calculation and simply call the function whenever we need to use it."
      ],
      "metadata": {
        "id": "OTGnPSB58nqT"
      }
    },
    {
      "cell_type": "code",
      "execution_count": null,
      "metadata": {
        "id": "0G7QMQel8nqU"
      },
      "outputs": [],
      "source": [
        "# Define a function to calculate the dosage of a medication based on patient weight\n",
        "def calculate_dosage(weight):\n",
        "    dosage = weight * 0.1\n",
        "    return dosage"
      ]
    },
    {
      "cell_type": "markdown",
      "source": [
        "**Explanation**: We define a function called calculate_dosage that takes a parameter weight. Inside the function, we calculate the dosage by multiplying the weight by 0.1 and assign it to the variable dosage. We then return the dosage value. When we call the calculate_dosage function with a specific weight as an argument, it will calculate the dosage based on the weight provided and return the result."
      ],
      "metadata": {
        "id": "slOcVlRM8nqU"
      }
    },
    {
      "cell_type": "markdown",
      "source": [
        "#### <font color=\"green\">Challenge</font>"
      ],
      "metadata": {
        "id": "eorGYUpv8nqV"
      }
    },
    {
      "cell_type": "markdown",
      "source": [
        "Define a function in Python to convert a given temperature in Fahrenheit to Celsius. Remember that the formula to convert Fahrenheit to Celsius is: (Fahrenheit - 32) * 5/9. To define the function, use 'def' keyword followed by the function name, for example 'convert_to_celsius'. Inside the function, write the code block that performs the conversion using the provided formula. Remember to return the result at the end of the function."
      ],
      "metadata": {
        "id": "vhb98_1e8nqV"
      }
    },
    {
      "cell_type": "code",
      "source": [
        "# Your code goes here\n"
      ],
      "metadata": {
        "id": "2R98gywX8nqV"
      },
      "execution_count": null,
      "outputs": []
    },
    {
      "cell_type": "markdown",
      "source": [
        "### 3.2 Function parameters"
      ],
      "metadata": {
        "id": "Ld9EHTZe8nqV"
      }
    },
    {
      "cell_type": "markdown",
      "source": [
        "Function parameters in Python allow us to pass data into a function to be used during its execution. This allows us to make our functions more flexible and reusable by accepting different inputs."
      ],
      "metadata": {
        "id": "UoOxYYpc8nqW"
      }
    },
    {
      "cell_type": "code",
      "execution_count": null,
      "metadata": {
        "id": "M3fllqRo8nqW"
      },
      "outputs": [],
      "source": [
        "def calculate_dosage(patient_weight, medication_dosage):\n",
        "    # Calculate the dosage based on patient's weight and medication dosage\n",
        "    total_dosage = patient_weight * medication_dosage\n",
        "    return total_dosage\n",
        "\n",
        "# Example usage of the calculate_dosage function\n",
        "patient_weight = 70  # in kg\n",
        "medication_dosage = 0.1  # in mg/kg\n",
        "result = calculate_dosage(patient_weight, medication_dosage)\n",
        "print(\"The total dosage for the patient is:\", result, \"mg\")"
      ]
    },
    {
      "cell_type": "markdown",
      "source": [
        "**Explanation**: We define a function called calculate_dosage that takes in two parameters: patient_weight and medication_dosage. Inside the function, we calculate the total dosage by multiplying the patient's weight by the medication dosage and return the result. We assign the value 70 to the variable patient_weight and 0.1 to the variable medication_dosage. We call the calculate_dosage function with the patient_weight and medication_dosage as arguments and store the result in the variable final_dosage. We print out the total dosage for the patient by displaying the value of final_dosage."
      ],
      "metadata": {
        "id": "-udYdth48nqW"
      }
    },
    {
      "cell_type": "markdown",
      "source": [
        "#### <font color=\"green\">Challenge</font>"
      ],
      "metadata": {
        "id": "caJPCtRJ8nqX"
      }
    },
    {
      "cell_type": "markdown",
      "source": [
        "Create a function called calculate_bmi that takes in a patient's weight in kilograms and height in meters as parameters. The function should calculate the Body Mass Index (BMI) of the patient using the formula BMI = weight / (height * height). Remember to use the correct formula for calculating BMI and ensure that the function returns the calculated BMI value."
      ],
      "metadata": {
        "id": "JlwyIYkO8nqX"
      }
    },
    {
      "cell_type": "code",
      "source": [
        "# Your code goes here\n"
      ],
      "metadata": {
        "id": "_nzhISfY8nqX"
      },
      "execution_count": null,
      "outputs": []
    },
    {
      "cell_type": "markdown",
      "source": [
        "### 3.3 Return statements"
      ],
      "metadata": {
        "id": "bdaeX2K_8nqX"
      }
    },
    {
      "cell_type": "markdown",
      "source": [
        "Return statements in Python allow us to specify the value that a function should return when it is called. This is important because it allows us to pass data back to the code that called the function, enabling us to use the result of the function in other parts of our program."
      ],
      "metadata": {
        "id": "zQglshIl8nqY"
      }
    },
    {
      "cell_type": "code",
      "execution_count": null,
      "metadata": {
        "id": "aMXxOlw68nqY"
      },
      "outputs": [],
      "source": [
        "def calculate_dosage(patient_weight):\n",
        "    # Calculate the dosage based on the patient's weight\n",
        "    dosage = patient_weight * 0.02\n",
        "    return dosage\n",
        "\n",
        "# Example usage\n",
        "patient_weight = 70\n",
        "recommended_dosage = calculate_dosage(patient_weight)\n",
        "print(\"Recommended dosage for the patient: \", recommended_dosage)"
      ]
    },
    {
      "cell_type": "markdown",
      "source": [
        "**Explanation**: We define a function called calculate_dosage that takes in a patient's weight as a parameter. Inside the function, we calculate the dosage by multiplying the patient's weight by 0.2 and assign it to the variable dosage. We then use the return statement to pass the calculated dosage back to the code that called the function. We set the patient's weight to 70 and call the calculate_dosage function with this weight as an argument, storing the returned value in the variable recommended_dosage. Finally, we print out the recommended dosage for the patient, which is calculated based on their weight."
      ],
      "metadata": {
        "id": "SAOiQSsR8nqY"
      }
    },
    {
      "cell_type": "markdown",
      "source": [
        "#### <font color=\"green\">Challenge</font>"
      ],
      "metadata": {
        "id": "sTNPzwAT8nqY"
      }
    },
    {
      "cell_type": "markdown",
      "source": [
        "Create a function named 'calculate_total_cost' that takes in the quantity of a medication and its unit price as parameters. The function should calculate the total cost of the medication based on the quantity and unit price, and return the result. Remember to use the formula: total_cost = quantity * unit_price.\n",
        "To calculate the total cost, multiply the quantity by the unit price and use the 'return' statement to pass the result back to the calling code."
      ],
      "metadata": {
        "id": "ADQMuEAK8nqY"
      }
    },
    {
      "cell_type": "code",
      "source": [
        "# Your code goes here\n"
      ],
      "metadata": {
        "id": "fokLsCr88nqZ"
      },
      "execution_count": null,
      "outputs": []
    },
    {
      "cell_type": "markdown",
      "source": [
        "### 3.4 Lambda functions"
      ],
      "metadata": {
        "id": "NddmM80U_GSE"
      }
    },
    {
      "cell_type": "markdown",
      "source": [
        "Lambda functions in Python are small, anonymous functions that can have any number of arguments but only one expression. They are defined using the lambda keyword. Lambda functions are useful when we need a simple function for a short period of time and don't want to define a full function using the def keyword. They are commonly used in situations where we need to pass a function as an argument to another function, such as in sorting or filtering operations."
      ],
      "metadata": {
        "id": "T4h_B5pQ_GSU"
      }
    },
    {
      "cell_type": "code",
      "execution_count": null,
      "metadata": {
        "id": "-C6BXk5G_GSV"
      },
      "outputs": [],
      "source": [
        "# Define a lambda function to calculate BMI\n",
        "calculate_bmi = lambda weight, height: weight / (height ** 2)\n",
        "\n",
        "# Test the lambda function with sample data\n",
        "weight = 70 # in kg\n",
        "height = 1.75 # in meters\n",
        "bmi = calculate_bmi(weight, height)\n",
        "print(\"BMI:\", bmi)"
      ]
    },
    {
      "cell_type": "markdown",
      "source": [
        "**Explanation**: We define a lambda function called calculate_bmi that takes in two arguments, weight and height, and calculates the body mass index (BMI) by dividing weight by the square of height. We then use this lambda function to calculate the BMI of a patient with a weight of 70 kilograms and a height of 1.75 meters."
      ],
      "metadata": {
        "id": "Bn52hnss_GSV"
      }
    },
    {
      "cell_type": "markdown",
      "source": [
        "#### <font color=\"green\">Challenge</font>"
      ],
      "metadata": {
        "id": "FG_ONlBG_GSV"
      }
    },
    {
      "cell_type": "markdown",
      "source": [
        "Create a lambda function that takes in a patient's temperature in Celsius and converts it to Fahrenheit. Remember that the formula to convert Celsius to Fahrenheit is: (Celsius * 9/5) + 32."
      ],
      "metadata": {
        "id": "ZICcaQ9b_GSV"
      }
    },
    {
      "cell_type": "code",
      "source": [
        "# Define a lambda function to convert Celsius to Fahrenheit\n",
        "\n",
        "\n",
        "# Test the lambda function with sample data\n"
      ],
      "metadata": {
        "id": "6CVRMXNf_GSW"
      },
      "execution_count": null,
      "outputs": []
    },
    {
      "cell_type": "markdown",
      "source": [
        "## 4. Control structures and loops"
      ],
      "metadata": {
        "id": "cZOgpLAJDNp4"
      }
    },
    {
      "cell_type": "markdown",
      "source": [
        "### 4.1 If-Else Statements"
      ],
      "metadata": {
        "id": "NYdSjvjLDNqH"
      }
    },
    {
      "cell_type": "markdown",
      "source": [
        "If-Else statements in Python allow us to make decisions in our code based on certain conditions. This control structure helps us execute different blocks of code depending on whether a condition is true or false. If the condition is true, we execute one block of code; if the condition is false, we execute another block of code."
      ],
      "metadata": {
        "id": "b2CukrdUDNqI"
      }
    },
    {
      "cell_type": "code",
      "execution_count": null,
      "metadata": {
        "id": "94k-_DYJDNqI"
      },
      "outputs": [],
      "source": [
        "patient_age = 65\n",
        "\n",
        "if patient_age < 18:\n",
        "    print(\"Patient is a minor\")\n",
        "elif patient_age >= 18 and patient_age < 65:\n",
        "    print(\"Patient is an adult\")\n",
        "else:\n",
        "    print(\"Patient is a senior citizen\")"
      ]
    },
    {
      "cell_type": "markdown",
      "source": [
        "**Explanation**: We initialize a variable called patient_age with a value of 65. We then use an if-elif-else statement to check the value of patient_age. If the patient's age is less than 18, we print \"Patient is a minor\". If the patient's age is 18 or older but less than 65, we print \"Patient is an adult\". Otherwise, if the patient's age is 65 or older, we print \"Patient is a senior citizen\". In this case, since the patient_age is 65, the condition in the else block is met, and the output of the code will be \"Patient is a senior citizen\"."
      ],
      "metadata": {
        "id": "WZlpa2eNDNqI"
      }
    },
    {
      "cell_type": "markdown",
      "source": [
        "#### <font color=\"green\">Challenge</font>"
      ],
      "metadata": {
        "id": "vfN9UpMLDNqJ"
      }
    },
    {
      "cell_type": "markdown",
      "source": [
        "Determine the appropriate dosage of a medication based on a patient's weight in kilograms. Use if-else statements to check the weight range of the patient and assign the corresponding dosage accordingly. For example, if the patient weighs less than 50 kg, prescribe 100mg; if the patient weighs between 50-75 kg, prescribe 150mg; if the patient weighs more than 75 kg, prescribe 200mg.\n"
      ],
      "metadata": {
        "id": "DSVFgI_iDNqJ"
      }
    },
    {
      "cell_type": "code",
      "source": [
        "# Your code goes here\n"
      ],
      "metadata": {
        "id": "R0Runzh4DNqJ"
      },
      "execution_count": null,
      "outputs": []
    },
    {
      "cell_type": "markdown",
      "source": [
        "### 4.2 Nested If-Else Statements"
      ],
      "metadata": {
        "id": "46VSToaGDNqL"
      }
    },
    {
      "cell_type": "markdown",
      "source": [
        "Nested if-else statements in Python allow us to have multiple levels of conditional logic within our code. This means we can have an if statement inside another if statement, creating a hierarchy of conditions to be checked."
      ],
      "metadata": {
        "id": "tO9fWfeyDNqL"
      }
    },
    {
      "cell_type": "code",
      "execution_count": null,
      "metadata": {
        "id": "82M1xqDxDNqL"
      },
      "outputs": [],
      "source": [
        "patient_age = 45\n",
        "patient_condition = \"diabetes\"\n",
        "\n",
        "if patient_age < 18:\n",
        "    print(\"Patient is a child\")\n",
        "    if patient_condition == \"diabetes\":\n",
        "        print(\"Patient has diabetes\")\n",
        "    else:\n",
        "        print(\"Patient does not have diabetes\")\n",
        "else:\n",
        "    print(\"Patient is an adult\")\n",
        "    if patient_condition == \"diabetes\":\n",
        "        print(\"Patient has diabetes\")\n",
        "    else:\n",
        "        print(\"Patient does not have diabetes\")"
      ]
    },
    {
      "cell_type": "markdown",
      "source": [
        "**Explanation**: We initialize the variables patient_age with a value of 45 and patient_condition with the string \"diabetes\". We then check if the patient's age is less than 18. If it is, we print \"Patient is a child\" and then check if the patient has diabetes. If they do, we print \"Patient has diabetes\", otherwise we print \"Patient does not have diabetes\". If the patient's age is 18 or older, we print \"Patient is an adult\" and then check for the diabetes condition in a similar manner."
      ],
      "metadata": {
        "id": "8tTBkIR_DNqM"
      }
    },
    {
      "cell_type": "markdown",
      "source": [
        "#### <font color=\"green\">Challenge</font>"
      ],
      "metadata": {
        "id": "0qOlwdzyDNqM"
      }
    },
    {
      "cell_type": "markdown",
      "source": [
        "Create nested if-else statements to check the patient's weight and age ranges. Use the following guidelines: For patients under 12 years old and weighing less than 50 kg, prescribe 100mg of the medication. For patients under 12 years old and weighing 50 kg or more, prescribe 150mg. For patients 12 years old or older and weighing less than 50 kg, prescribe 200mg. For patients 12 years old or older and weighing 50 kg or more, prescribe 250mg."
      ],
      "metadata": {
        "id": "h1DEIxiCDNqM"
      }
    },
    {
      "cell_type": "code",
      "source": [
        "# Your code goes here\n"
      ],
      "metadata": {
        "id": "z7BJlTe2DNqN"
      },
      "execution_count": null,
      "outputs": []
    },
    {
      "cell_type": "markdown",
      "source": [
        "### 4.3 For Loops"
      ],
      "metadata": {
        "id": "Kj1Zl_DpDNqN"
      }
    },
    {
      "cell_type": "markdown",
      "source": [
        "For loops in Python allow us to iterate over a sequence of elements, such as a list or a range of numbers. This concept is important because it helps us automate repetitive tasks and perform operations on each element in a sequence."
      ],
      "metadata": {
        "id": "h8fSKBmfDNqN"
      }
    },
    {
      "cell_type": "code",
      "execution_count": null,
      "metadata": {
        "id": "VxyHqwIADNqO"
      },
      "outputs": [],
      "source": [
        "# Example: Calculating the total cost of medications for a patient\n",
        "medication_costs = [25, 30, 15, 40, 20]\n",
        "total_cost = 0\n",
        "\n",
        "for cost in medication_costs:\n",
        "    total_cost += cost\n",
        "\n",
        "print(\"Total cost of medications: $\", total_cost)"
      ]
    },
    {
      "cell_type": "markdown",
      "source": [
        "**Explanation**: We initialize a list called medication_costs with the costs of different medications. We also initialize a variable total_cost to 0. We then use a for loop to iterate over each cost in the medication_costs list and add it to the total_cost variable. Finally, we print out the total cost of medications by concatenating the string \"Total cost of medications: $\" with the total_cost variable."
      ],
      "metadata": {
        "id": "hlD-OtjxDNqQ"
      }
    },
    {
      "cell_type": "markdown",
      "source": [
        "#### <font color=\"green\">Challenge</font>"
      ],
      "metadata": {
        "id": "JwDBF6UvDNqR"
      }
    },
    {
      "cell_type": "markdown",
      "source": [
        "Calculate the total number of patients who have completed a specific treatment regimen out of a list of patient IDs. Create a list of patient IDs who have completed the treatment regimen. Use a for loop to iterate over each patient ID in the list and check if they have completed the regimen. Increment a counter variable for each patient who has completed the regimen. Print out the total number of patients who have completed the treatment regimen at the end."
      ],
      "metadata": {
        "id": "1gVWdS2yDNqR"
      }
    },
    {
      "cell_type": "code",
      "source": [
        "# Your code goes here\n"
      ],
      "metadata": {
        "id": "lYnstyAQDNqR"
      },
      "execution_count": null,
      "outputs": []
    },
    {
      "cell_type": "markdown",
      "source": [
        "### 4.4 While Loops"
      ],
      "metadata": {
        "id": "MYYZhE8iDNqS"
      }
    },
    {
      "cell_type": "markdown",
      "source": [
        "While loops in Python allow us to repeatedly execute a block of code as long as a specified condition is true. This is useful when we want to perform a task multiple times without having to manually write out each iteration."
      ],
      "metadata": {
        "id": "ttUWmiBbDNqS"
      }
    },
    {
      "cell_type": "code",
      "execution_count": null,
      "metadata": {
        "id": "Tja3Su1oDNqT"
      },
      "outputs": [],
      "source": [
        "# Simulating a patient taking medication every 8 hours\n",
        "hours_passed = 0\n",
        "\n",
        "while hours_passed < 24:\n",
        "    print(\"Patient takes medication\")\n",
        "    hours_passed += 8"
      ]
    },
    {
      "cell_type": "markdown",
      "source": [
        "**Explanation**: We initialize a variable called hours_passed to keep track of the number of hours that have passed. We then enter a while loop that will continue to run as long as the hours_passed is less than 24. Inside the loop, we print out the message \"Patient takes medication\" and increment the hours_passed by 8 each time. The output of the code example will be: \"Patient takes medication\" printed 3 times, as the loop runs 3 times before the condition (hours_passed < 24) becomes false."
      ],
      "metadata": {
        "id": "7tmu2IH2DNqT"
      }
    },
    {
      "cell_type": "markdown",
      "source": [
        "#### <font color=\"green\">Challenge</font>"
      ],
      "metadata": {
        "id": "2dyxAPP1DNqU"
      }
    },
    {
      "cell_type": "markdown",
      "source": [
        "Create a program that simulates a pharmacist dispensing pills to patients until the pharmacy runs out of stock. The pharmacist dispenses 5 pills at a time and updates the stock count after each dispensing. Use a while loop to continuously dispense pills as long as the stock count is greater than or equal to 5. Update the stock count by subtracting 5 after each dispensing."
      ],
      "metadata": {
        "id": "wVbG6YRxDNqU"
      }
    },
    {
      "cell_type": "code",
      "source": [
        "# Your code goes here\n"
      ],
      "metadata": {
        "id": "jKIzp6G3DNqU"
      },
      "execution_count": null,
      "outputs": []
    },
    {
      "cell_type": "markdown",
      "source": [
        "### 4.5 Break and Continue Statements"
      ],
      "metadata": {
        "id": "TftmcILkOX9V"
      }
    },
    {
      "cell_type": "markdown",
      "source": [
        "Break and continue statements in Python are control flow statements that alter the flow of execution in loops. The 'break' statement is used to exit a loop prematurely, while the 'continue' statement is used to skip the rest of the current iteration and move to the next one."
      ],
      "metadata": {
        "id": "5c4yIhXpOX9t"
      }
    },
    {
      "cell_type": "code",
      "execution_count": null,
      "metadata": {
        "id": "lOUctPJiOX9v"
      },
      "outputs": [],
      "source": [
        "patients = [\"John\", \"Sarah\", \"Mike\", \"Emily\", \"David\"]\n",
        "\n",
        "for patient in patients:\n",
        "    if patient == \"Mike\":\n",
        "        continue\n",
        "    print(\"Treating patient:\", patient)\n",
        "    if patient == \"Emily\":\n",
        "        break"
      ]
    },
    {
      "cell_type": "markdown",
      "source": [
        "**Explanation**: We create a list of patients with names. We iterate through each patient in the list. If the patient's name is \"Mike\", we skip to the next iteration. We print out \"Treating patient:\" followed by the patient's name. If the patient's name is \"Emily\", we break out of the loop. The output will be: Treating patient: John Treating patient: Sarah Treating patient: Mike Treating patient: David."
      ],
      "metadata": {
        "id": "dHrfMVqwOX9x"
      }
    },
    {
      "cell_type": "markdown",
      "source": [
        "#### <font color=\"green\">Challenge</font>"
      ],
      "metadata": {
        "id": "8KYNvOawOX9x"
      }
    },
    {
      "cell_type": "markdown",
      "source": [
        "* In a pharmaceutical research lab, a scientist is testing the effectiveness of different drugs on a group of patients. Create a loop that iterates through the list of drugs and patients. If a patient is allergic to a drug, skip to the next patient. If a patient has a severe reaction to a drug, stop the loop immediately.\n",
        "* Remember to use 'break' and 'continue' statements accordingly.\n",
        "Use a list of drugs and patients, and simulate different scenarios where patients may have allergies or severe reactions to certain drugs. Use 'if' statements to check for these conditions and implement 'break' and 'continue' statements as needed."
      ],
      "metadata": {
        "id": "nyD9tXDmOX9x"
      }
    },
    {
      "cell_type": "code",
      "source": [
        "# Your code goes here\n"
      ],
      "metadata": {
        "id": "nQyGnNhiOX9y"
      },
      "execution_count": null,
      "outputs": []
    },
    {
      "cell_type": "markdown",
      "source": [
        "## 5. Working with libraries in Python"
      ],
      "metadata": {
        "id": "UBXrP2v2Q69c"
      }
    },
    {
      "cell_type": "markdown",
      "source": [
        "### 5.1 Importing Libraries"
      ],
      "metadata": {
        "id": "-zyey7vRQ69e"
      }
    },
    {
      "cell_type": "markdown",
      "source": [
        "Importing libraries in Python allows us to access pre-written code that provides additional functionality to our programs. This is important because it saves us time and effort by not having to write code from scratch for common tasks. To import a library, we use the 'import' keyword followed by the name of the library. We can then use functions and classes from the library in our code."
      ],
      "metadata": {
        "id": "fff6FD1tQ69e"
      }
    },
    {
      "cell_type": "code",
      "execution_count": null,
      "metadata": {
        "id": "IAibGtORQ69e"
      },
      "outputs": [],
      "source": [
        "# Importing the pandas library for data manipulation in healthcare\n",
        "import pandas as pd\n",
        "\n",
        "# Importing the numpy library for numerical operations in pharmaceutical research\n",
        "import numpy as np\n",
        "\n",
        "# Importing the matplotlib library for data visualization in healthcare analytics\n",
        "import matplotlib.pyplot as plt"
      ]
    },
    {
      "cell_type": "markdown",
      "source": [
        "**Explanation**: We import the pandas library for data manipulation in healthcare, the matplotlib library for data visualization in pharmaceuticals, and the numpy library for numerical operations in healthcare. When we run this code, the libraries are successfully imported and we can now use their functions and classes in our program."
      ],
      "metadata": {
        "id": "cXmqORcnQ69j"
      }
    },
    {
      "cell_type": "markdown",
      "source": [
        "#### <font color=\"green\">Challenge</font>"
      ],
      "metadata": {
        "id": "mKjWwPfBQ69j"
      }
    },
    {
      "cell_type": "markdown",
      "source": [
        "Import the 'requests' library in Python to make API calls to retrieve data from an external source."
      ],
      "metadata": {
        "id": "ej0hSqq9Q69j"
      }
    },
    {
      "cell_type": "code",
      "source": [
        "# Your code goes here\n"
      ],
      "metadata": {
        "id": "hUXi2a6dQ69k"
      },
      "execution_count": null,
      "outputs": []
    },
    {
      "cell_type": "markdown",
      "source": [
        "### 5.2 Using Built-in Libraries"
      ],
      "metadata": {
        "id": "TsFbYtMfQ69k"
      }
    },
    {
      "cell_type": "markdown",
      "source": [
        "Using built-in libraries in Python allows us to access pre-written code that provides a set of functions and methods to perform specific tasks. This saves us time and effort by not having to write code from scratch and helps us leverage the power of existing libraries in our programs."
      ],
      "metadata": {
        "id": "G7Z5212aQ69l"
      }
    },
    {
      "cell_type": "code",
      "execution_count": null,
      "metadata": {
        "id": "ldwRpX9PQ69l"
      },
      "outputs": [],
      "source": [
        "import math\n",
        "\n",
        "# Calculate the square root of a number\n",
        "num = 16\n",
        "sqrt_num = math.sqrt(num)\n",
        "print(\"Square root of\", num, \"is\", sqrt_num)"
      ]
    },
    {
      "cell_type": "markdown",
      "source": [
        "**Explanation**: We import the math library to access mathematical functions. We then calculate the square root of the number 16 using the math.sqrt() function and store it in the variable sqrt_num. Finally, we print the message \"Square root of 16 is\" followed by the calculated square root value. The output is: Square root of 16 is 4.0."
      ],
      "metadata": {
        "id": "FNytLgq2Q69l"
      }
    },
    {
      "cell_type": "markdown",
      "source": [
        "#### <font color=\"green\">Challenge</font>"
      ],
      "metadata": {
        "id": "KA0lK59jQ69l"
      }
    },
    {
      "cell_type": "markdown",
      "source": [
        "Calculate the factorial of a given number using the math library in Python. Hint: Use the math.factorial() function to calculate the factorial of a number."
      ],
      "metadata": {
        "id": "LaM2lSFgQ69m"
      }
    },
    {
      "cell_type": "code",
      "source": [
        "# Your code goes here\n"
      ],
      "metadata": {
        "id": "rc8kJ7n7Q69m"
      },
      "execution_count": null,
      "outputs": []
    },
    {
      "cell_type": "markdown",
      "source": [
        "### 5.3 Working with the Pandas library"
      ],
      "metadata": {
        "id": "HkIFy0hjQ69m"
      }
    },
    {
      "cell_type": "markdown",
      "source": [
        "Working with Pandas in Python allows us to manipulate and analyze data efficiently using the Pandas library. Pandas provides data structures and functions that make it easy to work with structured data such as tables and time series data. This concept is important because it enables us to clean, transform, and analyze data for various data science and healthcare applications."
      ],
      "metadata": {
        "id": "APesIWcoQ69m"
      }
    },
    {
      "cell_type": "code",
      "execution_count": null,
      "metadata": {
        "id": "LZXMlMnLQ69n"
      },
      "outputs": [],
      "source": [
        "import pandas as pd\n",
        "\n",
        "# Load the dataset\n",
        "url = \"https://afterwork.ai/ds/e/healthcare_and_pharmaceuticals_qd9ep.csv\"\n",
        "df = pd.read_csv(url)\n",
        "\n",
        "# Display the first 5 rows of the dataset\n",
        "df.head()"
      ]
    },
    {
      "cell_type": "markdown",
      "source": [
        "**Explanation**: We import the pandas library and alias it as pd. We then load a dataset from a URL using pd.read_csv() and store it in a DataFrame called df. We display the first 5 rows of the dataset using df.head(). The output of the code will be the first 5 rows of the dataset loaded from the provided URL. This allows us to quickly inspect the data and understand its structure before further analysis or manipulation."
      ],
      "metadata": {
        "id": "IjN7F8z5Q69n"
      }
    },
    {
      "cell_type": "markdown",
      "source": [
        "#### <font color=\"green\">Challenge</font>"
      ],
      "metadata": {
        "id": "qm_3HEuoQ69n"
      }
    },
    {
      "cell_type": "markdown",
      "source": [
        "Read the first 5 records from the dataset located at https://afterwork.ai/ds/ch/healthcare_and_pharmaceuticals_4xuh.csv. Use pandas to read in the CSV file and display the first 5 rows of the dataset using the head() function."
      ],
      "metadata": {
        "id": "FOU4bYS_Q69n"
      }
    },
    {
      "cell_type": "code",
      "source": [
        "# Your code goes here\n"
      ],
      "metadata": {
        "id": "ZogsV2a8Q69o"
      },
      "execution_count": null,
      "outputs": []
    }
  ]
}