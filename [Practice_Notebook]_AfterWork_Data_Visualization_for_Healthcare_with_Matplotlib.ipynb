{
  "nbformat": 4,
  "nbformat_minor": 0,
  "metadata": {
    "colab": {
      "provenance": [],
      "toc_visible": true,
      "collapsed_sections": [
        "I9uNKrHXVWuS",
        "NIMVCHs5VbQy",
        "RQ_V_ItOW1fo",
        "izD-nVomW1gK",
        "MCNRSn_aW1gH",
        "0k7WLhU4W1gJ",
        "fHzzA4K5X_gy",
        "GRYMe3BAX_hP",
        "YNFvabVqX_hP",
        "-4dmTaiW5tcy",
        "iXdflBFK5tc1",
        "y-IlgXv0--wl",
        "0qS3pZjK--xE"
      ],
      "include_colab_link": true
    },
    "kernelspec": {
      "name": "python3",
      "display_name": "Python 3"
    },
    "language_info": {
      "name": "python"
    }
  },
  "cells": [
    {
      "cell_type": "markdown",
      "metadata": {
        "id": "view-in-github",
        "colab_type": "text"
      },
      "source": [
        "<a href=\"https://colab.research.google.com/github/Odero254/intro_to_github/blob/main/%5BPractice_Notebook%5D_AfterWork_Data_Visualization_for_Healthcare_with_Matplotlib.ipynb\" target=\"_parent\"><img src=\"https://colab.research.google.com/assets/colab-badge.svg\" alt=\"Open In Colab\"/></a>"
      ]
    },
    {
      "cell_type": "markdown",
      "source": [
        "# [Practice Notebook] AfterWork: Data Visualization for Healthcare with Matplotlib"
      ],
      "metadata": {
        "id": "AzzzOmB9VTi2"
      }
    },
    {
      "cell_type": "markdown",
      "source": [
        "# Pre-requisite"
      ],
      "metadata": {
        "id": "I9uNKrHXVWuS"
      }
    },
    {
      "cell_type": "code",
      "execution_count": null,
      "metadata": {
        "id": "Ge37UfrxU2jD"
      },
      "outputs": [],
      "source": [
        "# Import Pandas for data manipulation\n",
        "import pandas as pd\n",
        "\n",
        "# Import Matplotlib for visualization\n",
        "import matplotlib.pylab as plt"
      ]
    },
    {
      "cell_type": "markdown",
      "source": [
        "# 1. Creating basic plots\n",
        "\n"
      ],
      "metadata": {
        "id": "NIMVCHs5VbQy"
      }
    },
    {
      "cell_type": "markdown",
      "source": [
        "## 1.1 Creating bar charts\n"
      ],
      "metadata": {
        "id": "sZ2eazMDWIbA"
      }
    },
    {
      "cell_type": "markdown",
      "source": [
        "Creating bar charts in Matplotlib allows us to visually represent data using rectangular bars with lengths proportional to the values they represent. This is important for comparing different categories or groups of data at a glance.\n",
        "\n"
      ],
      "metadata": {
        "id": "v8cna5YnbIwM"
      }
    },
    {
      "cell_type": "code",
      "source": [
        "# Load the dataset\n",
        "data = pd.read_csv(\"https://afterwork.ai/ds/e/healthcare_and_pharmaceuticals_8t5lp.csv\")\n",
        "\n",
        "# Preview the dataset\n",
        "data.head()"
      ],
      "metadata": {
        "id": "-uiuFH4zzRqV"
      },
      "execution_count": null,
      "outputs": []
    },
    {
      "cell_type": "code",
      "source": [
        "# Create a bar chart\n",
        "plt.figure(figsize=(10,6))\n",
        "plt.bar(data['Medication'], data['Quantity'], color='skyblue')\n",
        "\n",
        "# Style the plot\n",
        "plt.xlabel('Medication')\n",
        "plt.ylabel('Quantity')\n",
        "plt.title('Quantity of Medication in Healthcare and Pharmaceuticals')\n",
        "plt.xticks(rotation=45)\n",
        "\n",
        "# Show the plot\n",
        "plt.show()"
      ],
      "metadata": {
        "id": "IKfdIGZ4WLNd"
      },
      "execution_count": null,
      "outputs": []
    },
    {
      "cell_type": "markdown",
      "source": [
        "### Challenge"
      ],
      "metadata": {
        "id": "IU_jMuXpWLxB"
      }
    },
    {
      "cell_type": "markdown",
      "source": [
        "Create a bar chart using Matplotlib to visualize the Quantity of each Medication in the dataset from https://afterwork.ai/ds/ch/healthcare_and_pharmaceuticals_7wt3.csv. Remember to label the x-axis with Medication names and the y-axis with Quantity values.\n"
      ],
      "metadata": {
        "id": "nZxIoGWhbRgv"
      }
    },
    {
      "cell_type": "code",
      "source": [
        "# Load the dataset\n",
        "data = pd.read_csv(\"https://afterwork.ai/ds/ch/healthcare_and_pharmaceuticals_7wt3.csv\")\n",
        "\n",
        "# Create a bar chart\n",
        "# Write your code here\n",
        "\n",
        "\n",
        "# Style the plot (xlabel, ylabel, title, xticks)\n",
        "# Write your code here\n",
        "\n",
        "\n",
        "# Show the plot\n",
        "# Write your code here\n",
        "\n"
      ],
      "metadata": {
        "id": "WR5xkl5NWNu5"
      },
      "execution_count": null,
      "outputs": []
    },
    {
      "cell_type": "markdown",
      "source": [
        "## 1.2 Creating line plots\n"
      ],
      "metadata": {
        "id": "vLrf4rS2WPBv"
      }
    },
    {
      "cell_type": "markdown",
      "source": [
        "Creating line plots allows us to visualize trends and patterns in our healthcare data. Line plots are useful for showing how a variable changes over time or across different categories. They are particularly effective for displaying continuous data points in a sequential order.\n",
        "\n"
      ],
      "metadata": {
        "id": "54RC65VWbZ49"
      }
    },
    {
      "cell_type": "code",
      "source": [
        "# Load the dataset\n",
        "df = pd.read_csv(\"https://afterwork.ai/ds/e/healthcare_and_pharmaceuticals_jtezr.csv\")\n",
        "\n",
        "# Preview the dataset\n",
        "df.head()"
      ],
      "metadata": {
        "id": "ubXkyZERzWdx"
      },
      "execution_count": null,
      "outputs": []
    },
    {
      "cell_type": "code",
      "source": [
        "# Convert Blood Pressure to systolic and diastolic columns\n",
        "df[['Systolic_BP', 'Diastolic_BP']] = df['Blood_Pressure'].str.split('/', expand=True)\n",
        "\n",
        "# Convert Visit_Date to datetime format\n",
        "df['Visit_Date'] = pd.to_datetime(df['Visit_Date'])\n",
        "\n",
        "# Preview the dataset\n",
        "df.head()"
      ],
      "metadata": {
        "id": "8vsKetyQ0NEu"
      },
      "execution_count": null,
      "outputs": []
    },
    {
      "cell_type": "code",
      "source": [
        "# Create a line plot for Heart Rate over time\n",
        "plt.figure(figsize=(10, 6))\n",
        "plt.plot(df['Visit_Date'], df['Heart_Rate'], marker='o', linestyle='-', linewidth=2)\n",
        "\n",
        "# Style the plot\n",
        "plt.xlabel('Visit Date')\n",
        "plt.ylabel('Heart Rate')\n",
        "plt.title('Heart Rate Over Time')\n",
        "plt.grid(True)\n",
        "plt.show()"
      ],
      "metadata": {
        "id": "dksSxRuYWPBx"
      },
      "execution_count": null,
      "outputs": []
    },
    {
      "cell_type": "markdown",
      "source": [
        "### Challenge"
      ],
      "metadata": {
        "id": "CPiYyGHpWPBx"
      }
    },
    {
      "cell_type": "markdown",
      "source": [
        "Create a line plot to visualize the Heart Rate data over time for the patients in the dataset located at https://afterwork.ai/ds/ch/healthcare_and_pharmaceuticals_m04x.csv."
      ],
      "metadata": {
        "id": "XimjTnX3bw16"
      }
    },
    {
      "cell_type": "code",
      "source": [
        "# Load the dataset\n",
        "data = pd.read_csv(\"https://afterwork.ai/ds/ch/healthcare_and_pharmaceuticals_m04x.csv\")\n",
        "data.head()"
      ],
      "metadata": {
        "id": "IDGW26x-s4qd"
      },
      "execution_count": null,
      "outputs": []
    },
    {
      "cell_type": "code",
      "source": [
        "# Create a line plot to visualize the Heart Rate data over time\n",
        "plt.figure(figsize=(10, 6))\n",
        "# Write your code here\n",
        "\n",
        "# Add labels and title (xlabel, ylabel, title, grid)\n",
        "# Write your code here\n",
        "\n",
        "\n",
        "# Display the plot\n",
        "# Write your code here\n"
      ],
      "metadata": {
        "id": "zc6SPgUFWPBy"
      },
      "execution_count": null,
      "outputs": []
    },
    {
      "cell_type": "markdown",
      "source": [
        "## 1.3 Creating scatter plots\n"
      ],
      "metadata": {
        "id": "rOh-DAU0WZUd"
      }
    },
    {
      "cell_type": "markdown",
      "source": [
        "Creating scatter plots allows us to visualize the relationship between two variables in a dataset. Scatter plots are useful for identifying patterns, trends, and outliers in the data.\n",
        "\n"
      ],
      "metadata": {
        "id": "k23YQjALfocW"
      }
    },
    {
      "cell_type": "code",
      "source": [
        "# Load the dataset\n",
        "data = pd.read_csv(\"https://afterwork.ai/ds/e/healthcare_and_pharmaceuticals_e7m45.csv\")\n",
        "\n",
        "# Preview the dataset\n",
        "data.head()"
      ],
      "metadata": {
        "id": "iuIoraQVzd4-"
      },
      "execution_count": null,
      "outputs": []
    },
    {
      "cell_type": "code",
      "source": [
        "# Create a scatter plot of Age vs Weight\n",
        "plt.scatter(data['Age'], data['Weight'])\n",
        "\n",
        "# Style the plot\n",
        "plt.xlabel('Age')\n",
        "plt.ylabel('Weight')\n",
        "plt.title('Age vs Weight Scatter Plot')\n",
        "plt.show()"
      ],
      "metadata": {
        "id": "yBm21L9mWZUe"
      },
      "execution_count": null,
      "outputs": []
    },
    {
      "cell_type": "markdown",
      "source": [
        "### Challenge"
      ],
      "metadata": {
        "id": "Q5JsiCDYWZUf"
      }
    },
    {
      "cell_type": "markdown",
      "source": [
        "Create a scatter plot to visualize the relationship between Drug Effectiveness and Side Effects using the dataset from the URL: https://afterwork.ai/ds/ch/healthcare_and_pharmaceuticals_re24.csv."
      ],
      "metadata": {
        "id": "sFc4Ms1rfxVF"
      }
    },
    {
      "cell_type": "code",
      "source": [
        "# Load the dataset\n",
        "data = pd.read_csv(\"https://afterwork.ai/ds/ch/healthcare_and_pharmaceuticals_re24.csv\")\n",
        "data.head()"
      ],
      "metadata": {
        "id": "6QM9lmFQtZGz"
      },
      "execution_count": null,
      "outputs": []
    },
    {
      "cell_type": "code",
      "source": [
        "# Create a scatter plot of Drug Effectiveness vs Side Effects\n",
        "\n",
        "\n",
        "# Style the plot (xlable, ylabel, title)\n",
        "\n",
        "\n",
        "# Display the plot\n",
        "\n"
      ],
      "metadata": {
        "id": "P1Tp4g0jWZUf"
      },
      "execution_count": null,
      "outputs": []
    },
    {
      "cell_type": "markdown",
      "source": [
        "## 1.4 Creating histograms\n"
      ],
      "metadata": {
        "id": "Y-UuB2MmWftH"
      }
    },
    {
      "cell_type": "markdown",
      "source": [
        "Histograms in data visualization are used to represent the distribution of a continuous variable. They consist of a series of bars that show the frequency of data within certain ranges. Histograms are important because they allow us to easily identify patterns, trends, and outliers in our data. To create a histogram, we first need to determine the number of bins (or intervals) to divide our data into. We then plot the bars, where the height of each bar represents the frequency of data points within that bin. Finally, we add labels and titles to make the histogram more informative."
      ],
      "metadata": {
        "id": "v_bfBpGKf_d_"
      }
    },
    {
      "cell_type": "code",
      "source": [
        "# Load the dataset\n",
        "data = pd.read_csv(\"https://afterwork.ai/ds/e/healthcare_and_pharmaceuticals_z7psk.csv\")\n",
        "\n",
        "# Preview the dataset\n",
        "data.head()"
      ],
      "metadata": {
        "id": "GVJrysodzjdn"
      },
      "execution_count": null,
      "outputs": []
    },
    {
      "cell_type": "code",
      "source": [
        "# Create the histogram\n",
        "plt.hist(data['Age'], bins=10, color='skyblue', edgecolor='black')\n",
        "\n",
        "# Style the plot\n",
        "plt.xlabel('Age')\n",
        "plt.ylabel('Frequency')\n",
        "plt.title('Distribution of Patient Ages')\n",
        "plt.show()"
      ],
      "metadata": {
        "id": "0Z6z6OSeWftk"
      },
      "execution_count": null,
      "outputs": []
    },
    {
      "cell_type": "markdown",
      "source": [
        "### Challenge"
      ],
      "metadata": {
        "id": "QoyP4MgpWftl"
      }
    },
    {
      "cell_type": "markdown",
      "source": [
        "\n",
        "Create a histogram to visualize the distribution of patient ages in the healthcare dataset from the URL: https://afterwork.ai/ds/ch/healthcare_and_pharmaceuticals_mrhw.csv."
      ],
      "metadata": {
        "id": "f-o6uQmogQEC"
      }
    },
    {
      "cell_type": "code",
      "source": [
        "# Load the dataset\n",
        "data = pd.read_csv(\"https://afterwork.ai/ds/ch/healthcare_and_pharmaceuticals_mrhw.csv\")\n",
        "data.head()"
      ],
      "metadata": {
        "id": "REm8RUsftwsz"
      },
      "execution_count": null,
      "outputs": []
    },
    {
      "cell_type": "code",
      "source": [
        "# Create the histogram\n",
        "\n",
        "\n",
        "# Add labels and title (xlabel, ylabel, title)\n",
        "\n",
        "\n",
        "\n",
        "# Display the histogram\n"
      ],
      "metadata": {
        "id": "XwikMcTDWftl"
      },
      "execution_count": null,
      "outputs": []
    },
    {
      "cell_type": "markdown",
      "source": [
        "## 1.5 Creating pie charts\n"
      ],
      "metadata": {
        "id": "ucjeTdNVWlV3"
      }
    },
    {
      "cell_type": "markdown",
      "source": [
        "Pie charts in data visualization are circular statistical graphics that are divided into slices to illustrate numerical proportions. We use pie charts when we want to show the relative sizes of different categories in a dataset. For example, we can use a pie chart to visualize the distribution of different types of diseases in a population."
      ],
      "metadata": {
        "id": "CrbCcnx0g2kc"
      }
    },
    {
      "cell_type": "code",
      "source": [
        "# Import the dataset\n",
        "data = pd.read_csv(\"https://afterwork.ai/ds/e/healthcare_and_pharmaceuticals_qwmtd.csv\")\n",
        "\n",
        "# Preview the dataset\n",
        "data.head()"
      ],
      "metadata": {
        "id": "hBydeggCzoXn"
      },
      "execution_count": null,
      "outputs": []
    },
    {
      "cell_type": "code",
      "source": [
        "# Create the pie chart\n",
        "plt.figure(figsize=(8,8))\n",
        "plt.pie(data['Quantity'], labels=data['Medication'], autopct='%1.1f%%', startangle=140)\n",
        "\n",
        "# Style the plot\n",
        "plt.title(\"Distribution of Medications\")\n",
        "plt.legend(loc=\"upper right\")\n",
        "plt.axis('equal')\n",
        "plt.show()"
      ],
      "metadata": {
        "id": "vZe166kdWlV4"
      },
      "execution_count": null,
      "outputs": []
    },
    {
      "cell_type": "markdown",
      "source": [
        "### Challenge"
      ],
      "metadata": {
        "id": "OpQDQOZkWlV4"
      }
    },
    {
      "cell_type": "markdown",
      "source": [
        "\n",
        "Create a pie chart to visualize the distribution of medication quantities in the dataset from https://afterwork.ai/ds/ch/healthcare_and_pharmaceuticals_rsej.csv."
      ],
      "metadata": {
        "id": "Lku-nPOWhSLA"
      }
    },
    {
      "cell_type": "code",
      "source": [
        "# Load the dataset\n",
        "data = pd.read_csv(\"https://afterwork.ai/ds/ch/healthcare_and_pharmaceuticals_rsej.csv\")\n",
        "data.head()"
      ],
      "metadata": {
        "id": "WxrndYCUuZHs"
      },
      "execution_count": null,
      "outputs": []
    },
    {
      "cell_type": "code",
      "source": [
        "# Write your code here\n",
        "\n",
        "# Set the figure size to (8,8)\n",
        "\n",
        "\n",
        "# Create the plot (set startangle to 1.40)\n",
        "\n",
        "\n",
        "# Style the chart (title, legend, axix)\n",
        "\n",
        "\n",
        "\n",
        "# Display the chart\n",
        "\n"
      ],
      "metadata": {
        "id": "7h_6Z_BZWlV5"
      },
      "execution_count": null,
      "outputs": []
    },
    {
      "cell_type": "markdown",
      "source": [
        "# 2. Customizing plots"
      ],
      "metadata": {
        "id": "RQ_V_ItOW1fo"
      }
    },
    {
      "cell_type": "markdown",
      "source": [
        "## 2.1 Setting the figure size\n"
      ],
      "metadata": {
        "id": "izD-nVomW1gK"
      }
    },
    {
      "cell_type": "markdown",
      "source": [
        "Setting the figure size allows us to control the dimensions of our charts, ensuring they are displayed in the desired size. This is important for creating visually appealing and informative data visualizations. We can adjust the figure size based on the specific requirements of our project, such as fitting the chart into a report or presentation slide, or optimizing it for viewing on different devices.\n",
        "\n"
      ],
      "metadata": {
        "id": "mCH7hdZ4k2JK"
      }
    },
    {
      "cell_type": "code",
      "source": [
        "# Load the dataset\n",
        "data = pd.read_csv(\"https://afterwork.ai/ds/e/healthcare_and_pharmaceuticals_lna9f.csv\")\n",
        "\n",
        "# Preview the dataset\n",
        "data.head()"
      ],
      "metadata": {
        "id": "rc32eo3xzrUZ"
      },
      "execution_count": null,
      "outputs": []
    },
    {
      "cell_type": "code",
      "source": [
        "# Set the figure size\n",
        "plt.figure(figsize=(8, 6))\n",
        "\n",
        "# Create the scatter plot\n",
        "plt.scatter(data['Age'], data['Dosage'])\n",
        "\n",
        "# Style the plot\n",
        "plt.xlabel('Age')\n",
        "plt.ylabel('Dosage')\n",
        "plt.title('Age vs Dosage Scatterplot')\n",
        "plt.show()"
      ],
      "metadata": {
        "id": "wCAyUYGcW1gK"
      },
      "execution_count": null,
      "outputs": []
    },
    {
      "cell_type": "markdown",
      "source": [
        "### Challenge"
      ],
      "metadata": {
        "id": "q4FvJvyrW1gK"
      }
    },
    {
      "cell_type": "markdown",
      "source": [
        "Create a bar chart using the dataset from the URL: https://afterwork.ai/ds/ch/healthcare_and_pharmaceuticals_bp5x.csv. Set the figure size to 8 inches in width and 6 inches in height. Remember to label the x-axis with 'Medication' and the y-axis with 'Price'."
      ],
      "metadata": {
        "id": "f9gl3vy-tP-Q"
      }
    },
    {
      "cell_type": "code",
      "source": [
        "# Load the dataset\n",
        "data = pd.read_csv(\"https://afterwork.ai/ds/ch/healthcare_and_pharmaceuticals_bp5x.csv\")\n",
        "data.head()"
      ],
      "metadata": {
        "id": "X3LmSnkQvNto"
      },
      "execution_count": null,
      "outputs": []
    },
    {
      "cell_type": "code",
      "source": [
        "# Set the figure size\n",
        "\n",
        "\n",
        "# Create a bar chart (Medication vs. Price)\n",
        "\n",
        "\n",
        "# Style the plot\n",
        "plt.xlabel('Medication')\n",
        "plt.ylabel('Price')\n",
        "plt.title('Medication vs Price Bar Chart')\n",
        "plt.show()"
      ],
      "metadata": {
        "id": "u3wUGbQlW1gK"
      },
      "execution_count": null,
      "outputs": []
    },
    {
      "cell_type": "markdown",
      "source": [
        "## 2.2 Customizing colors and markers\n"
      ],
      "metadata": {
        "id": "MCNRSn_aW1gH"
      }
    },
    {
      "cell_type": "markdown",
      "source": [
        "Customizing colors and markers allows us to personalize the appearance of our plots. This helps us to make our visualizations more visually appealing and easier to interpret.\n",
        "\n"
      ],
      "metadata": {
        "id": "BU0Jzi4Qn0yw"
      }
    },
    {
      "cell_type": "code",
      "source": [
        "# Load the dataset\n",
        "data = pd.read_csv(\"https://afterwork.ai/ds/e/healthcare_and_pharmaceuticals_o9c45.csv\")\n",
        "\n",
        "# Preview the dataset\n",
        "data.head()"
      ],
      "metadata": {
        "id": "e6dv5_80ztqq"
      },
      "execution_count": null,
      "outputs": []
    },
    {
      "cell_type": "code",
      "source": [
        "# Create a scatter plot with customized colors and markers\n",
        "plt.scatter(data['Age'], data['Diagnosis'], c='red', marker='^')\n",
        "\n",
        "# Style the plot\n",
        "plt.xlabel('Age')\n",
        "plt.ylabel('Diagnosis')\n",
        "plt.title('Patient Age vs Diagnosis')\n",
        "plt.show()"
      ],
      "metadata": {
        "id": "vFs1GH_fW1gI"
      },
      "execution_count": null,
      "outputs": []
    },
    {
      "cell_type": "markdown",
      "source": [
        "### Challenge"
      ],
      "metadata": {
        "id": "eTwd9qCyW1gI"
      }
    },
    {
      "cell_type": "markdown",
      "source": [
        "Create a Python program that visualizes the 'Color' and 'Shape' attributes of the healthcare and pharmaceutical dataset from the URL: https://afterwork.ai/ds/ch/healthcare_and_pharmaceuticals_g5cn.csv using Matplotlib."
      ],
      "metadata": {
        "id": "Q4_z4cMHnt7f"
      }
    },
    {
      "cell_type": "code",
      "source": [
        "# Load the dataset\n",
        "data = pd.read_csv(\"https://afterwork.ai/ds/ch/healthcare_and_pharmaceuticals_g5cn.csv\")\n",
        "data.head()"
      ],
      "metadata": {
        "id": "kQsgIzoEve0K"
      },
      "execution_count": null,
      "outputs": []
    },
    {
      "cell_type": "code",
      "source": [
        "# Create a scatter plot with customized colors and markers (set c and marker parameter values to 'blue' and 'o')\n",
        "\n",
        "\n",
        "# Style the chart\n",
        "plt.xlabel('Color')\n",
        "plt.ylabel('Shape')\n",
        "plt.title('Color vs Shape in Healthcare and Pharmaceuticals Dataset')\n",
        "plt.show()"
      ],
      "metadata": {
        "id": "Ur7aoVNFW1gJ"
      },
      "execution_count": null,
      "outputs": []
    },
    {
      "cell_type": "markdown",
      "source": [
        "## 2.3 Customizing annotations"
      ],
      "metadata": {
        "id": "0k7WLhU4W1gJ"
      }
    },
    {
      "cell_type": "markdown",
      "source": [
        "Customizing annotations based on data points allows us to add additional information to our charts by highlighting specific data points with text or shapes. This helps to draw attention to important data points and provide context to the viewer.\n",
        "\n"
      ],
      "metadata": {
        "id": "VEjR8SY6t-fw"
      }
    },
    {
      "cell_type": "code",
      "source": [
        "# Load the dataset\n",
        "data = pd.read_csv(\"https://afterwork.ai/ds/e/healthcare_and_pharmaceuticals_ezsug.csv\")\n",
        "\n",
        "# Preview the dataset\n",
        "data.head()"
      ],
      "metadata": {
        "id": "ZdzgWJD4zxsT"
      },
      "execution_count": null,
      "outputs": []
    },
    {
      "cell_type": "code",
      "source": [
        "# Displayig the range\n",
        "data_range = range(len(data))\n",
        "data_range"
      ],
      "metadata": {
        "id": "hu12PQbgv04m"
      },
      "execution_count": null,
      "outputs": []
    },
    {
      "cell_type": "code",
      "source": [
        "# Create a scatter plot\n",
        "plt.scatter(data['Age'], data['Dosage'])\n",
        "\n",
        "# Add annotations for specific data points\n",
        "for i in range(len(data)):\n",
        "    # Annotate: Text annotation, cordinates, coordinates for annotation, the coordinate system, location of annocation, ha = orientation, fontsize\n",
        "    plt.annotate(data['Medication'][i], (data['Age'][i], data['Dosage'][i]), textcoords=\"offset points\", xytext=(0,10), ha='center', fontsize=9)\n",
        "\n",
        "# Style the plot\n",
        "plt.xlabel('Age')\n",
        "plt.ylabel('Dosage')\n",
        "plt.title('Dosage vs Age for Medication')\n",
        "plt.show()"
      ],
      "metadata": {
        "id": "SQvT-AdGW1gJ"
      },
      "execution_count": null,
      "outputs": []
    },
    {
      "cell_type": "markdown",
      "source": [
        "### Challenge"
      ],
      "metadata": {
        "id": "35xW3VDAW1gJ"
      }
    },
    {
      "cell_type": "markdown",
      "source": [
        "Create a bar chart using the dataset from the URL: https://afterwork.ai/ds/ch/healthcare_and_pharmaceuticals_swak.csv. Customize the annotations to highlight the Dosage of each medication. Remember to use the 'Dosage' data points to add additional information to the chart."
      ],
      "metadata": {
        "id": "cUhl7qGxrSf-"
      }
    },
    {
      "cell_type": "code",
      "source": [
        "# Load the dataset\n",
        "data = pd.read_csv(\"https://afterwork.ai/ds/ch/healthcare_and_pharmaceuticals_swak.csv\")\n",
        "data.head()"
      ],
      "metadata": {
        "id": "Z9m1nUOHxxsZ"
      },
      "execution_count": null,
      "outputs": []
    },
    {
      "cell_type": "code",
      "source": [
        "# Create a bar chart\n",
        "plt.bar(data['Medication'], data['Dosage'])\n",
        "\n",
        "# Add annotations for specific data points\n",
        "\n",
        "\n",
        "# Style the plot\n",
        "plt.xlabel('Medication')\n",
        "plt.ylabel('Dosage')\n",
        "plt.title('Dosage for each Medication')\n",
        "plt.xticks(rotation=45)\n",
        "\n",
        "# Display the plot\n",
        "plt.show()"
      ],
      "metadata": {
        "id": "djC0W7_4W1gK"
      },
      "execution_count": null,
      "outputs": []
    },
    {
      "cell_type": "markdown",
      "source": [
        "## 2.4 Customizing Color Palettes"
      ],
      "metadata": {
        "id": "7zlY5G2FpHJU"
      }
    },
    {
      "cell_type": "markdown",
      "source": [
        "Customizing color palettes in data visualization allows us to choose specific colors for our charts and graphs. This helps us convey information more effectively, make our visualizations more visually appealing, and ensure color consistency across different visualizations.\n",
        "\n"
      ],
      "metadata": {
        "id": "LwYgoShvpRg1"
      }
    },
    {
      "cell_type": "code",
      "source": [
        "# Load the dataset\n",
        "data = pd.read_csv(\"https://afterwork.ai/ds/e/healthcare_and_pharmaceuticals_emur1.csv\")\n",
        "\n",
        "# Preview the dataset\n",
        "data.head()"
      ],
      "metadata": {
        "id": "GrKHJRS1z1Lz"
      },
      "execution_count": null,
      "outputs": []
    },
    {
      "cell_type": "code",
      "source": [
        "# Customizing color palette\n",
        "colors = ['#FF6347', '#1E90FF', '#32CD32', '#FFD700', '#BA55D3', '#FFA07A']\n",
        "\n",
        "# Plotting a bar chart with customized colors\n",
        "plt.figure(figsize=(10, 6))\n",
        "plt.bar(data['Name'], data['Age'], color=colors)\n",
        "\n",
        "# Style the plot\n",
        "plt.xlabel('Patient Name')\n",
        "plt.ylabel('Age')\n",
        "plt.title('Age Distribution of Patients')\n",
        "plt.xticks(rotation=45)\n",
        "plt.show()"
      ],
      "metadata": {
        "id": "jNI302iipHJW"
      },
      "execution_count": null,
      "outputs": []
    },
    {
      "cell_type": "markdown",
      "source": [
        "### Challenge"
      ],
      "metadata": {
        "id": "3jF3miZRpHJX"
      }
    },
    {
      "cell_type": "markdown",
      "source": [
        "Create a bar chart using the dataset from the URL: https://afterwork.ai/ds/ch/healthcare_and_pharmaceuticals_7jtz.csv. Customize the color palette of the chart to represent each medication with a different color."
      ],
      "metadata": {
        "id": "jDhBR1I6pkU1"
      }
    },
    {
      "cell_type": "code",
      "source": [
        "# Load the dataset\n",
        "data = pd.read_csv(\"https://afterwork.ai/ds/ch/healthcare_and_pharmaceuticals_7jtz.csv\")\n",
        "data.head()"
      ],
      "metadata": {
        "id": "fIkTxFkryF1F"
      },
      "execution_count": null,
      "outputs": []
    },
    {
      "cell_type": "code",
      "source": [
        "# Customizing color palette ('#FF6347', '#1E90FF', '#32CD32', '#FFD700', '#BA55D3', '#FFA07A')\n",
        "# Get hex color codes here: https://www.color-hex.com\n",
        "\n",
        "\n",
        "# Set the figure size\n",
        "plt.figure(figsize=(10, 6))\n",
        "\n",
        "# Create a bar chart with customized colors\n",
        "plt.bar(data['Medication'], data['Quantity'], color=colors)\n",
        "\n",
        "# Customize the plot\n",
        "plt.xlabel('Medication')\n",
        "plt.ylabel('Quantity')\n",
        "plt.title('Quantity of Medication Prescribed')\n",
        "plt.xticks(rotation=45)\n",
        "\n",
        "# Display the plot\n",
        "plt.show()"
      ],
      "metadata": {
        "id": "phxtCMc3pHJY"
      },
      "execution_count": null,
      "outputs": []
    },
    {
      "cell_type": "markdown",
      "source": [
        "## 2.5 Styling legends"
      ],
      "metadata": {
        "id": "rNHm6GBBqFjM"
      }
    },
    {
      "cell_type": "markdown",
      "source": [
        "Styling legends in data visualization allows us to customize the appearance of the legend in our charts. Legends are essential for providing context to the data being displayed and making it easier for viewers to interpret the information. By styling legends, we can make them more visually appealing and easier to understand, enhancing the overall presentation of our charts.\n",
        "\n"
      ],
      "metadata": {
        "id": "m0YseMBdqFjr"
      }
    },
    {
      "cell_type": "code",
      "source": [
        "# Load the dataset\n",
        "data = pd.read_csv(\"https://afterwork.ai/ds/e/healthcare_and_pharmaceuticals_dszgy.csv\")\n",
        "\n",
        "# Preview the dataset\n",
        "data.head()"
      ],
      "metadata": {
        "id": "Z4heISypz4ud"
      },
      "execution_count": null,
      "outputs": []
    },
    {
      "cell_type": "code",
      "source": [
        "# Create a bar chart\n",
        "plt.bar(data['Name'], data['Age'], label='Age')\n",
        "\n",
        "# Customize the legend\n",
        "plt.legend(title='Patient Information', title_fontsize='large', loc='upper left', shadow=True)\n",
        "\n",
        "# Style the plot\n",
        "plt.xticks(rotation=45)\n",
        "plt.show()"
      ],
      "metadata": {
        "id": "W01bM1LIqFjr"
      },
      "execution_count": null,
      "outputs": []
    },
    {
      "cell_type": "markdown",
      "source": [
        "### Challenge"
      ],
      "metadata": {
        "id": "6tg5WF7CqFjs"
      }
    },
    {
      "cell_type": "markdown",
      "source": [
        "Create a bar chart visualization using the dataset from the URL: https://afterwork.ai/ds/ch/healthcare_and_pharmaceuticals_0ps9.csv. The chart should display the Frequency of each Medication."
      ],
      "metadata": {
        "id": "trxivmcQqFjt"
      }
    },
    {
      "cell_type": "code",
      "source": [
        "# Load the data\n",
        "data = pd.read_csv(\"https://afterwork.ai/ds/ch/healthcare_and_pharmaceuticals_0ps9.csv\")\n",
        "data.head()"
      ],
      "metadata": {
        "id": "mPXm_Qv4yq_p"
      },
      "execution_count": null,
      "outputs": []
    },
    {
      "cell_type": "code",
      "source": [
        "# Create a bar chart (Medication vs. Frequency) and set the label parameter\n",
        "\n",
        "\n",
        "# Customize the legend (title: Medication Frequency, title font size: large, location: upper left, shadow: true)\n",
        "plt.legend(title='Medication Frequency', title_fontsize='large', loc='upper left', shadow=True)\n",
        "\n",
        "# Style the plot\n",
        "plt.xticks(rotation=45)\n",
        "\n",
        "# Display the plot\n",
        "plt.show()"
      ],
      "metadata": {
        "id": "DcMTcIGQqFjt"
      },
      "execution_count": null,
      "outputs": []
    },
    {
      "cell_type": "markdown",
      "source": [
        "# 3. Layouts"
      ],
      "metadata": {
        "id": "fHzzA4K5X_gy"
      }
    },
    {
      "cell_type": "markdown",
      "source": [
        "## 3.1 Arranging subplots in a grid layout"
      ],
      "metadata": {
        "id": "GRYMe3BAX_hP"
      }
    },
    {
      "cell_type": "markdown",
      "source": [
        "Arranging subplots in a grid layout allows us to display multiple plots in a structured and organized manner within a single figure. This helps us compare different visualizations side by side and analyze relationships between them more effectively.\n",
        "\n"
      ],
      "metadata": {
        "id": "GkYXGAYPunsE"
      }
    },
    {
      "cell_type": "code",
      "source": [
        "# Load the dataset\n",
        "data = pd.read_csv(\"https://afterwork.ai/ds/e/healthcare_and_pharmaceuticals_hg05w.csv\")\n",
        "\n",
        "# Preview the dataset\n",
        "data.head()"
      ],
      "metadata": {
        "id": "rBkY2xOlz9SM"
      },
      "execution_count": null,
      "outputs": []
    },
    {
      "cell_type": "code",
      "source": [
        "# Create subplots in a 1x2 grid layout\n",
        "fig, axs = plt.subplots(1, 2, figsize=(10, 5))\n",
        "\n",
        "# Plot Age distribution\n",
        "axs[0].hist(data['Age'], bins=10, color='skyblue')\n",
        "axs[0].set_title('Age Distribution')\n",
        "\n",
        "# Plot Gender distribution\n",
        "data['Gender'].value_counts().plot(kind='bar', ax=axs[1], color='salmon')\n",
        "axs[1].set_title('Gender Distribution')\n",
        "\n",
        "plt.tight_layout()\n",
        "plt.show()"
      ],
      "metadata": {
        "id": "XIoUpwaaX_hP"
      },
      "execution_count": null,
      "outputs": []
    },
    {
      "cell_type": "markdown",
      "source": [
        "### Challenge"
      ],
      "metadata": {
        "id": "YNFvabVqX_hP"
      }
    },
    {
      "cell_type": "markdown",
      "source": [
        "Create a grid layout of subplots to display the Quantity and Price of different medications from the dataset located at https://afterwork.ai/ds/ch/healthcare_and_pharmaceuticals_aysk.csv. Ensure that the Quantity is displayed in one subplot and the Price is displayed in another subplot. Compare the visualizations side by side to analyze any relationships between the Quantity and Price of the medications."
      ],
      "metadata": {
        "id": "bQHkenOFvdbm"
      }
    },
    {
      "cell_type": "code",
      "source": [
        "# Load the dataset\n",
        "data = pd.read_csv(\"https://afterwork.ai/ds/ch/healthcare_and_pharmaceuticals_aysk.csv\")\n",
        "\n",
        "# Create subplots in a 1x2 grid layout\n",
        "\n",
        "\n",
        "# Plot Quantity distribution\n",
        "\n",
        "\n",
        "# Plot Price distribution\n"
      ],
      "metadata": {
        "id": "rilhTO_vX_hP"
      },
      "execution_count": null,
      "outputs": []
    },
    {
      "cell_type": "markdown",
      "source": [
        "## 3.2 Shared axes"
      ],
      "metadata": {
        "id": "-4dmTaiW5tcy"
      }
    },
    {
      "cell_type": "markdown",
      "source": [
        "Sharing axes in data visualization refers to using the same x or y axis across multiple plots in order to compare data more easily. This concept is important because it allows us to visually compare different datasets on the same scale, making it easier to identify patterns and trends. To share axes in Matplotlib, we can use the sharex or sharey parameters when creating subplots. By setting these parameters to True, we can ensure that all subplots share the same x or y axis, respectively."
      ],
      "metadata": {
        "id": "ABLHgYyU5tcz"
      }
    },
    {
      "cell_type": "code",
      "source": [
        "# Load the dataset\n",
        "data = pd.read_csv(\"https://afterwork.ai/ds/e/healthcare_and_pharmaceuticals_t5z2p.csv\")\n",
        "\n",
        "# Preview the dataset\n",
        "data.head()"
      ],
      "metadata": {
        "id": "Q7Cz094S5tc0"
      },
      "execution_count": null,
      "outputs": []
    },
    {
      "cell_type": "code",
      "source": [
        "# Create subplots with shared x-axis\n",
        "fig, axs = plt.subplots(2, 1, figsize=(6, 6), sharex=True)\n",
        "\n",
        "# Plot Age vs Insurance Coverage\n",
        "axs[0].scatter(data['Age'], data['Insurance Coverage'])\n",
        "axs[0].set_title('Age vs Insurance Coverage')\n",
        "\n",
        "axs[0].set_ylabel('Insurance Coverage')\n",
        "\n",
        "# Plot Age vs Medication\n",
        "axs[1].scatter(data['Age'], data['Medication'])\n",
        "axs[1].set_title('Age vs Medication')\n",
        "axs[1].set_xlabel('Age')\n",
        "axs[1].set_ylabel('Medication')\n",
        "\n",
        "plt.tight_layout()\n",
        "plt.show()"
      ],
      "metadata": {
        "id": "EDSs2SFi5tc1"
      },
      "execution_count": null,
      "outputs": []
    },
    {
      "cell_type": "markdown",
      "source": [
        "### Challenge"
      ],
      "metadata": {
        "id": "iXdflBFK5tc1"
      }
    },
    {
      "cell_type": "markdown",
      "source": [
        "Create a Python program that reads in the dataset from the URL: https://afterwork.ai/ds/ch/healthcare_and_pharmaceuticals_jbao.csv and creates two subplots to visualize the Quantity and Price of different medications."
      ],
      "metadata": {
        "id": "uVwpBt1P5tc2"
      }
    },
    {
      "cell_type": "code",
      "source": [
        "# Write your code here\n"
      ],
      "metadata": {
        "id": "jDWNNpOM5tc2"
      },
      "execution_count": null,
      "outputs": []
    },
    {
      "cell_type": "markdown",
      "source": [
        "## 3.3 Adjusting plot spacing"
      ],
      "metadata": {
        "id": "y-IlgXv0--wl"
      }
    },
    {
      "cell_type": "markdown",
      "source": [
        "Adjusting plot spacing in Matplotlib allows us to control the distance between plots in a layout. This is important for creating visually appealing and organized data visualizations. By adjusting plot spacing, we can prevent overlapping plots and make it easier for viewers to interpret the data."
      ],
      "metadata": {
        "id": "hciJu4c_--xC"
      }
    },
    {
      "cell_type": "code",
      "source": [
        "# Load the dataset\n",
        "data = pd.read_csv(\"https://afterwork.ai/ds/e/healthcare_and_pharmaceuticals_5j7zg.csv\")\n",
        "\n",
        "# Preview the dataset\n",
        "data.head()"
      ],
      "metadata": {
        "id": "qrGLDai1--xD"
      },
      "execution_count": null,
      "outputs": []
    },
    {
      "cell_type": "code",
      "source": [
        "# Create subplots with adjusted spacing\n",
        "fig, axs = plt.subplots(2, 2, figsize=(6, 6))\n",
        "plt.subplots_adjust(wspace=0.5, hspace=0.5)\n",
        "\n",
        "# Plot data\n",
        "axs[0, 0].scatter(data['Age'], data['Diagnosis'])\n",
        "axs[0, 1].bar(data['Gender'], data['Dosage'])\n",
        "axs[1, 0].hist(data['Age'])\n",
        "axs[1, 1].pie(data['Gender'].value_counts(), labels=data['Gender'].unique())\n",
        "\n",
        "plt.show()"
      ],
      "metadata": {
        "id": "2IpHW-CL--xD"
      },
      "execution_count": null,
      "outputs": []
    },
    {
      "cell_type": "markdown",
      "source": [
        "### Challenge"
      ],
      "metadata": {
        "id": "0qS3pZjK--xE"
      }
    },
    {
      "cell_type": "markdown",
      "source": [
        "Create a data visualization using Matplotlib to plot the Quantity of each Medication from the dataset located at https://afterwork.ai/ds/ch/healthcare_and_pharmaceuticals_e6tk.csv. Adjust the plot spacing to ensure there is no overlap between the bars."
      ],
      "metadata": {
        "id": "tTpZjPUS--xE"
      }
    },
    {
      "cell_type": "code",
      "source": [
        "# Write your code here\n"
      ],
      "metadata": {
        "id": "URMzZGEu--xF"
      },
      "execution_count": null,
      "outputs": []
    }
  ]
}