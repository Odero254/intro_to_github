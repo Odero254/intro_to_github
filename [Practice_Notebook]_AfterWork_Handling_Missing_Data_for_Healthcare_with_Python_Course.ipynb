{
  "nbformat": 4,
  "nbformat_minor": 0,
  "metadata": {
    "colab": {
      "provenance": [],
      "collapsed_sections": [
        "94UeomHMdDUP",
        "P8yNPHUwdIyP",
        "zEDlEmsTdQBD",
        "Ml14KEStdaF5",
        "ywLgAG7IdaF6",
        "e6wauzZZdaF8",
        "HqwUhnAwdfPu",
        "GGN3OIbhdfPx",
        "IZJMhnvadk3J",
        "sN4rf2P5dk3K",
        "d_NF5q4Rdk3L",
        "kYaDLJVfdk3M",
        "RPnoDp3-dk3N",
        "3Sy7JRxCdvdX",
        "lFNPTfsxdvd0",
        "QmSJywANd0X0",
        "arkagoHOd0X1",
        "jWnh_QHDd0X2",
        "Ic8casFud0X3",
        "RJk-KP_zd0X4",
        "XNpuQeR3d0X5",
        "c8YEB-ged0YR",
        "vGme_jvweHRt",
        "iokF1a41eHRv",
        "eX5_yy7feHRx",
        "nSGZwkTDeHR0",
        "apmu-yQweHR1",
        "wOxJzQmdeV3P",
        "36ExvF7seV3z",
        "HP0H_oDrOmqr"
      ],
      "toc_visible": true,
      "include_colab_link": true
    },
    "kernelspec": {
      "name": "python3",
      "display_name": "Python 3"
    },
    "language_info": {
      "name": "python"
    }
  },
  "cells": [
    {
      "cell_type": "markdown",
      "metadata": {
        "id": "view-in-github",
        "colab_type": "text"
      },
      "source": [
        "<a href=\"https://colab.research.google.com/github/Odero254/intro_to_github/blob/main/%5BPractice_Notebook%5D_AfterWork_Handling_Missing_Data_for_Healthcare_with_Python_Course.ipynb\" target=\"_parent\"><img src=\"https://colab.research.google.com/assets/colab-badge.svg\" alt=\"Open In Colab\"/></a>"
      ]
    },
    {
      "cell_type": "markdown",
      "source": [
        "# [Practice Notebook] AfterWork: Handling Missing Data for Healthcare with Python Course"
      ],
      "metadata": {
        "id": "7vQ7vi4LcwZr"
      }
    },
    {
      "cell_type": "markdown",
      "source": [
        "# 1. Finding Missing Data"
      ],
      "metadata": {
        "id": "94UeomHMdDUP"
      }
    },
    {
      "cell_type": "code",
      "source": [
        "# Import the Pandas library\n",
        "import pandas as pd"
      ],
      "metadata": {
        "id": "fzixLX31z378"
      },
      "execution_count": null,
      "outputs": []
    },
    {
      "cell_type": "markdown",
      "source": [
        "## 1.1 Finding Missing Values"
      ],
      "metadata": {
        "id": "P8yNPHUwdIyP"
      }
    },
    {
      "cell_type": "markdown",
      "source": [
        "Handling missing values in a dataset is crucial for accurate analysis and modeling. Missing values can skew results and lead to incorrect conclusions. We need to identify missing values, decide how to handle them (e.g. impute or remove), and then proceed with our analysis.\n",
        "\n"
      ],
      "metadata": {
        "id": "0MvB37O-f3TE"
      }
    },
    {
      "cell_type": "code",
      "execution_count": null,
      "metadata": {
        "id": "jil1z_kfb8yH"
      },
      "outputs": [],
      "source": [
        "# Load the dataset\n",
        "df = pd.read_csv(\"https://afterwork.ai/ds/e/healthcare_and_pharmaceuticals_uotn.csv\")\n",
        "\n",
        "# Check for missing values\n",
        "missing_values = df.isnull().sum()\n",
        "missing_values"
      ]
    },
    {
      "cell_type": "markdown",
      "source": [
        "**Explanation**: We load a dataset from a URL using pd.read_csv() and store it in a DataFrame called df. We check for missing values in the dataset by using df.isnull().sum() and store the count of missing values in a variable called missing_values. We then print out the missing values count."
      ],
      "metadata": {
        "id": "Ll-fId_Cf9tG"
      }
    },
    {
      "cell_type": "markdown",
      "source": [
        "### <font color=\"green\">Challenge</font>"
      ],
      "metadata": {
        "id": "zEDlEmsTdQBD"
      }
    },
    {
      "cell_type": "markdown",
      "source": [
        "Identify missing values in the healthcare and pharmaceuticals dataset from https://afterwork.ai/ds/ch/healthcare_and_pharmaceuticals_gnsc.csv."
      ],
      "metadata": {
        "id": "QuJ9-0MngGW8"
      }
    },
    {
      "cell_type": "code",
      "source": [
        "# Write your code here\n"
      ],
      "metadata": {
        "id": "S6ohq5_qdRlm"
      },
      "execution_count": null,
      "outputs": []
    },
    {
      "cell_type": "markdown",
      "source": [
        "# 2. Dropping Missing Data"
      ],
      "metadata": {
        "id": "Ml14KEStdaF5"
      }
    },
    {
      "cell_type": "markdown",
      "source": [
        "## 2.1 Drop Rows With Any Missing Values"
      ],
      "metadata": {
        "id": "ywLgAG7IdaF6"
      }
    },
    {
      "cell_type": "markdown",
      "source": [
        "Dropping rows with any missing values in Pandas allows us to remove observations with missing data from our dataset. This is important because missing data can lead to biased or inaccurate analysis results. To drop rows with any missing values, we can use the dropna() method with the how='any' parameter.\n"
      ],
      "metadata": {
        "id": "N_jWkP5tgeIE"
      }
    },
    {
      "cell_type": "code",
      "execution_count": null,
      "metadata": {
        "id": "zOT1N6-QdaF7"
      },
      "outputs": [],
      "source": [
        "# Load the dataset\n",
        "df = pd.read_csv(\"https://afterwork.ai/ds/e/healthcare_and_pharmaceuticals_2zbd1.csv\")\n",
        "\n",
        "# Check for missing values\n",
        "missing_values = df.isnull().sum()\n",
        "missing_values"
      ]
    },
    {
      "cell_type": "code",
      "source": [
        "# Drop rows with any missing values\n",
        "df.dropna(how='any', inplace=True)\n",
        "\n",
        "# Check for missing values\n",
        "missing_values = df.isnull().sum()\n",
        "missing_values"
      ],
      "metadata": {
        "id": "xmR7SV3IhGLe"
      },
      "execution_count": null,
      "outputs": []
    },
    {
      "cell_type": "markdown",
      "source": [
        "**Explanation**: We load a dataset from a URL into a DataFrame using pd.read_csv(). Next, we drop rows with any missing values from the DataFrame using the dropna() method with the how='any' parameter. Finally, we print out the updated dataset."
      ],
      "metadata": {
        "id": "JTUsZ25Xgq7S"
      }
    },
    {
      "cell_type": "markdown",
      "source": [
        "### <font color=\"green\">Challenge</font>"
      ],
      "metadata": {
        "id": "e6wauzZZdaF8"
      }
    },
    {
      "cell_type": "markdown",
      "source": [
        "Drop rows with any missing values in the healthcare and pharmaceuticals dataset from https://afterwork.ai/ds/ch/healthcare_and_pharmaceuticals_12z8.csv using Pandas."
      ],
      "metadata": {
        "id": "wpCIrAL9gw2a"
      }
    },
    {
      "cell_type": "code",
      "source": [
        "# Write your code here\n"
      ],
      "metadata": {
        "id": "hu58CiKadaF9"
      },
      "execution_count": null,
      "outputs": []
    },
    {
      "cell_type": "markdown",
      "source": [
        "## 2.2 Dropping Columns With Any Missing Values"
      ],
      "metadata": {
        "id": "HqwUhnAwdfPu"
      }
    },
    {
      "cell_type": "markdown",
      "source": [
        "Dropping columns with missing values in a dataset allows us to remove features that have a significant amount of missing data. This can help improve the quality of our analysis and prevent biased results.\n",
        "\n"
      ],
      "metadata": {
        "id": "8cnu2hUnhO_L"
      }
    },
    {
      "cell_type": "code",
      "execution_count": null,
      "metadata": {
        "id": "JGGF11dRdfPw"
      },
      "outputs": [],
      "source": [
        "# Load the dataset\n",
        "df = pd.read_csv(\"https://afterwork.ai/ds/e/healthcare_and_pharmaceuticals_0fyxm.csv\")\n",
        "\n",
        "# Check for missing values\n",
        "missing_values = df.isnull().sum()\n",
        "missing_values"
      ]
    },
    {
      "cell_type": "code",
      "source": [
        "# Drop columns with missing values\n",
        "df.dropna(axis=1, inplace=True)\n",
        "\n",
        "# Check for missing values\n",
        "missing_values = df.isnull().sum()\n",
        "missing_values"
      ],
      "metadata": {
        "id": "dQWHy8mThVmG"
      },
      "execution_count": null,
      "outputs": []
    },
    {
      "cell_type": "markdown",
      "source": [
        "### <font color=\"green\">Challenge</font>"
      ],
      "metadata": {
        "id": "GGN3OIbhdfPx"
      }
    },
    {
      "cell_type": "markdown",
      "source": [
        "Remove the 'Duration' column from the dataset located at https://afterwork.ai/ds/ch/healthcare_and_pharmaceuticals_zgjs.csv. Dropping columns with missing values in a dataset allows us to remove features that have a significant amount of missing data."
      ],
      "metadata": {
        "id": "rkUGL3AXhfdl"
      }
    },
    {
      "cell_type": "code",
      "source": [
        "# Write your code here\n"
      ],
      "metadata": {
        "id": "7gqQqx3OdfPy"
      },
      "execution_count": null,
      "outputs": []
    },
    {
      "cell_type": "code",
      "source": [
        "# Write your code here\n"
      ],
      "metadata": {
        "id": "A0uK2JYlhnF5"
      },
      "execution_count": null,
      "outputs": []
    },
    {
      "cell_type": "markdown",
      "source": [
        "# 3. Replacing Missing Values"
      ],
      "metadata": {
        "id": "IZJMhnvadk3J"
      }
    },
    {
      "cell_type": "markdown",
      "source": [
        "## 3.1 Arbitrary Value Imputation"
      ],
      "metadata": {
        "id": "sN4rf2P5dk3K"
      }
    },
    {
      "cell_type": "markdown",
      "source": [
        "Arbitrary value imputation is a technique used to replace missing values in a dataset with a specific value that is chosen arbitrarily. This can be a constant value, the mean, median, or mode of the column, or any other value that makes sense in the context of the data.\n",
        "\n"
      ],
      "metadata": {
        "id": "A-858WqEh-9V"
      }
    },
    {
      "cell_type": "code",
      "execution_count": null,
      "metadata": {
        "id": "Z0LDqt_Vdk3L"
      },
      "outputs": [],
      "source": [
        "# Load the dataset\n",
        "df = pd.read_csv(\"https://afterwork.ai/ds/e/healthcare_and_pharmaceuticals_c5mxu.csv\")\n",
        "\n",
        "# Check for missing values\n",
        "missing_values = df.isnull().sum()\n",
        "missing_values"
      ]
    },
    {
      "cell_type": "code",
      "source": [
        "# Replace empty values with an arbitrary value of 0\n",
        "df.fillna(0, inplace=True)\n",
        "\n",
        "# Check for missing values\n",
        "missing_values = df.isnull().sum()\n",
        "missing_values"
      ],
      "metadata": {
        "id": "11Z_u1HHiD0s"
      },
      "execution_count": null,
      "outputs": []
    },
    {
      "cell_type": "markdown",
      "source": [
        "### <font color=\"green\">Challenge</font>"
      ],
      "metadata": {
        "id": "d_NF5q4Rdk3L"
      }
    },
    {
      "cell_type": "markdown",
      "source": [
        "In the dataset from https://afterwork.ai/ds/ch/healthcare_and_pharmaceuticals_5fbg.csv, there are missing values in the 'Income' and 'Education' columns. Implement arbitrary value imputation by replacing the missing values in the 'Income' column with the mean of the column and in the 'Education' column with the mode of the column."
      ],
      "metadata": {
        "id": "XXcDGEx2iOW3"
      }
    },
    {
      "cell_type": "code",
      "source": [
        "# Write your code here\n"
      ],
      "metadata": {
        "id": "gWLr0MCLdk3M"
      },
      "execution_count": null,
      "outputs": []
    },
    {
      "cell_type": "code",
      "source": [
        "# Write your code here\n"
      ],
      "metadata": {
        "id": "0l1FL-kJiUnf"
      },
      "execution_count": null,
      "outputs": []
    },
    {
      "cell_type": "markdown",
      "source": [
        "## 3.2 Forward Fill Replacement"
      ],
      "metadata": {
        "id": "kYaDLJVfdk3M"
      }
    },
    {
      "cell_type": "markdown",
      "source": [
        "Forward fill replacement is a method used to replace missing values in a dataset with the last known value in the column. This is particularly useful when dealing with time series data where missing values can be filled in with the most recent observation.\n",
        "\n"
      ],
      "metadata": {
        "id": "gHzR7-CXjS8e"
      }
    },
    {
      "cell_type": "code",
      "execution_count": null,
      "metadata": {
        "id": "B-L05cohdk3N"
      },
      "outputs": [],
      "source": [
        "# Load the dataset\n",
        "df = pd.read_csv(\"https://afterwork.ai/ds/ch/healthcare_and_pharmaceuticals_5fbg.csv\")\n",
        "\n",
        "# Check for missing values\n",
        "missing_values = df.isnull().sum()\n",
        "missing_values"
      ]
    },
    {
      "cell_type": "code",
      "source": [
        "# Perform forward fill replacement\n",
        "df.fillna(method='ffill', inplace=True)\n",
        "\n",
        "# Check for missing values\n",
        "missing_values = df.isnull().sum()\n",
        "missing_values"
      ],
      "metadata": {
        "id": "ckw6ytMbjZvX"
      },
      "execution_count": null,
      "outputs": []
    },
    {
      "cell_type": "markdown",
      "source": [
        "**Explanation**: We use the fillna() method with the 'ffill' parameter to perform forward fill replacement on the DataFrame df. This replaces missing values with the last known value in the column."
      ],
      "metadata": {
        "id": "jM_GyjHvjl-1"
      }
    },
    {
      "cell_type": "markdown",
      "source": [
        "### <font color=\"green\">Challenge</font>"
      ],
      "metadata": {
        "id": "RPnoDp3-dk3N"
      }
    },
    {
      "cell_type": "markdown",
      "source": [
        "Replace missing values in the 'End Date' column of the healthcare and pharmaceuticals dataset from the URL: https://afterwork.ai/ds/ch/healthcare_and_pharmaceuticals_m5lg.csv using forward fill replacement. Remember to fill in missing values with the most recent observation in the column."
      ],
      "metadata": {
        "id": "zvXi-AFUjtRS"
      }
    },
    {
      "cell_type": "code",
      "source": [
        "# Write your code here\n"
      ],
      "metadata": {
        "id": "0x5yMql5dk3N"
      },
      "execution_count": null,
      "outputs": []
    },
    {
      "cell_type": "code",
      "source": [
        "# Write your code here\n"
      ],
      "metadata": {
        "id": "lasqeUeajyUa"
      },
      "execution_count": null,
      "outputs": []
    },
    {
      "cell_type": "markdown",
      "source": [
        "## 3.3 Backward Fill Replacement"
      ],
      "metadata": {
        "id": "3Sy7JRxCdvdX"
      }
    },
    {
      "cell_type": "markdown",
      "source": [
        "Backward fill replacement is a technique used to replace missing values in a dataset with the next available value in the column. This method is useful when we want to fill missing values with the most recent known value in the dataset.\n",
        "\n"
      ],
      "metadata": {
        "id": "frDnqzvuj8DS"
      }
    },
    {
      "cell_type": "code",
      "execution_count": null,
      "metadata": {
        "id": "5_uJzLEpdvd0"
      },
      "outputs": [],
      "source": [
        "# Load the dataset\n",
        "df = pd.read_csv(\"https://afterwork.ai/ds/ch/healthcare_and_pharmaceuticals_m5lg.csv\")\n",
        "\n",
        "# Check for missing values\n",
        "missing_values = df.isnull().sum()\n",
        "missing_values"
      ]
    },
    {
      "cell_type": "code",
      "source": [
        "# Perform backward fill replacement\n",
        "df.fillna(method='bfill', inplace=True)\n",
        "\n",
        "# Check for missing values\n",
        "missing_values = df.isnull().sum()\n",
        "missing_values"
      ],
      "metadata": {
        "id": "GjCntHMBkDSo"
      },
      "execution_count": null,
      "outputs": []
    },
    {
      "cell_type": "markdown",
      "source": [
        "### <font color=\"green\">Challenge</font>"
      ],
      "metadata": {
        "id": "lFNPTfsxdvd0"
      }
    },
    {
      "cell_type": "markdown",
      "source": [
        "Replace missing values in the 'Age' and 'Income' columns of the dataset from the URL: https://afterwork.ai/ds/ch/healthcare_and_pharmaceuticals_5fbg.csv using the backward fill replacement technique. Remember to fill missing values with the most recent known value in the dataset."
      ],
      "metadata": {
        "id": "6baf6irNkNYq"
      }
    },
    {
      "cell_type": "code",
      "source": [
        "# Write your code here\n"
      ],
      "metadata": {
        "id": "K5opRhuQdvd1"
      },
      "execution_count": null,
      "outputs": []
    },
    {
      "cell_type": "code",
      "source": [
        "# Write your code here\n"
      ],
      "metadata": {
        "id": "Cw41jr8NkRMC"
      },
      "execution_count": null,
      "outputs": []
    },
    {
      "cell_type": "markdown",
      "source": [
        "# 4. Mean/Median/Mode Imputation"
      ],
      "metadata": {
        "id": "QmSJywANd0X0"
      }
    },
    {
      "cell_type": "code",
      "source": [
        "from sklearn.impute import SimpleImputer"
      ],
      "metadata": {
        "id": "dWyRaOxElCqh"
      },
      "execution_count": null,
      "outputs": []
    },
    {
      "cell_type": "markdown",
      "source": [
        "## 4.1 Mean Imputation"
      ],
      "metadata": {
        "id": "arkagoHOd0X1"
      }
    },
    {
      "cell_type": "markdown",
      "source": [
        "Mean imputation is a method of handling missing data by replacing the missing values with the mean of the non-missing values in the same column. This helps to maintain the overall distribution of the data and prevent bias in the analysis.\n",
        "\n"
      ],
      "metadata": {
        "id": "8sg9rk8DlB_S"
      }
    },
    {
      "cell_type": "code",
      "execution_count": null,
      "metadata": {
        "id": "00-GgTyId0X2"
      },
      "outputs": [],
      "source": [
        "# Load the dataset\n",
        "df = pd.read_csv(\"https://afterwork.ai/ds/e/healthcare_and_pharmaceuticals_owfhv.csv\")\n",
        "\n",
        "# Check for missing values\n",
        "missing_values = df.isnull().sum()\n",
        "missing_values"
      ]
    },
    {
      "cell_type": "code",
      "source": [
        "# Initialize SimpleImputer with strategy as 'mean'\n",
        "imputer = SimpleImputer(strategy='mean')\n",
        "\n",
        "# Apply the imputer to fill missing values in the 'Age' column\n",
        "df['Age'] = imputer.fit_transform(df[['Age']])\n",
        "\n",
        "# Check for missing values\n",
        "missing_values = df.isnull().sum()\n",
        "missing_values"
      ],
      "metadata": {
        "id": "ouYrI-WxlJ-3"
      },
      "execution_count": null,
      "outputs": []
    },
    {
      "cell_type": "markdown",
      "source": [
        "### <font color=\"green\">Challenge</font>"
      ],
      "metadata": {
        "id": "jWnh_QHDd0X2"
      }
    },
    {
      "cell_type": "markdown",
      "source": [
        "Perform mean imputation using SimpleImputer on the 'Income' column of the dataset from the URL: https://afterwork.ai/ds/ch/healthcare_and_pharmaceuticals_khzi.csv. Remember to replace missing values with the mean value of the column."
      ],
      "metadata": {
        "id": "KYU-kS17m5oS"
      }
    },
    {
      "cell_type": "code",
      "source": [
        "# Write your code here\n"
      ],
      "metadata": {
        "id": "7OTv-85zd0X3"
      },
      "execution_count": null,
      "outputs": []
    },
    {
      "cell_type": "code",
      "source": [
        "# Write your code here\n"
      ],
      "metadata": {
        "id": "fPWSI0-mnHrZ"
      },
      "execution_count": null,
      "outputs": []
    },
    {
      "cell_type": "markdown",
      "source": [
        "## 4.2 Median Imputation"
      ],
      "metadata": {
        "id": "Ic8casFud0X3"
      }
    },
    {
      "cell_type": "markdown",
      "source": [
        "Median imputation using SimpleImputer is a method of filling in missing values in a dataset by replacing them with the median value of the respective column. This approach is useful when the data is not normally distributed and the median is a more representative measure of central tendency than the mean or mode.\n",
        "\n"
      ],
      "metadata": {
        "id": "uyd9CgIVnPhv"
      }
    },
    {
      "cell_type": "code",
      "execution_count": null,
      "metadata": {
        "id": "6Lz7l0xXd0X4"
      },
      "outputs": [],
      "source": [
        "# Load the dataset\n",
        "df = pd.read_csv(\"https://afterwork.ai/ds/e/healthcare_and_pharmaceuticals_owfhv.csv\")\n",
        "\n",
        "# Check for missing values\n",
        "missing_values = df.isnull().sum()\n",
        "missing_values"
      ]
    },
    {
      "cell_type": "code",
      "source": [
        "# Initialize SimpleImputer with strategy as 'median'\n",
        "imputer = SimpleImputer(strategy='median')\n",
        "\n",
        "# Apply the imputer to fill missing values in the 'Age' column\n",
        "df['Age'] = imputer.fit_transform(df[['Age']])\n",
        "\n",
        "# Check for missing values\n",
        "missing_values = df.isnull().sum()\n",
        "missing_values"
      ],
      "metadata": {
        "id": "O-oHDSFQnTYI"
      },
      "execution_count": null,
      "outputs": []
    },
    {
      "cell_type": "markdown",
      "source": [
        "### <font color=\"green\">Challenge</font>"
      ],
      "metadata": {
        "id": "RJk-KP_zd0X4"
      }
    },
    {
      "cell_type": "markdown",
      "source": [
        "Perform median imputation using SimpleImputer on the 'Income' column of the dataset from the URL: https://afterwork.ai/ds/ch/healthcare_and_pharmaceuticals_khzi.csv. Remember to replace missing values with the median value of the column."
      ],
      "metadata": {
        "id": "OS9tc2evndKA"
      }
    },
    {
      "cell_type": "code",
      "source": [
        "# Write your code here\n"
      ],
      "metadata": {
        "id": "okxiYz-Fd0X4"
      },
      "execution_count": null,
      "outputs": []
    },
    {
      "cell_type": "code",
      "source": [
        "# Write your code here\n"
      ],
      "metadata": {
        "id": "S6gAJn9enkZw"
      },
      "execution_count": null,
      "outputs": []
    },
    {
      "cell_type": "markdown",
      "source": [
        "## 4.3 Mode Imputation"
      ],
      "metadata": {
        "id": "XNpuQeR3d0X5"
      }
    },
    {
      "cell_type": "markdown",
      "source": [
        "Mode imputation using SimpleImputer based on mean/median/mode imputation is a technique used to fill in missing values in a dataset by replacing them with the most frequent value in a column. This is useful when dealing with categorical data where the mode represents the most common value in a column.\n",
        "\n"
      ],
      "metadata": {
        "id": "n_mNbNeZnrPD"
      }
    },
    {
      "cell_type": "code",
      "execution_count": null,
      "metadata": {
        "id": "p6OJnE7ed0X5"
      },
      "outputs": [],
      "source": [
        "# Load the dataset\n",
        "df = pd.read_csv(\"https://afterwork.ai/ds/e/healthcare_and_pharmaceuticals_jtrx8.csv\")\n",
        "\n",
        "# Check for missing values\n",
        "missing_values = df.isnull().sum()\n",
        "missing_values"
      ]
    },
    {
      "cell_type": "code",
      "source": [
        "# Initialize SimpleImputer with strategy as 'most_frequent' for mode imputation\n",
        "imputer = SimpleImputer(strategy='most_frequent')\n",
        "\n",
        "# Fit and transform the data with the imputer\n",
        "df['Income'] = imputer.fit_transform(df[['Income']])\n",
        "\n",
        "# Check for missing values\n",
        "missing_values = df.isnull().sum()\n",
        "missing_values"
      ],
      "metadata": {
        "id": "DxJkMlIxoOeY"
      },
      "execution_count": null,
      "outputs": []
    },
    {
      "cell_type": "markdown",
      "source": [
        "### <font color=\"green\">Challenge</font>"
      ],
      "metadata": {
        "id": "c8YEB-ged0YR"
      }
    },
    {
      "cell_type": "markdown",
      "source": [
        "Perform mode imputation using SimpleImputer to fill in missing values in the 'Income' column of the dataset from the URL: https://afterwork.ai/ds/ch/healthcare_and_pharmaceuticals_4tog.csv. Remember that mode imputation replaces missing values with the most frequent value in a column."
      ],
      "metadata": {
        "id": "ZgifSC-JoVRe"
      }
    },
    {
      "cell_type": "code",
      "source": [
        "# Write your code here\n"
      ],
      "metadata": {
        "id": "rzmSMuEpd0YR"
      },
      "execution_count": null,
      "outputs": []
    },
    {
      "cell_type": "code",
      "source": [
        "# Write your code here\n"
      ],
      "metadata": {
        "id": "B4wPZWF5pHzZ"
      },
      "execution_count": null,
      "outputs": []
    },
    {
      "cell_type": "markdown",
      "source": [
        "# 5. Machine Learning for Missing Data"
      ],
      "metadata": {
        "id": "vGme_jvweHRt"
      }
    },
    {
      "cell_type": "markdown",
      "source": [
        "## 5.1 K-Nearest Neighbours Imputation"
      ],
      "metadata": {
        "id": "iokF1a41eHRv"
      }
    },
    {
      "cell_type": "markdown",
      "source": [
        "K-Nearest Neighbours Imputation is a machine learning technique used to fill in missing values in a dataset based on the values of its nearest neighbors. This approach calculates the distance between data points and uses the values of the k nearest neighbors to impute missing values.\n",
        "\n"
      ],
      "metadata": {
        "id": "OibmpVDVpUR7"
      }
    },
    {
      "cell_type": "code",
      "execution_count": null,
      "metadata": {
        "id": "299YgTqKeHRw"
      },
      "outputs": [],
      "source": [
        "# Load the dataset\n",
        "df = pd.read_csv(\"https://afterwork.ai/ds/e/healthcare_and_pharmaceuticals_zulr.csv\")\n",
        "\n",
        "# Check for missing values\n",
        "missing_values = df.isnull().sum()\n",
        "missing_values"
      ]
    },
    {
      "cell_type": "code",
      "source": [
        "from sklearn.impute import KNNImputer\n",
        "\n",
        "# Initialize KNNImputer\n",
        "imputer = KNNImputer(n_neighbors=2)\n",
        "\n",
        "# Impute missing values\n",
        "df_imputed = imputer.fit_transform(df[['Age', 'Income']])\n",
        "\n",
        "# Update the original dataset with imputed values\n",
        "df[['Age', 'Income']] = df_imputed\n",
        "\n",
        "# Check for missing values\n",
        "missing_values = df.isnull().sum()\n",
        "missing_values"
      ],
      "metadata": {
        "id": "OiE14LTrpc2p"
      },
      "execution_count": null,
      "outputs": []
    },
    {
      "cell_type": "markdown",
      "source": [
        "### <font color=\"green\">Challenge</font>"
      ],
      "metadata": {
        "id": "eX5_yy7feHRx"
      }
    },
    {
      "cell_type": "markdown",
      "source": [
        "Use the dataset from the URL: https://afterwork.ai/ds/ch/healthcare_and_pharmaceuticals_8fdh.csv. Implement K-Nearest Neighbours Imputation to fill in missing values in the 'Income' column.  "
      ],
      "metadata": {
        "id": "Ev_uqHC5pyL4"
      }
    },
    {
      "cell_type": "code",
      "source": [
        "# Write your code here\n"
      ],
      "metadata": {
        "id": "Wjbx8i5SeHRx"
      },
      "execution_count": null,
      "outputs": []
    },
    {
      "cell_type": "code",
      "source": [
        "# Write your code here\n"
      ],
      "metadata": {
        "id": "1gxcuscdqANQ"
      },
      "execution_count": null,
      "outputs": []
    },
    {
      "cell_type": "markdown",
      "source": [
        "## 5.3 Decision Tree Imputation"
      ],
      "metadata": {
        "id": "nSGZwkTDeHR0"
      }
    },
    {
      "cell_type": "markdown",
      "source": [
        "Decision tree imputation is a machine learning technique used to fill in missing values in a dataset by predicting the missing values based on other variables in the dataset. This approach is important because it allows us to retain valuable data that would otherwise be lost due to missing values, leading to more accurate and reliable analysis results.\n",
        "\n"
      ],
      "metadata": {
        "id": "ycbD5JVkzIs1"
      }
    },
    {
      "cell_type": "code",
      "execution_count": null,
      "metadata": {
        "id": "f-czJtlXeHR0"
      },
      "outputs": [],
      "source": [
        "import pandas as pd\n",
        "from sklearn.tree import DecisionTreeRegressor\n",
        "from sklearn.model_selection import train_test_split\n",
        "\n",
        "# Load the dataset\n",
        "df = pd.read_csv(\"https://afterwork.ai/ds/e/healthcare_and_pharmaceuticals_vcy7u.csv\")\n",
        "\n",
        "# Check for missing values\n",
        "missing_values = df.isnull().sum()\n",
        "missing_values"
      ]
    },
    {
      "cell_type": "code",
      "source": [
        "# Identify the numerical variables with missing values\n",
        "numeric_cols = df.select_dtypes(include='number').columns.tolist()\n",
        "\n",
        "# Drop non-numeric columns\n",
        "numeric_data = df[numeric_cols]\n",
        "\n",
        "# Identify the numerical variables with missing values\n",
        "numeric_missing_cols = numeric_data.columns[numeric_data.isnull().any()].tolist()\n",
        "\n",
        "# Split the data into complete and incomplete datasets\n",
        "complete_data = numeric_data.dropna()\n",
        "incomplete_data = numeric_data[numeric_data.isnull().any(axis=1)]\n",
        "\n",
        "# Choose the appropriate decision tree algorithm\n",
        "dt = DecisionTreeRegressor()\n",
        "\n",
        "# Train the decision tree model\n",
        "X = complete_data.drop(numeric_missing_cols, axis=1)\n",
        "y = complete_data[numeric_missing_cols]\n",
        "dt.fit(X, y)\n",
        "\n",
        "# Predict the missing values\n",
        "X_pred = incomplete_data.drop(numeric_missing_cols, axis=1)\n",
        "y_pred = dt.predict(X_pred)\n",
        "\n",
        "# Fill in the missing values\n",
        "df.loc[df.isnull().any(axis=1), numeric_missing_cols] = y_pred\n",
        "\n",
        "# Check for missing values\n",
        "missing_values = df.isnull().sum()\n",
        "missing_values"
      ],
      "metadata": {
        "id": "fX-WWT4vrdLk"
      },
      "execution_count": null,
      "outputs": []
    },
    {
      "cell_type": "markdown",
      "source": [
        "**Explanation**: We import the specific modules from the scikit-learn library. We then load the dataset from a URL into a pandas DataFrame. We identify the numerical columns in the dataset and drop any non-numeric columns. We also identify the numerical columns with missing values and split the data into complete and incomplete datasets. We choose a Decision Tree Regressor algorithm and train the model using the complete dataset. We then predict the missing values in the incomplete dataset using the trained model. We fill in the missing values in the original dataset with the predicted values. Finally, we check for any remaining missing values in the dataset. The output of the code example would be the DataFrame with the missing values filled in using the Decision Tree Imputation technique. This allows us to have a complete dataset for further analysis and modeling."
      ],
      "metadata": {
        "id": "sJJSYRC7sqa3"
      }
    },
    {
      "cell_type": "markdown",
      "source": [
        "### <font color=\"green\">Challenge</font>"
      ],
      "metadata": {
        "id": "apmu-yQweHR1"
      }
    },
    {
      "cell_type": "markdown",
      "source": [
        "Apply the Decision Tree Imputer to fill in the missing values in the dataset located at https://bit.ly/49mNlOn."
      ],
      "metadata": {
        "id": "Xr3fMPAVt0Ol"
      }
    },
    {
      "cell_type": "code",
      "source": [
        "# Write your code here\n"
      ],
      "metadata": {
        "id": "1V0hryRzzPdO"
      },
      "execution_count": null,
      "outputs": []
    },
    {
      "cell_type": "markdown",
      "source": [
        "## 5.4 Gradient Boosting Imputation"
      ],
      "metadata": {
        "id": "wOxJzQmdeV3P"
      }
    },
    {
      "cell_type": "markdown",
      "source": [
        "Gradient Boosting Imputation is a machine learning technique that we use to impute missing values in a dataset. We train a gradient boosting model on the non-missing values and use it to predict the missing values. This approach takes into account the relationships between the features in the dataset, resulting in more accurate imputations."
      ],
      "metadata": {
        "id": "4UV7ow0Vu5rf"
      }
    },
    {
      "cell_type": "code",
      "execution_count": null,
      "metadata": {
        "id": "FnI6OvlGeV3y"
      },
      "outputs": [],
      "source": [
        "from sklearn.experimental import enable_hist_gradient_boosting\n",
        "from sklearn.ensemble import HistGradientBoostingRegressor\n",
        "from sklearn.impute import IterativeImputer\n",
        "\n",
        "# Load the dataset\n",
        "df = pd.read_csv(\"https://afterwork.ai/ds/e/healthcare_and_pharmaceuticals_vcy7u.csv\")\n",
        "\n",
        "# Check for missing values\n",
        "missing_values = df.isnull().sum()\n",
        "missing_values"
      ]
    },
    {
      "cell_type": "code",
      "source": [
        "# Initialize the Gradient Boosting Imputer\n",
        "imputer = IterativeImputer(estimator=HistGradientBoostingRegressor())\n",
        "\n",
        "# Drop non-numeric columns for imputation\n",
        "data_numeric = df.select_dtypes(include=['float64', 'int64'])\n",
        "\n",
        "# Fit the imputer on the dataset\n",
        "imputer.fit(data_numeric)\n",
        "\n",
        "# Impute missing values\n",
        "imputed_data = imputer.transform(data_numeric)\n",
        "\n",
        "# Convert back to DataFrame\n",
        "imputed_df = pd.DataFrame(imputed_data, columns=data_numeric.columns)\n",
        "\n",
        "# Check for missing values\n",
        "missing_values = imputed_df.isnull().sum()\n",
        "missing_values"
      ],
      "metadata": {
        "id": "sG0ksi8dvYGZ"
      },
      "execution_count": null,
      "outputs": []
    },
    {
      "cell_type": "markdown",
      "source": [
        "### <font color=\"green\">Challenge</font>"
      ],
      "metadata": {
        "id": "36ExvF7seV3z"
      }
    },
    {
      "cell_type": "markdown",
      "source": [
        "Implement Gradient Boosting Imputation to fill in the missing values in the 'healthcare_and_pharmaceuticals_f4u3.csv' dataset from the URL: https://afterwork.ai/ds/ch/healthcare_and_pharmaceuticals_f4u3.csv."
      ],
      "metadata": {
        "id": "gdTZUEU4xMM7"
      }
    },
    {
      "cell_type": "code",
      "source": [
        "# Write your code here\n"
      ],
      "metadata": {
        "id": "ZnI1H90seV3z"
      },
      "execution_count": null,
      "outputs": []
    },
    {
      "cell_type": "code",
      "source": [
        "# Write your code here\n"
      ],
      "metadata": {
        "id": "8QH8r_fBxmG9"
      },
      "execution_count": null,
      "outputs": []
    },
    {
      "cell_type": "markdown",
      "source": [
        "# 6. Evaluating the Effect of Handling Missing Data"
      ],
      "metadata": {
        "id": "HP0H_oDrOmqr"
      }
    },
    {
      "cell_type": "markdown",
      "source": [
        "Evaluating the performance of imputation is crucial to ensure that the imputed data are reliable and accurate. This can be done by comparing the statistical properties of the original and imputed data. To evaluate the performance of imputation, we first calculate the mean, median, mode, variance, and other statistical properties of the original and imputed data using the appropriate functions in Pandas and NumPy. Then, we compare these properties to see if there are any significant differences.\n",
        "\n",
        "If the mean values for the original and imputed data are the same, it suggests that the imputation strategy did not significantly alter the central tendency of the data. This can be seen as a desirable outcome in the context of missing data imputation because it means that the imputed values are consistent with the rest of the data.\n",
        "\n",
        "However, it's important to note that assessing imputation solely based on the means may not capture potential differences in the overall distribution of the data. Consider conducting a more comprehensive analysis, such as examining the variance, skewness, and other statistical properties, and visualizing the data distribution to ensure that imputation did not introduce any unintended biases."
      ],
      "metadata": {
        "id": "l4j1XFJVduyO"
      }
    },
    {
      "cell_type": "code",
      "source": [
        "# Load the dataset\n",
        "df = pd.read_csv('https://bit.ly/43MOXjp')\n",
        "\n",
        "# Preview missing values\n",
        "df.isnull().sum()"
      ],
      "metadata": {
        "id": "5kw3shldd-H3"
      },
      "execution_count": null,
      "outputs": []
    },
    {
      "cell_type": "code",
      "source": [
        "# Select only the numeric columns\n",
        "df_numeric = df.select_dtypes(include=[np.number])\n",
        "\n",
        "# Create a copy for original data comparison\n",
        "df_original = df_numeric.copy()\n",
        "\n",
        "# Impute missing values with mean\n",
        "imputer = SimpleImputer(strategy='median')\n",
        "df_imputed = imputer.fit_transform(df_numeric)\n",
        "df_imputed = pd.DataFrame(df_imputed, columns=df_numeric.columns)\n",
        "\n",
        "# Replace the numeric columns in the original DataFrame with the imputed values\n",
        "df[df_numeric.columns] = df_imputed\n",
        "\n",
        "# Preview missing values\n",
        "df.isnull().sum()"
      ],
      "metadata": {
        "id": "2ke2yss4d5zh"
      },
      "execution_count": null,
      "outputs": []
    },
    {
      "cell_type": "code",
      "source": [
        "# Calculate statistical properties for original and imputed data\n",
        "original_statistics = df_original.describe()\n",
        "imputed_statistics = df_imputed.describe()\n",
        "\n",
        "# Print statistical properties for both original and imputed data\n",
        "print(\"Original Data Statistics:\")\n",
        "print(original_statistics)\n",
        "print(\"\\nImputed Data Statistics:\")\n",
        "print(imputed_statistics)"
      ],
      "metadata": {
        "id": "SDGRiG_Ndw-b"
      },
      "execution_count": null,
      "outputs": []
    },
    {
      "cell_type": "markdown",
      "source": [
        "### <font color=\"green\">Challenge</font>"
      ],
      "metadata": {
        "id": "0i6Ne427Omq6"
      }
    },
    {
      "cell_type": "markdown",
      "source": [
        "Using the dataset from https://bit.ly/3TIvdbP, impute the missing values in the 'Experience' column using the mean, median, or mode, and then calculate the statistical properties for the original and imputed data. Compare these properties to see if there are any significant differences."
      ],
      "metadata": {
        "id": "vsQetAR5ireo"
      }
    },
    {
      "cell_type": "code",
      "execution_count": null,
      "metadata": {
        "id": "B_QQTQsXOmq6"
      },
      "outputs": [],
      "source": [
        "# Load the dataset\n",
        "df = pd.read_csv('https://bit.ly/3TIvdbP')\n",
        "\n",
        "# Preview missing values\n",
        "df.isnull().sum()"
      ]
    },
    {
      "cell_type": "code",
      "source": [
        "# Create a copy for original data comparison\n",
        "df_original = df.copy()\n",
        "# Write your code here\n",
        "\n",
        "# Impute missing values in 'Experience' column with mean\n",
        "\n",
        "\n",
        "# Preview missing values\n"
      ],
      "metadata": {
        "id": "lVkOzt9IjlMP"
      },
      "execution_count": null,
      "outputs": []
    },
    {
      "cell_type": "code",
      "source": [
        "# Impute missing values in 'Experience' column with mode\n",
        "\n",
        "\n",
        "# Preview missing values\n"
      ],
      "metadata": {
        "id": "fn6xClxejwag"
      },
      "execution_count": null,
      "outputs": []
    },
    {
      "cell_type": "code",
      "source": [
        "# Calculate and compare statistical properties\n",
        "\n",
        "# Print statistical properties for original and imputed data\n"
      ],
      "metadata": {
        "id": "eQagiaqnjuEs"
      },
      "execution_count": null,
      "outputs": []
    }
  ]
}